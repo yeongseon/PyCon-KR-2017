{
 "cells": [
  {
   "attachments": {},
   "cell_type": "markdown",
   "metadata": {
    "slideshow": {
     "slide_type": "slide"
    }
   },
   "source": [
    "<img align=\"left\" style=\"width: 20%\" src=\"https://drive.google.com/uc?export=view&id=0B2icrrA3UYBlOUtoc0NGS3hFQnM\">\n",
    "\n",
    "\n",
    "<br>\n",
    "<br>\n",
    "<br>\n",
    "\n",
    "<div style=\"text-align: center; font-weight: bold; font-size: 250%;\">\n",
    "SQLAlchemy and Alembic\n",
    "</div>\n",
    "\n",
    "<br>\n",
    "<br>\n",
    "<br>\n",
    "\n",
    "<div style=\"text-align: center\"> SAP Labs Korea </div>\n",
    "<div style=\"text-align: center\"> 최영선 </div>\n",
    "\n",
    "<br>\n",
    "<br>"
   ]
  },
  {
   "cell_type": "markdown",
   "metadata": {
    "slideshow": {
     "slide_type": "slide"
    }
   },
   "source": [
    "\n",
    "<img align=\"middle\" src=\"https://2.bp.blogspot.com/-u5RzeZjX5Ew/T7CzT9vFgyI/AAAAAAAABJ8/fDbn24qYajg/s1600/Isaac-Newton.jpg\" >\n",
    "\n",
    "<div style=\"text-align: center\">\"If I have seen future it is by importing from the code of giants\" </div>\n",
    "<div style=\"text-align: right\"> Definitely Not isaac Newton </div>"
   ]
  },
  {
   "cell_type": "markdown",
   "metadata": {
    "slideshow": {
     "slide_type": "slide"
    }
   },
   "source": [
    "$ pip install yeongseon"
   ]
  },
  {
   "cell_type": "code",
   "execution_count": 1,
   "metadata": {
    "slideshow": {
     "slide_type": "slide"
    }
   },
   "outputs": [
    {
     "name": "stdout",
     "output_type": "stream",
     "text": [
      "yeongseon choe\n",
      "python infrastructure devloper\n"
     ]
    }
   ],
   "source": [
    "import yeongseon\n",
    "\n",
    "print(yeongseon.name)\n",
    "print(yeongseon.job)"
   ]
  },
  {
   "cell_type": "markdown",
   "metadata": {
    "slideshow": {
     "slide_type": "slide"
    }
   },
   "source": [
    "## Python Database Programming "
   ]
  },
  {
   "cell_type": "markdown",
   "metadata": {
    "slideshow": {
     "slide_type": "slide"
    }
   },
   "source": [
    "#### Define Tables\n",
    "\n",
    "| Users                        ||\n",
    "| :------------ | :-----------: |\n",
    "| user_id       | int           |\n",
    "| user_name     | varchar(32)   |\n",
    "| user_email    | varchar(32)   |\n",
    "\n",
    "| Programs                     ||\n",
    "| :------------ | :-----------: |\n",
    "| program_id    | int           |\n",
    "| program_name  | varchar(32)   |\n",
    "| user_id       | varchar(32)   |\n",
    "\n",
    "| Program_enrollment      ||\n",
    "| :------------ | :-----------: |\n",
    "| program_id    | int           |\n",
    "| user_id       | int           |"
   ]
  },
  {
   "cell_type": "markdown",
   "metadata": {
    "slideshow": {
     "slide_type": "slide"
    }
   },
   "source": [
    "## DBAPI\n",
    "\n",
    "- PEP 0249 -- Python Database API Specification v2.0\n",
    "- Python modules are used to access database\n",
    "- There are many DBAPI implementations availabls"
   ]
  },
  {
   "cell_type": "code",
   "execution_count": 2,
   "metadata": {},
   "outputs": [
    {
     "ename": "OperationalError",
     "evalue": "table users already exists",
     "output_type": "error",
     "traceback": [
      "\u001b[0;31m---------------------------------------------------------------------------\u001b[0m",
      "\u001b[0;31mOperationalError\u001b[0m                          Traceback (most recent call last)",
      "\u001b[0;32m<ipython-input-2-38619df34d42>\u001b[0m in \u001b[0;36m<module>\u001b[0;34m()\u001b[0m\n\u001b[1;32m      9\u001b[0m user_email text not null);\n\u001b[1;32m     10\u001b[0m \"\"\"\n\u001b[0;32m---> 11\u001b[0;31m \u001b[0mcurs\u001b[0m\u001b[0;34m.\u001b[0m\u001b[0mexecute\u001b[0m\u001b[0;34m(\u001b[0m\u001b[0msql_stmt\u001b[0m\u001b[0;34m)\u001b[0m\u001b[0;34m\u001b[0m\u001b[0m\n\u001b[0m\u001b[1;32m     12\u001b[0m \u001b[0mconn\u001b[0m\u001b[0;34m.\u001b[0m\u001b[0mcommit\u001b[0m\u001b[0;34m(\u001b[0m\u001b[0;34m)\u001b[0m\u001b[0;34m\u001b[0m\u001b[0m\n\u001b[1;32m     13\u001b[0m \u001b[0;34m\u001b[0m\u001b[0m\n",
      "\u001b[0;31mOperationalError\u001b[0m: table users already exists"
     ]
    }
   ],
   "source": [
    "import sqlite3\n",
    "conn = sqlite3.connect('dbapi.sqlite')\n",
    "\n",
    "curs = conn.cursor()\n",
    "sql_stmt = \"\"\"\n",
    "CREATE TABLE users (\n",
    "user_id integer primary key autoincrement,\n",
    "user_name text not null,\n",
    "user_email text not null);\n",
    "\"\"\"\n",
    "curs.execute(sql_stmt)\n",
    "conn.commit()\n",
    "\n",
    "curs = conn.cursor()\n",
    "sql_stmt = \"\"\"\n",
    "INSERT INTO users (user_name, user_email)\n",
    "VALUES ('최영선', 'yeongseon.choe@pycon.kr')\n",
    "\"\"\"\n",
    "curs.execute(sql_stmt)\n",
    "conn.commit()\n",
    "conn.close()"
   ]
  },
  {
   "cell_type": "markdown",
   "metadata": {
    "slideshow": {
     "slide_type": "slide"
    }
   },
   "source": [
    "$ pip install pymysql"
   ]
  },
  {
   "cell_type": "markdown",
   "metadata": {
    "slideshow": {
     "slide_type": "skip"
    }
   },
   "source": [
    "import pymysql\n",
    "\n",
    "conn = pymysql.connect(host='localhost', user='test', password='test',db = 'mysql.db')\n",
    "\n",
    "curs = conn.cursor()\n",
    "sql_stmt = \"\"\"\n",
    "CREATE TABLE users (\n",
    "user_id integer primary key autoincrement,\n",
    "user_name text not null,\n",
    "user_email text not null);\n",
    "\"\"\"\n",
    "curs.execute(sql_stmt)\n",
    "conn.commit()\n",
    "\n",
    "curs = conn.cursor()\n",
    "sql_stmt = \"\"\"\n",
    "INSERT INTO users (user_name, user_email)\n",
    "VALUES ('최영선', 'yeongseon.choe@pycon.kr')\n",
    "\"\"\"\n",
    "curs.execute(sql_stmt)\n",
    "conn.commit()\n",
    "conn.close()"
   ]
  },
  {
   "cell_type": "markdown",
   "metadata": {
    "slideshow": {
     "slide_type": "slide"
    }
   },
   "source": [
    "## What is the SQLAlchemy ?\n",
    "\n",
    "\n",
    "- The Database Toolkit for Python\n",
    "- Object Relational Mapper (ORM)implementation.\n",
    "- Introducted 2005\n",
    "- end-to-end system for working with Python DBAPI, relational database, and the SQL language\n",
    "- SQLAlchemy 1.2.0b2 released (Jul 2017)\n"
   ]
  },
  {
   "cell_type": "markdown",
   "metadata": {
    "slideshow": {
     "slide_type": "skip"
    }
   },
   "source": [
    "\n",
    "## Why use SQLAlchemy\n",
    "- SQLAlchemy provoices a generallized interface for creating and executing database-agnostic code without needing to write SQL statements."
   ]
  },
  {
   "cell_type": "markdown",
   "metadata": {
    "slideshow": {
     "slide_type": "slide"
    }
   },
   "source": [
    "## SQLAlchemyOverview\n",
    "\n",
    "<img align=\"middle\" src=\"http://docs.sqlalchemy.org/en/latest/_images/sqla_arch_small.png\" >\n"
   ]
  },
  {
   "cell_type": "markdown",
   "metadata": {
    "slideshow": {
     "slide_type": "slide"
    }
   },
   "source": [
    "### Installing SQLAlchemy\n",
    "\n",
    "$ pip install sqlalchemy"
   ]
  },
  {
   "cell_type": "markdown",
   "metadata": {
    "collapsed": true,
    "slideshow": {
     "slide_type": "-"
    }
   },
   "source": [
    "### Version Check"
   ]
  },
  {
   "cell_type": "code",
   "execution_count": null,
   "metadata": {
    "slideshow": {
     "slide_type": "-"
    }
   },
   "outputs": [],
   "source": [
    "import sqlalchemy\n",
    "\n",
    "print( sqlalchemy.__version__)"
   ]
  },
  {
   "cell_type": "markdown",
   "metadata": {
    "collapsed": true,
    "slideshow": {
     "slide_type": "slide"
    }
   },
   "source": [
    "### Connectiong"
   ]
  },
  {
   "cell_type": "code",
   "execution_count": null,
   "metadata": {},
   "outputs": [],
   "source": [
    "from sqlalchemy import create_engine\n",
    "\n",
    "engine = create_engine(\"sqlite:///sqlalchemy.sqlite\", echo=True, convert_unicode=True)\n",
    "\n",
    "print(engine)"
   ]
  },
  {
   "cell_type": "markdown",
   "metadata": {
    "slideshow": {
     "slide_type": "slide"
    }
   },
   "source": [
    "### Declaring a Mapping\n",
    "\n",
    "- A Table that represents a table in a database\n",
    "- A mapper that maps a Python class to a table in database\n",
    "- A class object that defines how a database record maps to a normal Python object"
   ]
  },
  {
   "cell_type": "markdown",
   "metadata": {},
   "source": [
    "#### Define Models\n",
    "\n",
    "| Users                        ||\n",
    "| :------------ | :-----------: |\n",
    "| user_id       | int           |\n",
    "| user_name     | varchar(32)   |\n",
    "| user_email    | varchar(32)   |"
   ]
  },
  {
   "cell_type": "code",
   "execution_count": null,
   "metadata": {
    "collapsed": true,
    "slideshow": {
     "slide_type": "skip"
    }
   },
   "outputs": [],
   "source": [
    "from sqlalchemy.ext.declarative import declarative_base\n",
    "from sqlalchemy import Column, Integer, String\n",
    "\n",
    "Base = declarative_base()\n",
    "\n",
    "\n",
    "class User(Base):\n",
    "    __tablename__ = \"users\"\n",
    "    user_id = Column(Integer, primary_key=True,  autoincrement=True)\n",
    "    user_name = Column(String(32), unique=True)\n",
    "    user_email = Column(String(32), unique=True)\n",
    "    \n",
    "    def __init__(self, user_name, user_email):\n",
    "        self.user_name = user_name\n",
    "        self.user_email = user_email\n",
    "    \n",
    "    def __repr__(self):\n",
    "        return \"<User('%d', '%s, %s')>\" % (self.user_id, self.user_name, self.user_email)\n",
    "    \n",
    "class Program(Base):\n",
    "    __tablename__ = \"programs\"\n",
    "    program_id = Column(Integer, primary_key=True, autoincrement=True)\n",
    "    program_name = Column(String(32), unique=True)\n",
    "    \n",
    "    def __init__(self, program_id, program_name):\n",
    "        self.program_id = program_id\n",
    "        self.program_name = program_name\n",
    "        \n",
    "    def __repr__(self):\n",
    "        return \"<Program('%d', '%s')\" % (self.program_id, self.program_name)\n",
    "    \n",
    "class ProgramEnrollment(Base):\n",
    "    __tablename__ = \"program_enrollment\"\n",
    "    program_id = Column(Integer, primary_key = True)\n",
    "    user_id = Column(Integer, primary_key = True)   \n",
    "    \n",
    "    def __init__(self, program_id, user_id):\n",
    "        self.program_id = program_id\n",
    "        self.user_id = user_id\n",
    "    \n",
    "    def __repr__(self):\n",
    "        return \"<ProgramEnrollment('%s', '%s')\" % (self.program_id, self.user_id)"
   ]
  },
  {
   "cell_type": "code",
   "execution_count": null,
   "metadata": {
    "collapsed": true,
    "slideshow": {
     "slide_type": "-"
    }
   },
   "outputs": [],
   "source": [
    "from sqlalchemy.ext.declarative import declarative_base\n",
    "from sqlalchemy import Column, Integer, String\n",
    "\n",
    "Base = declarative_base()\n",
    "\n",
    "\n",
    "class User(Base):\n",
    "    __tablename__ = \"users\"\n",
    "    user_id = Column(Integer, primary_key=True,  autoincrement=True)\n",
    "    user_name = Column(String(32), unique=True)\n",
    "    user_email = Column(String(32), unique=True)\n",
    "    \n",
    "    def __init__(self, user_name, user_email):\n",
    "        self.user_name = user_name\n",
    "        self.user_email = user_email\n",
    "    \n",
    "    def __repr__(self):\n",
    "        return \"<User('%d', '%s, %s')>\" % (self.user_id, self.user_name, self.user_email)"
   ]
  },
  {
   "cell_type": "markdown",
   "metadata": {
    "slideshow": {
     "slide_type": "slide"
    }
   },
   "source": [
    "### Creating a Schema"
   ]
  },
  {
   "cell_type": "code",
   "execution_count": null,
   "metadata": {},
   "outputs": [],
   "source": [
    "User.__table__"
   ]
  },
  {
   "cell_type": "code",
   "execution_count": null,
   "metadata": {
    "slideshow": {
     "slide_type": "skip"
    }
   },
   "outputs": [],
   "source": [
    "Program.__table__"
   ]
  },
  {
   "cell_type": "code",
   "execution_count": null,
   "metadata": {
    "slideshow": {
     "slide_type": "skip"
    }
   },
   "outputs": [],
   "source": [
    "ProgramEnrollment.__table__"
   ]
  },
  {
   "cell_type": "code",
   "execution_count": null,
   "metadata": {},
   "outputs": [],
   "source": [
    "Base.metadata.create_all(bind=engine)"
   ]
  },
  {
   "cell_type": "markdown",
   "metadata": {
    "slideshow": {
     "slide_type": "slide"
    }
   },
   "source": [
    "### Creating a Session"
   ]
  },
  {
   "cell_type": "code",
   "execution_count": null,
   "metadata": {},
   "outputs": [],
   "source": [
    "from sqlalchemy.orm import sessionmaker\n",
    "\n",
    "Session = sessionmaker(bind=engine)\n",
    "\n",
    "session = Session()\n",
    "\n",
    "print(session)"
   ]
  },
  {
   "cell_type": "code",
   "execution_count": null,
   "metadata": {
    "collapsed": true,
    "slideshow": {
     "slide_type": "-"
    }
   },
   "outputs": [],
   "source": [
    "session.close()"
   ]
  },
  {
   "cell_type": "markdown",
   "metadata": {
    "slideshow": {
     "slide_type": "slide"
    }
   },
   "source": [
    "### Adding and Updating Object\n",
    "\n",
    "#### Adding Objects"
   ]
  },
  {
   "cell_type": "code",
   "execution_count": null,
   "metadata": {},
   "outputs": [],
   "source": [
    "Session = sessionmaker(bind=engine)\n",
    "\n",
    "session = Session()\n",
    "\n",
    "user = User(\"최영선\", \"yeongseon.choe@pycon.kr\")\n",
    "\n",
    "session.add(user)\n",
    "session.commit()"
   ]
  },
  {
   "cell_type": "code",
   "execution_count": null,
   "metadata": {
    "slideshow": {
     "slide_type": "slide"
    }
   },
   "outputs": [],
   "source": [
    "session.add_all([\n",
    "    User(\"배준현\", \"junhyun.bae@pycon.kr\"),\n",
    "    User(\"김준기\", \"junki.kim@pycon.kr\")]\n",
    ")\n",
    "session.commit()"
   ]
  },
  {
   "cell_type": "code",
   "execution_count": null,
   "metadata": {},
   "outputs": [],
   "source": [
    "user1 = User(\"강대성\", \"daesung.kang@pycon.kr\")\n",
    "user2 = User(\"한성준\", \"sungjun.han@pycon.kr\")\n",
    "\n",
    "session.bulk_save_objects([user1, user2])\n",
    "session.commit()"
   ]
  },
  {
   "cell_type": "markdown",
   "metadata": {
    "slideshow": {
     "slide_type": "slide"
    }
   },
   "source": [
    "#### Updating Objects"
   ]
  },
  {
   "cell_type": "code",
   "execution_count": null,
   "metadata": {},
   "outputs": [],
   "source": [
    "user = session.query(User).filter_by().first() \n",
    "print(user)"
   ]
  },
  {
   "cell_type": "code",
   "execution_count": null,
   "metadata": {},
   "outputs": [],
   "source": [
    "user.user_name = 'Yeongseon Choe'\n",
    "print(user)\n",
    "session.commit()"
   ]
  },
  {
   "cell_type": "code",
   "execution_count": null,
   "metadata": {},
   "outputs": [],
   "source": [
    "user = session.query(User).filter_by().first() \n",
    "print(user)"
   ]
  },
  {
   "cell_type": "markdown",
   "metadata": {
    "slideshow": {
     "slide_type": "slide"
    }
   },
   "source": [
    "#### Querying"
   ]
  },
  {
   "cell_type": "code",
   "execution_count": null,
   "metadata": {},
   "outputs": [],
   "source": [
    "for user in session.query(User):\n",
    "    print(user)"
   ]
  },
  {
   "cell_type": "code",
   "execution_count": null,
   "metadata": {
    "slideshow": {
     "slide_type": "slide"
    }
   },
   "outputs": [],
   "source": [
    "for user in session.query(User).order_by(User.user_email):\n",
    "    print(user)"
   ]
  },
  {
   "cell_type": "markdown",
   "metadata": {},
   "source": [
    "descending order"
   ]
  },
  {
   "cell_type": "code",
   "execution_count": null,
   "metadata": {},
   "outputs": [],
   "source": [
    "from sqlalchemy import desc\n",
    "for user in session.query(User).order_by(desc(User.user_email)):\n",
    "    print(user)"
   ]
  },
  {
   "cell_type": "markdown",
   "metadata": {
    "slideshow": {
     "slide_type": "slide"
    }
   },
   "source": [
    "- fileter method\n",
    "    - equals <br>\n",
    "    query.filetr(User.name == 'Yeongseon Choe')\n",
    "    - not equals <br>\n",
    "    query.filetr(User.name != 'Yeongseon Choe')\n",
    "    - like <br>\n",
    "    query.filetr(User.name.like('Yeongseon Choe')"
   ]
  },
  {
   "cell_type": "code",
   "execution_count": null,
   "metadata": {},
   "outputs": [],
   "source": [
    "session.query(User).filter(User.user_name =='Yeongseon Choe')"
   ]
  },
  {
   "cell_type": "markdown",
   "metadata": {
    "slideshow": {
     "slide_type": "slide"
    }
   },
   "source": [
    "- Returning Lists and Scalars\n",
    "    - all()\n",
    "    - first()\n",
    "    - one()"
   ]
  },
  {
   "cell_type": "code",
   "execution_count": null,
   "metadata": {},
   "outputs": [],
   "source": [
    "users = session.query(User).filter(User.user_name == 'Yeongseon Choe').all()\n",
    "print(users)"
   ]
  },
  {
   "cell_type": "code",
   "execution_count": null,
   "metadata": {},
   "outputs": [],
   "source": [
    "users = session.query(User).filter(User.user_name == 'Yeongseon Choe').first()\n",
    "print(users)"
   ]
  },
  {
   "cell_type": "code",
   "execution_count": null,
   "metadata": {
    "slideshow": {
     "slide_type": "-"
    }
   },
   "outputs": [],
   "source": [
    "users = session.query(User).filter(User.user_name == 'Yeongseon Choe').one()\n",
    "print(users)"
   ]
  },
  {
   "cell_type": "markdown",
   "metadata": {
    "slideshow": {
     "slide_type": "slide"
    }
   },
   "source": [
    "#### Deleting Object"
   ]
  },
  {
   "cell_type": "code",
   "execution_count": null,
   "metadata": {},
   "outputs": [],
   "source": [
    "user = session.query(User).filter(User.user_name == 'Yeongseon Choe').first()\n",
    "session.delete(user)\n",
    "session.commit()"
   ]
  },
  {
   "cell_type": "markdown",
   "metadata": {
    "slideshow": {
     "slide_type": "slide"
    }
   },
   "source": [
    "#### Define Models\n",
    "\n",
    "| Users                        ||\n",
    "| :------------ | :-----------: |\n",
    "| user_id       | int           |\n",
    "| user_name     | varchar(32)   |\n",
    "| user_email    | varchar(32)   |\n",
    "\n",
    "| Programs                     ||\n",
    "| :------------ | :-----------: |\n",
    "| program_id    | int           |\n",
    "| program_name  | varchar(32)   |\n",
    "| user_id       | varchar(32)   |\n",
    "\n",
    "| Program_enrollment      ||\n",
    "| :------------ | :-----------: |\n",
    "| program_id | int           |\n",
    "| user_id       | int           |"
   ]
  },
  {
   "cell_type": "code",
   "execution_count": null,
   "metadata": {
    "collapsed": true,
    "slideshow": {
     "slide_type": "-"
    }
   },
   "outputs": [],
   "source": [
    "from sqlalchemy.ext.declarative import declarative_base\n",
    "from sqlalchemy import Column, Integer, String\n",
    "\n",
    "Base = declarative_base()\n",
    "    \n",
    "class Program(Base):\n",
    "    __tablename__ = \"programs\"\n",
    "    program_id = Column(Integer, primary_key=True, autoincrement=True)\n",
    "    program_name = Column(String(32), unique=True)\n",
    "    \n",
    "    def __init__(self, program_id, program_name):\n",
    "        self.program_id = program_id\n",
    "        self.program_name = program_name\n",
    "        \n",
    "    def __repr__(self):\n",
    "        return \"<Program('%d', '%s')\" % (self.program_id, self.program_name)\n",
    "    \n",
    "class ProgramEnrollment(Base):\n",
    "    __tablename__ = \"program_enrollment\"\n",
    "    program_id = Column(Integer, primary_key = True)\n",
    "    user_id = Column(Integer, primary_key = True)   \n",
    "    \n",
    "    def __init__(self, program_id, user_id):\n",
    "        self.program_id = program_id\n",
    "        self.user_id = user_id\n",
    "    \n",
    "    def __repr__(self):\n",
    "        return \"<ProgramEnrollment('%s', '%s')\" % (self.program_id, self.user_id)\n",
    "    \n",
    "# Base.metadata.create_all(bind=engine)"
   ]
  },
  {
   "cell_type": "markdown",
   "metadata": {
    "slideshow": {
     "slide_type": "slide"
    }
   },
   "source": [
    "## Alembic\n",
    "\n",
    "### Database migration tool\n",
    "- creation\n",
    "- management\n",
    "- invocation of change managment"
   ]
  },
  {
   "cell_type": "markdown",
   "metadata": {
    "slideshow": {
     "slide_type": "slide"
    }
   },
   "source": [
    "### Installing Alembic\n",
    "\n",
    "$ pip install alembic"
   ]
  },
  {
   "cell_type": "markdown",
   "metadata": {},
   "source": [
    "### Usage\n",
    "\n",
    "usage: alembic [-h] [-c CONFIG] [-n NAME] [-x X] [--raiseerr]\n",
    "               {branches,current,downgrade,edit,heads,history,init,list_templates,merge,revision,show,stamp,upgrade}     \n"
   ]
  },
  {
   "cell_type": "markdown",
   "metadata": {
    "slideshow": {
     "slide_type": "slide"
    }
   },
   "source": [
    "### Creating an Environment\n",
    "\n",
    "$ alembic init 'alembic' <br>\n",
    "\n",
    "```\n",
    "\n",
    "project\n",
    "│          alembic.ini\n",
    "└─── alembic\n",
    "      │    env.py\n",
    "      │    README\n",
    "      │    script.py.mako      \n",
    "      └─ versions\n",
    "```\n"
   ]
  },
  {
   "cell_type": "markdown",
   "metadata": {
    "slideshow": {
     "slide_type": "slide"
    }
   },
   "source": [
    "  \n",
    "$ vi alembic.ini\n",
    "\n",
    "<pre>\n",
    "# A generic, single database configuration.\n",
    "\n",
    "[alembic]\n",
    "# path to migration scripts\n",
    "script_location = alembic\n",
    "\n",
    "# template used to generate migration files\n",
    "# file_template = %%(rev)s_%%(slug)s\n",
    "\n",
    "# timezone to use when rendering the date\n",
    "# within the migration file as well as the filename.\n",
    "# string value is passed to dateutil.tz.gettz()\n",
    "# leave blank for localtime\n",
    "# timezone =\n",
    "\n",
    "# max length of characters to apply to the\n",
    "# \"slug\" field\n",
    "#truncate_slug_length = 40\n",
    "\n",
    "# set to 'true' to run the environment during\n",
    "# the 'revision' command, regardless of autogenerate\n",
    "# revision_environment = false\n",
    "\n",
    "# set to 'true' to allow .pyc and .pyo files without\n",
    "# a source .py file to be detected as revisions in the\n",
    "# versions/ directory\n",
    "# sourceless = false\n",
    "\n",
    "# version location specification; this defaults\n",
    "# to alembic/versions.  When using multiple version\n",
    "# directories, initial revisions must be specified with --version-path\n",
    "# version_locations = %(here)s/bar %(here)s/bat alembic/versions\n",
    "\n",
    "# the output encoding used when revision files\n",
    "# are written from script.py.mako\n",
    "# output_encoding = utf-8\n",
    "\n",
    "sqlalchemy.url = sqlite:///alembic.sqlite\n",
    "\n",
    "\n",
    "# Logging configuration\n",
    "[loggers]\n",
    "keys = root,sqlalchemy,alembic\n",
    "\n",
    "[handlers]\n",
    "keys = console\n",
    "\n",
    "[formatters]\n",
    "keys = generic\n",
    "\n",
    "[logger_root]\n",
    "level = WARN\n",
    "handlers = console\n",
    "qualname =\n",
    "\n",
    "[logger_sqlalchemy]\n",
    "level = WARN\n",
    "handlers =\n",
    "qualname = sqlalchemy.engine\n",
    "\n",
    "[logger_alembic]\n",
    "level = INFO\n",
    "handlers =\n",
    "qualname = alembic\n",
    "\n",
    "[handler_console]\n",
    "class = StreamHandler\n",
    "args = (sys.stderr,)\n",
    "level = NOTSET\n",
    "formatter = generic\n",
    "\n",
    "[formatter_generic]\n",
    "format = %(levelname)-5.5s [%(name)s] %(message)s\n",
    "datefmt = %H:%M:%S\n",
    "\n",
    "</pre>"
   ]
  },
  {
   "cell_type": "markdown",
   "metadata": {
    "slideshow": {
     "slide_type": "slide"
    }
   },
   "source": [
    "### Creating a Migration Script\n",
    "\n",
    "$ alembic revision -m \"create tables\"\n",
    "\n",
    "<br>\n",
    "```\n",
    "project\n",
    "│          alembic.ini\n",
    "└─── alembic\n",
    "      │    env.py\n",
    "      │    README\n",
    "      │    script.py.mako      \n",
    "      └─ versions\n",
    "          │   8de6f753dcac_create_tables.pyy\n",
    "```"
   ]
  },
  {
   "cell_type": "markdown",
   "metadata": {
    "slideshow": {
     "slide_type": "slide"
    }
   },
   "source": [
    "$ vi alembic/versions/8de6f753dcac_create_tables.py"
   ]
  },
  {
   "cell_type": "code",
   "execution_count": null,
   "metadata": {
    "collapsed": true
   },
   "outputs": [],
   "source": [
    "\"\"\"create tables\n",
    "\n",
    "Revision ID: 8de6f753dcac\n",
    "Revises: \n",
    "Create Date: 2017-07-29 22:19:30.546010\n",
    "\n",
    "\"\"\"\n",
    "from alembic import op\n",
    "import sqlalchemy as sa\n",
    "\n",
    "\n",
    "# revision identifiers, used by Alembic.\n",
    "revision = '8de6f753dcac'\n",
    "down_revision = None\n",
    "branch_labels = None\n",
    "depends_on = None\n",
    "\n",
    "\n",
    "def upgrade():\n",
    "    pass\n",
    "\n",
    "\n",
    "def downgrade():\n",
    "    pass\n"
   ]
  },
  {
   "cell_type": "code",
   "execution_count": null,
   "metadata": {
    "collapsed": true
   },
   "outputs": [],
   "source": [
    "\"\"\"create tables\n",
    "\n",
    "Revision ID: 8de6f753dcac\n",
    "Revises: \n",
    "Create Date: 2017-07-29 22:19:30.546010\n",
    "\n",
    "\"\"\"\n",
    "from alembic import op\n",
    "import sqlalchemy as sa\n",
    "\n",
    "\n",
    "# revision identifiers, used by Alembic.\n",
    "revision = '8de6f753dcac'\n",
    "down_revision = None\n",
    "branch_labels = None\n",
    "depends_on = None\n",
    "\n",
    "\n",
    "def upgrade():\n",
    "    op.create_table(\n",
    "        'programs',\n",
    "        sa.Column('program_id', sa.Integer, primary_key=True, autoincrement=True),\n",
    "        sa.Column('program_name', sa.String(32), unique=True, nullable=False),\n",
    "    )\n",
    "    op.create_table(\n",
    "        'program_enrollment',\n",
    "        sa.Column('program_id', sa.Integer, primary_key=True),\n",
    "        sa.Column('user_id', sa.Integer, primary_key=True),\n",
    "    )\n",
    "\n",
    "def downgrade():\n",
    "    op.drop_table('programs')\n",
    "    op.drop_table('program_enrollment')\n"
   ]
  },
  {
   "cell_type": "markdown",
   "metadata": {
    "slideshow": {
     "slide_type": "slide"
    }
   },
   "source": [
    " $ alembic.exe upgrade head\n",
    " \n",
    "INFO  [alembic.runtime.migration] Context impl SQLiteImpl. <br>\n",
    "INFO  [alembic.runtime.migration] Will assume non-transactional DDL. <br>\n",
    "INFO  [alembic.runtime.migration] Running upgrade  -> 8de6f753dcac, create tables\n"
   ]
  }
 ],
 "metadata": {
  "celltoolbar": "Slideshow",
  "kernelspec": {
   "display_name": "Python 3",
   "language": "python",
   "name": "python3"
  },
  "language_info": {
   "codemirror_mode": {
    "name": "ipython",
    "version": 3
   },
   "file_extension": ".py",
   "mimetype": "text/x-python",
   "name": "python",
   "nbconvert_exporter": "python",
   "pygments_lexer": "ipython3",
   "version": "3.5.2"
  }
 },
 "nbformat": 4,
 "nbformat_minor": 2
}
