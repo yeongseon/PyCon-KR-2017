{
 "cells": [
  {
   "cell_type": "markdown",
   "metadata": {
    "slideshow": {
     "slide_type": "slide"
    }
   },
   "source": [
    "<img align=\"left\" style=\"width: 20%\" src=\"https://drive.google.com/uc?export=view&id=0B2icrrA3UYBlOUtoc0NGS3hFQnM\">\n",
    "\n",
    "\n",
    "<br>\n",
    "<br>\n",
    "<br>\n",
    "\n",
    "<div style=\"text-align: center; font-weight: bold; font-size: 250%;\">\n",
    "SQLAlchemy and Alembic\n",
    "</div>\n",
    "\n",
    "<br>\n",
    "<br>\n",
    "<br>\n",
    "\n",
    "<div style=\"text-align: center\"> SAP Labs Korea </div>\n",
    "<div style=\"text-align: center\"> 최영선 </div>\n",
    "\n",
    "<br>\n",
    "<br>"
   ]
  },
  {
   "cell_type": "markdown",
   "metadata": {
    "slideshow": {
     "slide_type": "slide"
    }
   },
   "source": [
    "\n",
    "<img align=\"middle\" src=\"https://2.bp.blogspot.com/-u5RzeZjX5Ew/T7CzT9vFgyI/AAAAAAAABJ8/fDbn24qYajg/s1600/Isaac-Newton.jpg\" >\n",
    "\n",
    "<div style=\"text-align: center\">\"If I have seen future it is by importing from the code of giants\" </div>\n",
    "<div style=\"text-align: right\"> Definitely Not isaac Newton </div>"
   ]
  },
  {
   "cell_type": "markdown",
   "metadata": {
    "slideshow": {
     "slide_type": "slide"
    }
   },
   "source": [
    "$ pip install yeongseon"
   ]
  },
  {
   "cell_type": "code",
   "execution_count": 1,
   "metadata": {
    "slideshow": {
     "slide_type": "slide"
    }
   },
   "outputs": [
    {
     "name": "stdout",
     "output_type": "stream",
     "text": [
      "yeongseon choe\n",
      "python infrastructure devloper\n"
     ]
    }
   ],
   "source": [
    "import yeongseon\n",
    "\n",
    "print(yeongseon.name)\n",
    "print(yeongseon.job)"
   ]
  },
  {
   "cell_type": "markdown",
   "metadata": {
    "slideshow": {
     "slide_type": "slide"
    }
   },
   "source": [
    "## Contens\n",
    "\n",
    "### 1. Python DB API\n",
    "### 2. SQLAlchemy\n",
    "### 3. Alembic"
   ]
  },
  {
   "cell_type": "markdown",
   "metadata": {
    "slideshow": {
     "slide_type": "slide"
    }
   },
   "source": [
    "## Python Database Programming "
   ]
  },
  {
   "cell_type": "markdown",
   "metadata": {
    "slideshow": {
     "slide_type": "slide"
    }
   },
   "source": [
    "#### Define Tables\n",
    "\n",
    "| Users                        ||\n",
    "| :------------ | :-----------: |\n",
    "| user_id       | int           |\n",
    "| user_name     | varchar(32)   |\n",
    "| user_email    | varchar(32)   |\n",
    "\n",
    "| Programs                     ||\n",
    "| :------------ | :-----------: |\n",
    "| program_id    | int           |\n",
    "| program_name  | varchar(32)   |\n",
    "| user_id       | varchar(32)   |\n",
    "\n",
    "| Program_enrollment      ||\n",
    "| :------------ | :-----------: |\n",
    "| program_id    | int           |\n",
    "| user_id       | int           |"
   ]
  },
  {
   "cell_type": "markdown",
   "metadata": {
    "slideshow": {
     "slide_type": "slide"
    }
   },
   "source": [
    "## DBAPI\n",
    "\n",
    "- PEP 0249 -- Python Database API Specification v2.0\n",
    "- Python modules are used to access database\n",
    "- There are many DBAPI implementations availabls"
   ]
  },
  {
   "cell_type": "code",
   "execution_count": 2,
   "metadata": {},
   "outputs": [],
   "source": [
    "import sqlite3\n",
    "conn = sqlite3.connect('dbapi.sqlite')\n",
    "\n",
    "curs = conn.cursor()\n",
    "sql_stmt = \"\"\"\n",
    "CREATE TABLE users (\n",
    "user_id integer primary key autoincrement,\n",
    "user_name text not null,\n",
    "user_email text not null);\n",
    "\"\"\"\n",
    "curs.execute(sql_stmt)\n",
    "conn.commit()\n",
    "\n",
    "curs = conn.cursor()\n",
    "sql_stmt = \"\"\"\n",
    "INSERT INTO users (user_name, user_email)\n",
    "VALUES ('최영선', 'yeongseon.choe@pycon.kr')\n",
    "\"\"\"\n",
    "curs.execute(sql_stmt)\n",
    "conn.commit()\n",
    "conn.close()"
   ]
  },
  {
   "cell_type": "markdown",
   "metadata": {
    "slideshow": {
     "slide_type": "slide"
    }
   },
   "source": [
    "$ pip install pymysql"
   ]
  },
  {
   "cell_type": "raw",
   "metadata": {
    "slideshow": {
     "slide_type": "skip"
    }
   },
   "source": [
    "import pymysql\n",
    "\n",
    "conn = pymysql.connect(host='localhost', user='test', password='test',db = 'mysql.db')\n",
    "\n",
    "curs = conn.cursor()\n",
    "sql_stmt = \"\"\"\n",
    "CREATE TABLE users (\n",
    "user_id integer primary key autoincrement,\n",
    "user_name text not null,\n",
    "user_email text not null);\n",
    "\"\"\"\n",
    "curs.execute(sql_stmt)\n",
    "conn.commit()\n",
    "\n",
    "curs = conn.cursor()\n",
    "sql_stmt = \"\"\"\n",
    "INSERT INTO users (user_name, user_email)\n",
    "VALUES ('최영선', 'yeongseon.choe@pycon.kr')\n",
    "\"\"\"\n",
    "curs.execute(sql_stmt)\n",
    "conn.commit()\n",
    "conn.close()"
   ]
  },
  {
   "cell_type": "markdown",
   "metadata": {
    "slideshow": {
     "slide_type": "slide"
    }
   },
   "source": [
    "## What is the SQLAlchemy ?\n",
    "\n",
    "\n",
    "- The Database Toolkit for Python\n",
    "- Object Relational Mapper (ORM)implementation.\n",
    "- Introducted 2005\n",
    "- end-to-end system for working with Python DBAPI, relational database, and the SQL language\n",
    "- SQLAlchemy 1.2.0b2 released (Jul 2017)\n"
   ]
  },
  {
   "cell_type": "markdown",
   "metadata": {
    "slideshow": {
     "slide_type": "skip"
    }
   },
   "source": [
    "\n",
    "## Why use SQLAlchemy\n",
    "- SQLAlchemy provoices a generallized interface for creating and executing database-agnostic code without needing to write SQL statements."
   ]
  },
  {
   "cell_type": "markdown",
   "metadata": {
    "slideshow": {
     "slide_type": "slide"
    }
   },
   "source": [
    "## SQLAlchemyOverview\n",
    "\n",
    "<img align=\"middle\" src=\"http://docs.sqlalchemy.org/en/latest/_images/sqla_arch_small.png\" >\n"
   ]
  },
  {
   "cell_type": "markdown",
   "metadata": {
    "slideshow": {
     "slide_type": "slide"
    }
   },
   "source": [
    "### Installing SQLAlchemy\n",
    "\n",
    "$ pip install sqlalchemy"
   ]
  },
  {
   "cell_type": "markdown",
   "metadata": {
    "collapsed": true,
    "slideshow": {
     "slide_type": "-"
    }
   },
   "source": [
    "### Version Check"
   ]
  },
  {
   "cell_type": "code",
   "execution_count": 3,
   "metadata": {
    "slideshow": {
     "slide_type": "-"
    }
   },
   "outputs": [
    {
     "name": "stdout",
     "output_type": "stream",
     "text": [
      "1.1.11\n"
     ]
    }
   ],
   "source": [
    "import sqlalchemy\n",
    "\n",
    "print( sqlalchemy.__version__)"
   ]
  },
  {
   "cell_type": "markdown",
   "metadata": {
    "collapsed": true,
    "slideshow": {
     "slide_type": "slide"
    }
   },
   "source": [
    "### Connectiong"
   ]
  },
  {
   "cell_type": "code",
   "execution_count": 4,
   "metadata": {},
   "outputs": [
    {
     "name": "stdout",
     "output_type": "stream",
     "text": [
      "Engine(sqlite:///sqlalchemy.sqlite)\n"
     ]
    }
   ],
   "source": [
    "from sqlalchemy import create_engine\n",
    "\n",
    "engine = create_engine(\"sqlite:///sqlalchemy.sqlite\", echo=True, convert_unicode=True)\n",
    "\n",
    "print(engine)"
   ]
  },
  {
   "cell_type": "markdown",
   "metadata": {
    "slideshow": {
     "slide_type": "slide"
    }
   },
   "source": [
    "### Declaring a Mapping\n",
    "\n",
    "- A Table that represents a table in a database\n",
    "- A mapper that maps a Python class to a table in database\n",
    "- A class object that defines how a database record maps to a normal Python object"
   ]
  },
  {
   "cell_type": "markdown",
   "metadata": {},
   "source": [
    "#### Define Models\n",
    "\n",
    "| Users                        ||\n",
    "| :------------ | :-----------: |\n",
    "| user_id       | int           |\n",
    "| user_name     | varchar(32)   |\n",
    "| user_email    | varchar(32)   |"
   ]
  },
  {
   "cell_type": "code",
   "execution_count": 5,
   "metadata": {
    "collapsed": true,
    "slideshow": {
     "slide_type": "-"
    }
   },
   "outputs": [],
   "source": [
    "from sqlalchemy.ext.declarative import declarative_base\n",
    "from sqlalchemy import Column, Integer, String\n",
    "\n",
    "Base = declarative_base()\n",
    "\n",
    "class User(Base):\n",
    "    __tablename__ = \"users\"\n",
    "    user_id = Column(Integer, primary_key=True,  autoincrement=True)\n",
    "    user_name = Column(String(32), unique=True)\n",
    "    user_email = Column(String(32), unique=True)\n",
    "    \n",
    "    def __init__(self, user_name, user_email):\n",
    "        self.user_name = user_name\n",
    "        self.user_email = user_email\n",
    "    \n",
    "    def __repr__(self):\n",
    "        return \"<User('%d', '%s, %s')>\" % (self.user_id, self.user_name, self.user_email)"
   ]
  },
  {
   "cell_type": "markdown",
   "metadata": {
    "slideshow": {
     "slide_type": "slide"
    }
   },
   "source": [
    "#### Basic Types\n",
    "\n",
    "- Integer: basic integer type, generates INT\n",
    "- String : ASCII strings, generated VARCHAR\n",
    "- Unicode : Unicode strings, generates VARCHAR, NVARCHAR depending on database\n",
    "- Boolean : generages BOOLEAN\n",
    "- DateTime : generates DATATIME or TIMESTAMP\n",
    "- Float : flating point values\n",
    "- Numeric : precision numberics using Python"
   ]
  },
  {
   "cell_type": "markdown",
   "metadata": {
    "slideshow": {
     "slide_type": "slide"
    }
   },
   "source": [
    "### Creating a Schema"
   ]
  },
  {
   "cell_type": "code",
   "execution_count": 6,
   "metadata": {},
   "outputs": [
    {
     "data": {
      "text/plain": [
       "Table('users', MetaData(bind=None), Column('user_id', Integer(), table=<users>, primary_key=True, nullable=False), Column('user_name', String(length=32), table=<users>), Column('user_email', String(length=32), table=<users>), schema=None)"
      ]
     },
     "execution_count": 6,
     "metadata": {},
     "output_type": "execute_result"
    }
   ],
   "source": [
    "User.__table__"
   ]
  },
  {
   "cell_type": "code",
   "execution_count": 7,
   "metadata": {},
   "outputs": [
    {
     "data": {
      "text/plain": [
       "<Mapper at 0x7fc9fdef03c8; User>"
      ]
     },
     "execution_count": 7,
     "metadata": {},
     "output_type": "execute_result"
    }
   ],
   "source": [
    "User.__mapper__"
   ]
  },
  {
   "cell_type": "code",
   "execution_count": 8,
   "metadata": {},
   "outputs": [
    {
     "name": "stdout",
     "output_type": "stream",
     "text": [
      "2017-08-09 21:54:01,466 INFO sqlalchemy.engine.base.Engine SELECT CAST('test plain returns' AS VARCHAR(60)) AS anon_1\n",
      "2017-08-09 21:54:01,467 INFO sqlalchemy.engine.base.Engine ()\n",
      "2017-08-09 21:54:01,471 INFO sqlalchemy.engine.base.Engine SELECT CAST('test unicode returns' AS VARCHAR(60)) AS anon_1\n",
      "2017-08-09 21:54:01,473 INFO sqlalchemy.engine.base.Engine ()\n",
      "2017-08-09 21:54:01,480 INFO sqlalchemy.engine.base.Engine PRAGMA table_info(\"users\")\n",
      "2017-08-09 21:54:01,483 INFO sqlalchemy.engine.base.Engine ()\n",
      "2017-08-09 21:54:01,488 INFO sqlalchemy.engine.base.Engine \n",
      "CREATE TABLE users (\n",
      "\tuser_id INTEGER NOT NULL, \n",
      "\tuser_name VARCHAR(32), \n",
      "\tuser_email VARCHAR(32), \n",
      "\tPRIMARY KEY (user_id), \n",
      "\tUNIQUE (user_name), \n",
      "\tUNIQUE (user_email)\n",
      ")\n",
      "\n",
      "\n",
      "2017-08-09 21:54:01,490 INFO sqlalchemy.engine.base.Engine ()\n",
      "2017-08-09 21:54:01,536 INFO sqlalchemy.engine.base.Engine COMMIT\n"
     ]
    }
   ],
   "source": [
    "Base.metadata.create_all(bind=engine)"
   ]
  },
  {
   "cell_type": "markdown",
   "metadata": {
    "slideshow": {
     "slide_type": "slide"
    }
   },
   "source": [
    "### Creating a Session"
   ]
  },
  {
   "cell_type": "code",
   "execution_count": 9,
   "metadata": {},
   "outputs": [
    {
     "name": "stdout",
     "output_type": "stream",
     "text": [
      "<sqlalchemy.orm.session.Session object at 0x7fc9fe157eb8>\n"
     ]
    }
   ],
   "source": [
    "from sqlalchemy.orm import sessionmaker\n",
    "\n",
    "Session = sessionmaker(bind=engine)\n",
    "\n",
    "session = Session()\n",
    "\n",
    "print(session)"
   ]
  },
  {
   "cell_type": "code",
   "execution_count": 10,
   "metadata": {
    "collapsed": true,
    "slideshow": {
     "slide_type": "-"
    }
   },
   "outputs": [],
   "source": [
    "session.close()"
   ]
  },
  {
   "cell_type": "markdown",
   "metadata": {
    "slideshow": {
     "slide_type": "slide"
    }
   },
   "source": [
    "### Adding and Updating Object\n",
    "\n",
    "#### Adding Objects"
   ]
  },
  {
   "cell_type": "code",
   "execution_count": 11,
   "metadata": {},
   "outputs": [
    {
     "name": "stdout",
     "output_type": "stream",
     "text": [
      "2017-08-09 21:54:01,634 INFO sqlalchemy.engine.base.Engine BEGIN (implicit)\n",
      "2017-08-09 21:54:01,651 INFO sqlalchemy.engine.base.Engine INSERT INTO users (user_name, user_email) VALUES (?, ?)\n",
      "2017-08-09 21:54:01,656 INFO sqlalchemy.engine.base.Engine ('최영선', 'yeongseon.choe@pycon.kr')\n",
      "2017-08-09 21:54:01,672 INFO sqlalchemy.engine.base.Engine COMMIT\n"
     ]
    }
   ],
   "source": [
    "Session = sessionmaker(bind=engine)\n",
    "\n",
    "session = Session()\n",
    "\n",
    "user = User(\"최영선\", \"yeongseon.choe@pycon.kr\")\n",
    "\n",
    "session.add(user)\n",
    "session.commit()"
   ]
  },
  {
   "cell_type": "code",
   "execution_count": 12,
   "metadata": {
    "slideshow": {
     "slide_type": "slide"
    }
   },
   "outputs": [
    {
     "name": "stdout",
     "output_type": "stream",
     "text": [
      "2017-08-09 21:54:01,729 INFO sqlalchemy.engine.base.Engine BEGIN (implicit)\n",
      "2017-08-09 21:54:01,740 INFO sqlalchemy.engine.base.Engine INSERT INTO users (user_name, user_email) VALUES (?, ?)\n",
      "2017-08-09 21:54:01,744 INFO sqlalchemy.engine.base.Engine ('배준현', 'junhyun.bae@pycon.kr')\n",
      "2017-08-09 21:54:01,757 INFO sqlalchemy.engine.base.Engine INSERT INTO users (user_name, user_email) VALUES (?, ?)\n",
      "2017-08-09 21:54:01,761 INFO sqlalchemy.engine.base.Engine ('김준기', 'joongi.kim@pycon.kr')\n",
      "2017-08-09 21:54:01,765 INFO sqlalchemy.engine.base.Engine COMMIT\n"
     ]
    }
   ],
   "source": [
    "session.add_all([\n",
    "    User(\"배준현\", \"junhyun.bae@pycon.kr\"),\n",
    "    User(\"김준기\", \"joongi.kim@pycon.kr\")]\n",
    ")\n",
    "session.commit()"
   ]
  },
  {
   "cell_type": "code",
   "execution_count": 13,
   "metadata": {},
   "outputs": [
    {
     "name": "stdout",
     "output_type": "stream",
     "text": [
      "2017-08-09 21:54:01,807 INFO sqlalchemy.engine.base.Engine BEGIN (implicit)\n",
      "2017-08-09 21:54:01,812 INFO sqlalchemy.engine.base.Engine INSERT INTO users (user_name, user_email) VALUES (?, ?)\n",
      "2017-08-09 21:54:01,814 INFO sqlalchemy.engine.base.Engine (('강대성', 'daesung.kang@pycon.kr'), ('한성준', 'sungjun.han@pycon.kr'))\n",
      "2017-08-09 21:54:01,829 INFO sqlalchemy.engine.base.Engine COMMIT\n"
     ]
    }
   ],
   "source": [
    "user1 = User(\"강대성\", \"daesung.kang@pycon.kr\")\n",
    "user2 = User(\"한성준\", \"sungjun.han@pycon.kr\")\n",
    "\n",
    "session.bulk_save_objects([user1, user2])\n",
    "session.commit()"
   ]
  },
  {
   "cell_type": "markdown",
   "metadata": {
    "slideshow": {
     "slide_type": "slide"
    }
   },
   "source": [
    "#### Updating Objects"
   ]
  },
  {
   "cell_type": "code",
   "execution_count": 14,
   "metadata": {},
   "outputs": [
    {
     "name": "stdout",
     "output_type": "stream",
     "text": [
      "2017-08-09 21:54:01,882 INFO sqlalchemy.engine.base.Engine BEGIN (implicit)\n",
      "2017-08-09 21:54:01,895 INFO sqlalchemy.engine.base.Engine SELECT users.user_id AS users_user_id, users.user_name AS users_user_name, users.user_email AS users_user_email \n",
      "FROM users\n",
      " LIMIT ? OFFSET ?\n",
      "2017-08-09 21:54:01,901 INFO sqlalchemy.engine.base.Engine (1, 0)\n",
      "<User('1', '최영선, yeongseon.choe@pycon.kr')>\n"
     ]
    }
   ],
   "source": [
    "user = session.query(User).filter_by().first() \n",
    "print(user)"
   ]
  },
  {
   "cell_type": "code",
   "execution_count": 15,
   "metadata": {},
   "outputs": [
    {
     "name": "stdout",
     "output_type": "stream",
     "text": [
      "<User('1', 'Yeongseon Choe, yeongseon.choe@pycon.kr')>\n",
      "2017-08-09 21:54:01,924 INFO sqlalchemy.engine.base.Engine UPDATE users SET user_name=? WHERE users.user_id = ?\n",
      "2017-08-09 21:54:01,931 INFO sqlalchemy.engine.base.Engine ('Yeongseon Choe', 1)\n",
      "2017-08-09 21:54:01,940 INFO sqlalchemy.engine.base.Engine COMMIT\n"
     ]
    }
   ],
   "source": [
    "user.user_name = 'Yeongseon Choe'\n",
    "print(user)\n",
    "session.commit()"
   ]
  },
  {
   "cell_type": "code",
   "execution_count": 16,
   "metadata": {},
   "outputs": [
    {
     "name": "stdout",
     "output_type": "stream",
     "text": [
      "2017-08-09 21:54:01,990 INFO sqlalchemy.engine.base.Engine BEGIN (implicit)\n",
      "2017-08-09 21:54:01,994 INFO sqlalchemy.engine.base.Engine SELECT users.user_id AS users_user_id, users.user_name AS users_user_name, users.user_email AS users_user_email \n",
      "FROM users\n",
      " LIMIT ? OFFSET ?\n",
      "2017-08-09 21:54:01,999 INFO sqlalchemy.engine.base.Engine (1, 0)\n",
      "<User('1', 'Yeongseon Choe, yeongseon.choe@pycon.kr')>\n"
     ]
    }
   ],
   "source": [
    "user = session.query(User).filter_by().first() \n",
    "print(user)"
   ]
  },
  {
   "cell_type": "markdown",
   "metadata": {
    "slideshow": {
     "slide_type": "slide"
    }
   },
   "source": [
    "### Rolling Back"
   ]
  },
  {
   "cell_type": "code",
   "execution_count": 17,
   "metadata": {},
   "outputs": [
    {
     "name": "stdout",
     "output_type": "stream",
     "text": [
      "2017-08-09 21:54:02,019 INFO sqlalchemy.engine.base.Engine ROLLBACK\n"
     ]
    }
   ],
   "source": [
    "user = User(\"김태환\", \"taehwan.kim@pycon.kr\")\n",
    "session.add(user)\n",
    "\n",
    "session.rollback()\n"
   ]
  },
  {
   "cell_type": "markdown",
   "metadata": {
    "slideshow": {
     "slide_type": "slide"
    }
   },
   "source": [
    "### Querying"
   ]
  },
  {
   "cell_type": "code",
   "execution_count": 18,
   "metadata": {},
   "outputs": [
    {
     "name": "stdout",
     "output_type": "stream",
     "text": [
      "2017-08-09 21:54:02,058 INFO sqlalchemy.engine.base.Engine BEGIN (implicit)\n",
      "2017-08-09 21:54:02,068 INFO sqlalchemy.engine.base.Engine SELECT users.user_id AS users_user_id, users.user_name AS users_user_name, users.user_email AS users_user_email \n",
      "FROM users\n",
      " LIMIT ? OFFSET ?\n",
      "2017-08-09 21:54:02,071 INFO sqlalchemy.engine.base.Engine (1, 0)\n",
      "2017-08-09 21:54:02,079 INFO sqlalchemy.engine.base.Engine UPDATE users SET user_name=? WHERE users.user_id = ?\n",
      "2017-08-09 21:54:02,081 INFO sqlalchemy.engine.base.Engine ('최영선', 1)\n",
      "2017-08-09 21:54:02,096 INFO sqlalchemy.engine.base.Engine COMMIT\n"
     ]
    }
   ],
   "source": [
    "user = session.query(User).filter_by().first() \n",
    "user.user_name = '최영선'\n",
    "session.commit()"
   ]
  },
  {
   "cell_type": "code",
   "execution_count": 19,
   "metadata": {},
   "outputs": [
    {
     "name": "stdout",
     "output_type": "stream",
     "text": [
      "2017-08-09 21:54:02,145 INFO sqlalchemy.engine.base.Engine BEGIN (implicit)\n",
      "2017-08-09 21:54:02,152 INFO sqlalchemy.engine.base.Engine SELECT users.user_id AS users_user_id, users.user_name AS users_user_name, users.user_email AS users_user_email \n",
      "FROM users\n",
      "2017-08-09 21:54:02,157 INFO sqlalchemy.engine.base.Engine ()\n",
      "<User('1', '최영선, yeongseon.choe@pycon.kr')>\n",
      "<User('2', '배준현, junhyun.bae@pycon.kr')>\n",
      "<User('3', '김준기, joongi.kim@pycon.kr')>\n",
      "<User('4', '강대성, daesung.kang@pycon.kr')>\n",
      "<User('5', '한성준, sungjun.han@pycon.kr')>\n"
     ]
    }
   ],
   "source": [
    "for user in session.query(User):\n",
    "    print(user)"
   ]
  },
  {
   "cell_type": "code",
   "execution_count": 20,
   "metadata": {
    "slideshow": {
     "slide_type": "slide"
    }
   },
   "outputs": [
    {
     "name": "stdout",
     "output_type": "stream",
     "text": [
      "2017-08-09 21:54:02,185 INFO sqlalchemy.engine.base.Engine SELECT users.user_id AS users_user_id, users.user_name AS users_user_name, users.user_email AS users_user_email \n",
      "FROM users ORDER BY users.user_email\n",
      "2017-08-09 21:54:02,191 INFO sqlalchemy.engine.base.Engine ()\n",
      "<User('4', '강대성, daesung.kang@pycon.kr')>\n",
      "<User('3', '김준기, joongi.kim@pycon.kr')>\n",
      "<User('2', '배준현, junhyun.bae@pycon.kr')>\n",
      "<User('5', '한성준, sungjun.han@pycon.kr')>\n",
      "<User('1', '최영선, yeongseon.choe@pycon.kr')>\n"
     ]
    }
   ],
   "source": [
    "for user in session.query(User).order_by(User.user_email):\n",
    "    print(user)"
   ]
  },
  {
   "cell_type": "markdown",
   "metadata": {},
   "source": [
    "descending order"
   ]
  },
  {
   "cell_type": "code",
   "execution_count": 21,
   "metadata": {},
   "outputs": [
    {
     "name": "stdout",
     "output_type": "stream",
     "text": [
      "2017-08-09 21:54:02,225 INFO sqlalchemy.engine.base.Engine SELECT users.user_id AS users_user_id, users.user_name AS users_user_name, users.user_email AS users_user_email \n",
      "FROM users ORDER BY users.user_email DESC\n",
      "2017-08-09 21:54:02,233 INFO sqlalchemy.engine.base.Engine ()\n",
      "<User('1', '최영선, yeongseon.choe@pycon.kr')>\n",
      "<User('5', '한성준, sungjun.han@pycon.kr')>\n",
      "<User('2', '배준현, junhyun.bae@pycon.kr')>\n",
      "<User('3', '김준기, joongi.kim@pycon.kr')>\n",
      "<User('4', '강대성, daesung.kang@pycon.kr')>\n"
     ]
    }
   ],
   "source": [
    "from sqlalchemy import desc\n",
    "for user in session.query(User).order_by(desc(User.user_email)):\n",
    "    print(user)"
   ]
  },
  {
   "cell_type": "markdown",
   "metadata": {
    "slideshow": {
     "slide_type": "slide"
    }
   },
   "source": [
    "- fileter operators\n",
    "    - equals <br>\n",
    "    query(User).filetr(User.name == 'Yeongseon Choe')\n",
    "    - not equals <br>\n",
    "    query(User).filetr(User.name != 'Yeongseon Choe')\n",
    "    - like <br>\n",
    "    query(User).filetr(User.name.like('Yeongseon Choe')"
   ]
  },
  {
   "cell_type": "code",
   "execution_count": 22,
   "metadata": {},
   "outputs": [
    {
     "name": "stdout",
     "output_type": "stream",
     "text": [
      "SELECT users.user_id AS users_user_id, users.user_name AS users_user_name, users.user_email AS users_user_email \n",
      "FROM users \n",
      "WHERE users.user_name = ?\n"
     ]
    }
   ],
   "source": [
    "print(session.query(User).filter(User.user_name == '최영선'))"
   ]
  },
  {
   "cell_type": "code",
   "execution_count": 23,
   "metadata": {},
   "outputs": [
    {
     "name": "stdout",
     "output_type": "stream",
     "text": [
      "2017-08-09 21:54:02,289 INFO sqlalchemy.engine.base.Engine SELECT users.user_id AS users_user_id, users.user_name AS users_user_name, users.user_email AS users_user_email \n",
      "FROM users \n",
      "WHERE users.user_name = ?\n",
      "2017-08-09 21:54:02,297 INFO sqlalchemy.engine.base.Engine ('최영선',)\n"
     ]
    },
    {
     "data": {
      "text/plain": [
       "[<User('1', '최영선, yeongseon.choe@pycon.kr')>]"
      ]
     },
     "execution_count": 23,
     "metadata": {},
     "output_type": "execute_result"
    }
   ],
   "source": [
    "session.query(User).filter(User.user_name == '최영선').all()"
   ]
  },
  {
   "cell_type": "code",
   "execution_count": 24,
   "metadata": {},
   "outputs": [
    {
     "name": "stdout",
     "output_type": "stream",
     "text": [
      "2017-08-09 21:54:02,332 INFO sqlalchemy.engine.base.Engine SELECT users.user_id AS users_user_id, users.user_name AS users_user_name, users.user_email AS users_user_email \n",
      "FROM users \n",
      "WHERE users.user_name != ?\n",
      "2017-08-09 21:54:02,337 INFO sqlalchemy.engine.base.Engine ('최영선',)\n"
     ]
    },
    {
     "data": {
      "text/plain": [
       "[<User('2', '배준현, junhyun.bae@pycon.kr')>,\n",
       " <User('3', '김준기, joongi.kim@pycon.kr')>,\n",
       " <User('4', '강대성, daesung.kang@pycon.kr')>,\n",
       " <User('5', '한성준, sungjun.han@pycon.kr')>]"
      ]
     },
     "execution_count": 24,
     "metadata": {},
     "output_type": "execute_result"
    }
   ],
   "source": [
    "session.query(User).filter(User.user_name != '최영선').all()"
   ]
  },
  {
   "cell_type": "code",
   "execution_count": 25,
   "metadata": {},
   "outputs": [
    {
     "name": "stdout",
     "output_type": "stream",
     "text": [
      "2017-08-09 21:54:02,384 INFO sqlalchemy.engine.base.Engine SELECT users.user_id AS users_user_id, users.user_name AS users_user_name, users.user_email AS users_user_email \n",
      "FROM users \n",
      "WHERE users.user_name LIKE ?\n",
      "2017-08-09 21:54:02,390 INFO sqlalchemy.engine.base.Engine ('최%',)\n"
     ]
    },
    {
     "data": {
      "text/plain": [
       "[<User('1', '최영선, yeongseon.choe@pycon.kr')>]"
      ]
     },
     "execution_count": 25,
     "metadata": {},
     "output_type": "execute_result"
    }
   ],
   "source": [
    "session.query(User).filter(User.user_name.like('최%')).all()"
   ]
  },
  {
   "cell_type": "markdown",
   "metadata": {
    "slideshow": {
     "slide_type": "slide"
    }
   },
   "source": [
    "- fileter operators\n",
    "    - in <br>\n",
    "    query(User).filetr(User.name.in_(['최영선'])\n",
    "    - not in <br>\n",
    "    query(User).filetr(~User.name.in_(['최영선'])\n",
    "    - is null <br>\n",
    "    query(User).filetr(User.name == None)\n",
    "    - is not null <br>\n",
    "    query(User).filetr(User.name != None)"
   ]
  },
  {
   "cell_type": "code",
   "execution_count": 26,
   "metadata": {},
   "outputs": [
    {
     "name": "stdout",
     "output_type": "stream",
     "text": [
      "2017-08-09 21:54:02,421 INFO sqlalchemy.engine.base.Engine SELECT users.user_id AS users_user_id, users.user_name AS users_user_name, users.user_email AS users_user_email \n",
      "FROM users \n",
      "WHERE users.user_name IN (?)\n",
      "2017-08-09 21:54:02,425 INFO sqlalchemy.engine.base.Engine ('최영선',)\n"
     ]
    },
    {
     "data": {
      "text/plain": [
       "[<User('1', '최영선, yeongseon.choe@pycon.kr')>]"
      ]
     },
     "execution_count": 26,
     "metadata": {},
     "output_type": "execute_result"
    }
   ],
   "source": [
    "session.query(User).filter(User.user_name.in_(['최영선'])).all()"
   ]
  },
  {
   "cell_type": "code",
   "execution_count": 27,
   "metadata": {},
   "outputs": [
    {
     "name": "stdout",
     "output_type": "stream",
     "text": [
      "2017-08-09 21:54:02,461 INFO sqlalchemy.engine.base.Engine SELECT users.user_id AS users_user_id, users.user_name AS users_user_name, users.user_email AS users_user_email \n",
      "FROM users \n",
      "WHERE users.user_name NOT IN (?)\n",
      "2017-08-09 21:54:02,464 INFO sqlalchemy.engine.base.Engine ('최영선',)\n"
     ]
    },
    {
     "data": {
      "text/plain": [
       "[<User('2', '배준현, junhyun.bae@pycon.kr')>,\n",
       " <User('3', '김준기, joongi.kim@pycon.kr')>,\n",
       " <User('4', '강대성, daesung.kang@pycon.kr')>,\n",
       " <User('5', '한성준, sungjun.han@pycon.kr')>]"
      ]
     },
     "execution_count": 27,
     "metadata": {},
     "output_type": "execute_result"
    }
   ],
   "source": [
    "session.query(User).filter(~User.user_name.in_(['최영선'])).all()"
   ]
  },
  {
   "cell_type": "code",
   "execution_count": 28,
   "metadata": {},
   "outputs": [
    {
     "name": "stdout",
     "output_type": "stream",
     "text": [
      "2017-08-09 21:54:02,500 INFO sqlalchemy.engine.base.Engine SELECT users.user_id AS users_user_id, users.user_name AS users_user_name, users.user_email AS users_user_email \n",
      "FROM users \n",
      "WHERE users.user_name IS NULL\n",
      "2017-08-09 21:54:02,508 INFO sqlalchemy.engine.base.Engine ()\n"
     ]
    },
    {
     "data": {
      "text/plain": [
       "[]"
      ]
     },
     "execution_count": 28,
     "metadata": {},
     "output_type": "execute_result"
    }
   ],
   "source": [
    "session.query(User).filter(User.user_name == None).all()"
   ]
  },
  {
   "cell_type": "markdown",
   "metadata": {
    "slideshow": {
     "slide_type": "slide"
    }
   },
   "source": [
    "- fileter operators\n",
    "    - textual SQL\n",
    "    query(User).filetr(text(\"user_name == '최영선'\"))"
   ]
  },
  {
   "cell_type": "code",
   "execution_count": 29,
   "metadata": {},
   "outputs": [
    {
     "name": "stdout",
     "output_type": "stream",
     "text": [
      "2017-08-09 21:54:02,569 INFO sqlalchemy.engine.base.Engine SELECT users.user_id AS users_user_id, users.user_name AS users_user_name, users.user_email AS users_user_email \n",
      "FROM users \n",
      "WHERE user_name == '최영선'\n",
      "2017-08-09 21:54:02,580 INFO sqlalchemy.engine.base.Engine ()\n"
     ]
    },
    {
     "data": {
      "text/plain": [
       "[<User('1', '최영선, yeongseon.choe@pycon.kr')>]"
      ]
     },
     "execution_count": 29,
     "metadata": {},
     "output_type": "execute_result"
    }
   ],
   "source": [
    "from sqlalchemy import text\n",
    "\n",
    "session.query(User).filter(text(\"user_name == '최영선'\")).all()"
   ]
  },
  {
   "cell_type": "code",
   "execution_count": 30,
   "metadata": {},
   "outputs": [
    {
     "name": "stdout",
     "output_type": "stream",
     "text": [
      "2017-08-09 21:54:02,655 INFO sqlalchemy.engine.base.Engine SELECT users.user_id AS users_user_id, users.user_name AS users_user_name, users.user_email AS users_user_email \n",
      "FROM users \n",
      "WHERE users.user_name IS NOT NULL\n",
      "2017-08-09 21:54:02,678 INFO sqlalchemy.engine.base.Engine ()\n"
     ]
    },
    {
     "data": {
      "text/plain": [
       "[<User('1', '최영선, yeongseon.choe@pycon.kr')>,\n",
       " <User('2', '배준현, junhyun.bae@pycon.kr')>,\n",
       " <User('3', '김준기, joongi.kim@pycon.kr')>,\n",
       " <User('4', '강대성, daesung.kang@pycon.kr')>,\n",
       " <User('5', '한성준, sungjun.han@pycon.kr')>]"
      ]
     },
     "execution_count": 30,
     "metadata": {},
     "output_type": "execute_result"
    }
   ],
   "source": [
    "session.query(User).filter(User.user_name != None).all()"
   ]
  },
  {
   "cell_type": "markdown",
   "metadata": {
    "slideshow": {
     "slide_type": "slide"
    }
   },
   "source": [
    "- Returning Lists and Scalars\n",
    "    - all()\n",
    "    - first()\n",
    "    - one()"
   ]
  },
  {
   "cell_type": "code",
   "execution_count": 31,
   "metadata": {},
   "outputs": [
    {
     "name": "stdout",
     "output_type": "stream",
     "text": [
      "2017-08-09 21:54:02,754 INFO sqlalchemy.engine.base.Engine SELECT users.user_id AS users_user_id, users.user_name AS users_user_name, users.user_email AS users_user_email \n",
      "FROM users \n",
      "WHERE users.user_name != ?\n",
      "2017-08-09 21:54:02,768 INFO sqlalchemy.engine.base.Engine ('최영선',)\n",
      "<User('2', '배준현, junhyun.bae@pycon.kr')>\n",
      "<User('3', '김준기, joongi.kim@pycon.kr')>\n",
      "<User('4', '강대성, daesung.kang@pycon.kr')>\n",
      "<User('5', '한성준, sungjun.han@pycon.kr')>\n"
     ]
    }
   ],
   "source": [
    "users = session.query(User).filter(User.user_name != '최영선').all()\n",
    "for user in users:\n",
    "   print(user) "
   ]
  },
  {
   "cell_type": "code",
   "execution_count": 32,
   "metadata": {},
   "outputs": [
    {
     "name": "stdout",
     "output_type": "stream",
     "text": [
      "2017-08-09 21:54:02,819 INFO sqlalchemy.engine.base.Engine SELECT users.user_id AS users_user_id, users.user_name AS users_user_name, users.user_email AS users_user_email \n",
      "FROM users \n",
      "WHERE users.user_name = ?\n",
      " LIMIT ? OFFSET ?\n",
      "2017-08-09 21:54:02,832 INFO sqlalchemy.engine.base.Engine ('최영선', 1, 0)\n",
      "<User('1', '최영선, yeongseon.choe@pycon.kr')>\n"
     ]
    }
   ],
   "source": [
    "users = session.query(User).filter(User.user_name == '최영선').first()\n",
    "print(users)"
   ]
  },
  {
   "cell_type": "code",
   "execution_count": 33,
   "metadata": {
    "slideshow": {
     "slide_type": "-"
    }
   },
   "outputs": [
    {
     "name": "stdout",
     "output_type": "stream",
     "text": [
      "2017-08-09 21:54:02,870 INFO sqlalchemy.engine.base.Engine SELECT users.user_id AS users_user_id, users.user_name AS users_user_name, users.user_email AS users_user_email \n",
      "FROM users \n",
      "WHERE users.user_name = ?\n",
      "2017-08-09 21:54:02,875 INFO sqlalchemy.engine.base.Engine ('최영선',)\n",
      "<User('1', '최영선, yeongseon.choe@pycon.kr')>\n"
     ]
    }
   ],
   "source": [
    "users = session.query(User).filter(User.user_name == '최영선').one()\n",
    "print(users)"
   ]
  },
  {
   "cell_type": "markdown",
   "metadata": {},
   "source": [
    "### Counting"
   ]
  },
  {
   "cell_type": "code",
   "execution_count": 34,
   "metadata": {},
   "outputs": [
    {
     "name": "stdout",
     "output_type": "stream",
     "text": [
      "2017-08-09 21:54:02,910 INFO sqlalchemy.engine.base.Engine SELECT users.user_id AS users_user_id, users.user_name AS users_user_name, users.user_email AS users_user_email \n",
      "FROM users \n",
      "WHERE users.user_name LIKE ?\n",
      "2017-08-09 21:54:02,920 INFO sqlalchemy.engine.base.Engine ('%성%',)\n",
      "[<User('4', '강대성, daesung.kang@pycon.kr')>, <User('5', '한성준, sungjun.han@pycon.kr')>]\n",
      "2017-08-09 21:54:02,931 INFO sqlalchemy.engine.base.Engine SELECT count(*) AS count_1 \n",
      "FROM (SELECT users.user_id AS users_user_id, users.user_name AS users_user_name, users.user_email AS users_user_email \n",
      "FROM users \n",
      "WHERE users.user_name LIKE ?) AS anon_1\n",
      "2017-08-09 21:54:02,935 INFO sqlalchemy.engine.base.Engine ('%성%',)\n"
     ]
    },
    {
     "data": {
      "text/plain": [
       "2"
      ]
     },
     "execution_count": 34,
     "metadata": {},
     "output_type": "execute_result"
    }
   ],
   "source": [
    "print(session.query(User).filter(User.user_name.like('%성%')).all())\n",
    "\n",
    "session.query(User).filter(User.user_name.like('%성%')).count()"
   ]
  },
  {
   "cell_type": "markdown",
   "metadata": {
    "slideshow": {
     "slide_type": "slide"
    }
   },
   "source": [
    "### Deleting Object"
   ]
  },
  {
   "cell_type": "code",
   "execution_count": 35,
   "metadata": {},
   "outputs": [
    {
     "name": "stdout",
     "output_type": "stream",
     "text": [
      "2017-08-09 21:54:02,953 INFO sqlalchemy.engine.base.Engine SELECT users.user_id AS users_user_id, users.user_name AS users_user_name, users.user_email AS users_user_email \n",
      "FROM users \n",
      "WHERE users.user_name = ?\n",
      " LIMIT ? OFFSET ?\n",
      "2017-08-09 21:54:02,957 INFO sqlalchemy.engine.base.Engine ('최영선', 1, 0)\n",
      "2017-08-09 21:54:02,962 INFO sqlalchemy.engine.base.Engine DELETE FROM users WHERE users.user_id = ?\n",
      "2017-08-09 21:54:02,965 INFO sqlalchemy.engine.base.Engine (1,)\n",
      "2017-08-09 21:54:02,978 INFO sqlalchemy.engine.base.Engine COMMIT\n"
     ]
    }
   ],
   "source": [
    "user = session.query(User).filter(User.user_name == '최영선').first()\n",
    "session.delete(user)\n",
    "session.commit()"
   ]
  },
  {
   "cell_type": "markdown",
   "metadata": {
    "slideshow": {
     "slide_type": "slide"
    }
   },
   "source": [
    "#### Define Models\n",
    "\n",
    "| Users                        ||\n",
    "| :------------ | :-----------: |\n",
    "| user_id       | int           |\n",
    "| user_name     | varchar(32)   |\n",
    "| user_email    | varchar(32)   |\n",
    "\n",
    "| Programs                     ||\n",
    "| :------------ | :-----------: |\n",
    "| program_id    | int           |\n",
    "| program_name  | varchar(128)  |\n",
    "\n",
    "| Program_enrollment      ||\n",
    "| :------------ | :-----------: |\n",
    "| program_entrollemnt_id |int   |\n",
    "| program_id    | int           |\n",
    "| user_id       | int           |"
   ]
  },
  {
   "cell_type": "code",
   "execution_count": 94,
   "metadata": {
    "slideshow": {
     "slide_type": "-"
    }
   },
   "outputs": [
    {
     "name": "stdout",
     "output_type": "stream",
     "text": [
      "2017-08-10 00:34:50,341 INFO sqlalchemy.engine.base.Engine PRAGMA table_info(\"users\")\n",
      "2017-08-10 00:34:50,343 INFO sqlalchemy.engine.base.Engine ()\n",
      "2017-08-10 00:34:50,346 INFO sqlalchemy.engine.base.Engine PRAGMA table_info(\"programs\")\n",
      "2017-08-10 00:34:50,348 INFO sqlalchemy.engine.base.Engine ()\n",
      "2017-08-10 00:34:50,351 INFO sqlalchemy.engine.base.Engine PRAGMA table_info(\"program_enrollments\")\n",
      "2017-08-10 00:34:50,353 INFO sqlalchemy.engine.base.Engine ()\n"
     ]
    }
   ],
   "source": [
    "from sqlalchemy.ext.declarative import declarative_base\n",
    "from sqlalchemy import Column, Integer, String\n",
    "\n",
    "Base = declarative_base()\n",
    "\n",
    "class User(Base):\n",
    "    __tablename__ = \"users\"\n",
    "    user_id = Column(Integer, primary_key=True,  autoincrement=True)\n",
    "    user_name = Column(String(32), unique=True)\n",
    "    user_email = Column(String(32), unique=True)\n",
    "    \n",
    "    def __init__(self, user_name, user_email):\n",
    "        self.user_name = user_name\n",
    "        self.user_email = user_email\n",
    "    \n",
    "    def __repr__(self):\n",
    "        return \"<User('%d', '%s, %s')>\" % (self.user_id, self.user_name, self.user_email)\n",
    "    \n",
    "class Program(Base):\n",
    "    __tablename__ = \"programs\"\n",
    "    program_id = Column(Integer, primary_key=True, autoincrement=True)\n",
    "    program_name = Column(String(128), unique=True)\n",
    "    \n",
    "    def __init__(self, program_name):\n",
    "        self.program_name = program_name\n",
    "        \n",
    "    def __repr__(self):\n",
    "        return \"<Program('%d', '%s')\" % (self.program_id, self.program_name)\n",
    "    \n",
    "from sqlalchemy import ForeignKey\n",
    "class ProgramEnrollment(Base):\n",
    "    __tablename__ = \"program_enrollments\"\n",
    "    program_enrollment_id = Column(Integer, primary_key=True, autoincrement=True)\n",
    "    program_id = Column(Integer, ForeignKey(\"programs.program_id\"))\n",
    "    user_id = Column(Integer, ForeignKey(\"users.user_id\"))\n",
    "    \n",
    "    def __init__(self, program_id, user_id):\n",
    "        self.program_id = program_id\n",
    "        self.user_id = user_id\n",
    "    \n",
    "    def __repr__(self):\n",
    "        return \"<ProgramEnrollment('%d', '%d', '%d')\" % (self.program_enrollment_id, self.program_id, self.user_id)\n",
    "    \n",
    "Base.metadata.create_all(bind=engine)"
   ]
  },
  {
   "cell_type": "code",
   "execution_count": 65,
   "metadata": {},
   "outputs": [
    {
     "name": "stdout",
     "output_type": "stream",
     "text": [
      "2017-08-09 23:33:37,419 INFO sqlalchemy.engine.base.Engine BEGIN (implicit)\n",
      "2017-08-09 23:33:37,425 INFO sqlalchemy.engine.base.Engine INSERT INTO programs (program_name) VALUES (?)\n",
      "2017-08-09 23:33:37,427 INFO sqlalchemy.engine.base.Engine ('SQLAlchemy and Alembic',)\n",
      "2017-08-09 23:33:37,434 INFO sqlalchemy.engine.base.Engine INSERT INTO programs (program_name) VALUES (?)\n",
      "2017-08-09 23:33:37,436 INFO sqlalchemy.engine.base.Engine ('얼렁뚱땅 파이썬 대소동',)\n",
      "2017-08-09 23:33:37,438 INFO sqlalchemy.engine.base.Engine INSERT INTO programs (program_name) VALUES (?)\n",
      "2017-08-09 23:33:37,441 INFO sqlalchemy.engine.base.Engine ('Meet aiotools: asyncio Idiom Library',)\n",
      "2017-08-09 23:33:37,443 INFO sqlalchemy.engine.base.Engine INSERT INTO programs (program_name) VALUES (?)\n",
      "2017-08-09 23:33:37,445 INFO sqlalchemy.engine.base.Engine ('PHP에서 Django로 갈아타기',)\n",
      "2017-08-09 23:33:37,448 INFO sqlalchemy.engine.base.Engine INSERT INTO programs (program_name) VALUES (?)\n",
      "2017-08-09 23:33:37,450 INFO sqlalchemy.engine.base.Engine ('파이썬을 통한 주식투자 보조시스템 만들기',)\n",
      "2017-08-09 23:33:37,453 INFO sqlalchemy.engine.base.Engine INSERT INTO programs (program_name) VALUES (?)\n",
      "2017-08-09 23:33:37,455 INFO sqlalchemy.engine.base.Engine ('니름: 쉬운 SOA 단위 테스트',)\n",
      "2017-08-09 23:33:37,459 INFO sqlalchemy.engine.base.Engine COMMIT\n"
     ]
    }
   ],
   "source": [
    "Session = sessionmaker(bind=engine)\n",
    "session = Session()\n",
    "session.add_all([        \n",
    "    Program(\"SQLAlchemy and Alembic\"),\n",
    "    Program(\"얼렁뚱땅 파이썬 대소동\"),\n",
    "    Program(\"Meet aiotools: asyncio Idiom Library\"),\n",
    "    Program(\"PHP에서 Django로 갈아타기\"),\n",
    "    Program(\"파이썬을 통한 주식투자 보조시스템 만들기\"),\n",
    "    Program(\"니름: 쉬운 SOA 단위 테스트\")]\n",
    ")\n",
    "session.commit()"
   ]
  },
  {
   "cell_type": "code",
   "execution_count": 39,
   "metadata": {
    "slideshow": {
     "slide_type": "slide"
    }
   },
   "outputs": [
    {
     "name": "stdout",
     "output_type": "stream",
     "text": [
      "2017-08-09 21:55:32,722 INFO sqlalchemy.engine.base.Engine BEGIN (implicit)\n",
      "2017-08-09 21:55:32,727 INFO sqlalchemy.engine.base.Engine SELECT users.user_id AS users_user_id, users.user_name AS users_user_name, users.user_email AS users_user_email \n",
      "FROM users\n",
      "2017-08-09 21:55:32,731 INFO sqlalchemy.engine.base.Engine ()\n"
     ]
    },
    {
     "data": {
      "text/plain": [
       "[<User('2', '배준현, junhyun.bae@pycon.kr')>,\n",
       " <User('3', '김준기, joongi.kim@pycon.kr')>,\n",
       " <User('4', '강대성, daesung.kang@pycon.kr')>,\n",
       " <User('5', '한성준, sungjun.han@pycon.kr')>]"
      ]
     },
     "execution_count": 39,
     "metadata": {},
     "output_type": "execute_result"
    }
   ],
   "source": [
    "session.query(User).all()"
   ]
  },
  {
   "cell_type": "code",
   "execution_count": 40,
   "metadata": {},
   "outputs": [
    {
     "name": "stdout",
     "output_type": "stream",
     "text": [
      "2017-08-09 21:55:34,580 INFO sqlalchemy.engine.base.Engine SELECT programs.program_id AS programs_program_id, programs.program_name AS programs_program_name \n",
      "FROM programs\n",
      "2017-08-09 21:55:34,589 INFO sqlalchemy.engine.base.Engine ()\n"
     ]
    },
    {
     "data": {
      "text/plain": [
       "[<Program('1', 'SQLAlchemy and Alembic'),\n",
       " <Program('2', '얼렁뚱땅 파이썬 대소동'),\n",
       " <Program('3', 'Meet aiotools: asyncio Idiom Library'),\n",
       " <Program('4', 'PHP에서 Django로 갈아타기'),\n",
       " <Program('5', '파이썬을 통한 주식투자 보조시스템 만들기'),\n",
       " <Program('6', '니름: 쉬운 SOA 단위 테스트')]"
      ]
     },
     "execution_count": 40,
     "metadata": {},
     "output_type": "execute_result"
    }
   ],
   "source": [
    "session.query(Program).all()"
   ]
  },
  {
   "cell_type": "code",
   "execution_count": 41,
   "metadata": {
    "slideshow": {
     "slide_type": "slide"
    }
   },
   "outputs": [
    {
     "name": "stdout",
     "output_type": "stream",
     "text": [
      "2017-08-09 21:55:36,414 INFO sqlalchemy.engine.base.Engine INSERT INTO program_enrollments (program_id, user_id) VALUES (?, ?)\n",
      "2017-08-09 21:55:36,418 INFO sqlalchemy.engine.base.Engine (1, 2)\n",
      "2017-08-09 21:55:36,427 INFO sqlalchemy.engine.base.Engine INSERT INTO program_enrollments (program_id, user_id) VALUES (?, ?)\n",
      "2017-08-09 21:55:36,430 INFO sqlalchemy.engine.base.Engine (1, 3)\n",
      "2017-08-09 21:55:36,433 INFO sqlalchemy.engine.base.Engine INSERT INTO program_enrollments (program_id, user_id) VALUES (?, ?)\n",
      "2017-08-09 21:55:36,436 INFO sqlalchemy.engine.base.Engine (1, 4)\n",
      "2017-08-09 21:55:36,440 INFO sqlalchemy.engine.base.Engine COMMIT\n"
     ]
    }
   ],
   "source": [
    "session.add_all([\n",
    "    ProgramEnrollment(1, 2),\n",
    "    ProgramEnrollment(1, 3),\n",
    "    ProgramEnrollment(1, 4)]\n",
    ")\n",
    "session.commit()"
   ]
  },
  {
   "cell_type": "code",
   "execution_count": 42,
   "metadata": {},
   "outputs": [
    {
     "name": "stdout",
     "output_type": "stream",
     "text": [
      "2017-08-09 21:55:38,812 INFO sqlalchemy.engine.base.Engine BEGIN (implicit)\n",
      "2017-08-09 21:55:38,817 INFO sqlalchemy.engine.base.Engine SELECT program_enrollments.program_enrollment_id AS program_enrollments_program_enrollment_id, program_enrollments.program_id AS program_enrollments_program_id, program_enrollments.user_id AS program_enrollments_user_id \n",
      "FROM program_enrollments\n",
      "2017-08-09 21:55:38,822 INFO sqlalchemy.engine.base.Engine ()\n"
     ]
    },
    {
     "data": {
      "text/plain": [
       "[<ProgramEnrollment('1', '1', '2'),\n",
       " <ProgramEnrollment('2', '1', '3'),\n",
       " <ProgramEnrollment('3', '1', '4')]"
      ]
     },
     "execution_count": 42,
     "metadata": {},
     "output_type": "execute_result"
    }
   ],
   "source": [
    "session.query(ProgramEnrollment).all()"
   ]
  },
  {
   "cell_type": "markdown",
   "metadata": {
    "slideshow": {
     "slide_type": "slide"
    }
   },
   "source": [
    "### Querying with Joins"
   ]
  },
  {
   "cell_type": "code",
   "execution_count": 43,
   "metadata": {},
   "outputs": [
    {
     "name": "stdout",
     "output_type": "stream",
     "text": [
      "2017-08-09 21:56:08,064 INFO sqlalchemy.engine.base.Engine SELECT users.user_id AS users_user_id, users.user_name AS users_user_name, users.user_email AS users_user_email \n",
      "FROM users JOIN program_enrollments ON users.user_id = program_enrollments.user_id \n",
      "WHERE program_enrollments.program_id = ?\n",
      "2017-08-09 21:56:08,068 INFO sqlalchemy.engine.base.Engine (1,)\n"
     ]
    },
    {
     "data": {
      "text/plain": [
       "[<User('2', '배준현, junhyun.bae@pycon.kr')>,\n",
       " <User('3', '김준기, joongi.kim@pycon.kr')>,\n",
       " <User('4', '강대성, daesung.kang@pycon.kr')>]"
      ]
     },
     "execution_count": 43,
     "metadata": {},
     "output_type": "execute_result"
    }
   ],
   "source": [
    "session.query(User).join(ProgramEnrollment).filter(ProgramEnrollment.program_id == 1).all()"
   ]
  },
  {
   "cell_type": "code",
   "execution_count": 44,
   "metadata": {},
   "outputs": [
    {
     "name": "stdout",
     "output_type": "stream",
     "text": [
      "2017-08-09 21:56:12,821 INFO sqlalchemy.engine.base.Engine SELECT count(*) AS count_1 \n",
      "FROM (SELECT users.user_id AS users_user_id, users.user_name AS users_user_name, users.user_email AS users_user_email \n",
      "FROM users JOIN program_enrollments ON users.user_id = program_enrollments.user_id \n",
      "WHERE program_enrollments.program_id = ?) AS anon_1\n",
      "2017-08-09 21:56:12,827 INFO sqlalchemy.engine.base.Engine (1,)\n"
     ]
    },
    {
     "data": {
      "text/plain": [
       "3"
      ]
     },
     "execution_count": 44,
     "metadata": {},
     "output_type": "execute_result"
    }
   ],
   "source": [
    "session.query(User).join(ProgramEnrollment).filter(ProgramEnrollment.program_id == 1).count()"
   ]
  },
  {
   "cell_type": "markdown",
   "metadata": {
    "slideshow": {
     "slide_type": "slide"
    }
   },
   "source": [
    "### Table schema changes ...\n",
    "\n",
    "| Programs                     ||\n",
    "| :------------ | :-----------: |\n",
    "| program_id    | int           |\n",
    "| program_name  | varchar(128)  |\n",
    "\n",
    "| Programs                     ||\n",
    "| :------------ | :-----------: |\n",
    "| program_id    | int           |\n",
    "| program_name  | varchar(128)  |\n",
    "| user_id       | varchar(32)   |"
   ]
  },
  {
   "cell_type": "markdown",
   "metadata": {
    "slideshow": {
     "slide_type": "slide"
    }
   },
   "source": [
    "## Alembic\n",
    "\n",
    "### Database migration tool\n",
    "- creation\n",
    "- management\n",
    "- invocation of change managment"
   ]
  },
  {
   "cell_type": "markdown",
   "metadata": {
    "slideshow": {
     "slide_type": "slide"
    }
   },
   "source": [
    "### Installing Alembic\n",
    "\n",
    "$ pip install alembic"
   ]
  },
  {
   "cell_type": "markdown",
   "metadata": {},
   "source": [
    "### Usage\n",
    "<pre>\n",
    "usage: alembic [-h] [-c CONFIG] [-n NAME] [-x X] [--raiseerr]\n",
    "               {branches,current,downgrade,edit,heads,history,init,\n",
    "               list_templates,merge,revision,show,stamp,upgrade}     \n",
    "</pre>"
   ]
  },
  {
   "cell_type": "markdown",
   "metadata": {
    "slideshow": {
     "slide_type": "slide"
    }
   },
   "source": [
    "### Creating an Environment\n",
    "\n",
    "<pre>\n",
    "$ alembic init 'alembic' <br>\n",
    "</pre>\n",
    "```\n",
    "\n",
    "project\n",
    "│         alembic.ini\n",
    "└──── alembic\n",
    "      │    env.py\n",
    "      │    README\n",
    "      │    script.py.mako      \n",
    "      └─ versions\n",
    "```"
   ]
  },
  {
   "cell_type": "markdown",
   "metadata": {
    "slideshow": {
     "slide_type": "slide"
    }
   },
   "source": [
    "  \n",
    "$ vi alembic.ini\n",
    "\n",
    "<pre>\n",
    "# A generic, single database configuration.\n",
    "\n",
    "[alembic]\n",
    "# path to migration scripts\n",
    "script_location = alembic\n",
    "\n",
    "# template used to generate migration files\n",
    "# file_template = %%(rev)s_%%(slug)s\n",
    "\n",
    "# timezone to use when rendering the date\n",
    "# within the migration file as well as the filename.\n",
    "# string value is passed to dateutil.tz.gettz()\n",
    "# leave blank for localtime\n",
    "# timezone =\n",
    "\n",
    "# max length of characters to apply to the\n",
    "# \"slug\" field\n",
    "#truncate_slug_length = 40\n",
    "\n",
    "# set to 'true' to run the environment during\n",
    "# the 'revision' command, regardless of autogenerate\n",
    "# revision_environment = false\n",
    "\n",
    "# set to 'true' to allow .pyc and .pyo files without\n",
    "# a source .py file to be detected as revisions in the\n",
    "# versions/ directory\n",
    "# sourceless = false\n",
    "\n",
    "# version location specification; this defaults\n",
    "# to alembic/versions.  When using multiple version\n",
    "# directories, initial revisions must be specified with --version-path\n",
    "# version_locations = %(here)s/bar %(here)s/bat alembic/versions\n",
    "\n",
    "# the output encoding used when revision files\n",
    "# are written from script.py.mako\n",
    "# output_encoding = utf-8\n",
    "<span style=\"color:red\">sqlalchemy.url = sqlite:///alembic.sqlite</span>\n",
    "\n",
    "# Logging configuration\n",
    "[loggers]\n",
    "keys = root,sqlalchemy,alembic\n",
    "\n",
    "[handlers]\n",
    "keys = console\n",
    "\n",
    "[formatters]\n",
    "keys = generic\n",
    "\n",
    "[logger_root]\n",
    "level = WARN\n",
    "handlers = console\n",
    "qualname =\n",
    "\n",
    "[logger_sqlalchemy]\n",
    "level = WARN\n",
    "handlers =\n",
    "qualname = sqlalchemy.engine\n",
    "\n",
    "[logger_alembic]\n",
    "level = INFO\n",
    "handlers =\n",
    "qualname = alembic\n",
    "\n",
    "[handler_console]\n",
    "class = StreamHandler\n",
    "args = (sys.stderr,)\n",
    "level = NOTSET\n",
    "formatter = generic\n",
    "\n",
    "[formatter_generic]\n",
    "format = %(levelname)-5.5s [%(name)s] %(message)s\n",
    "datefmt = %H:%M:%S\n",
    "\n",
    "</pre>"
   ]
  },
  {
   "cell_type": "markdown",
   "metadata": {
    "slideshow": {
     "slide_type": "slide"
    }
   },
   "source": [
    "### Creating a Migration Script\n",
    "<pre>\n",
    "$ alembic revision -m \"create tables\"\n",
    "</pre>\n",
    "<br>\n",
    "```\n",
    "project\n",
    "│         alembic.ini\n",
    "└──── alembic\n",
    "      │    env.py\n",
    "      │    README\n",
    "      │    script.py.mako      \n",
    "      └─ versions\n",
    "          │   506aac89f70c_create_tables.py\n",
    "```"
   ]
  },
  {
   "cell_type": "markdown",
   "metadata": {
    "slideshow": {
     "slide_type": "slide"
    }
   },
   "source": [
    "<pre>\n",
    "$ vi alembic/versions/506aac89f70c_create_tables.py\n",
    "</pre>"
   ]
  },
  {
   "cell_type": "code",
   "execution_count": null,
   "metadata": {
    "collapsed": true
   },
   "outputs": [],
   "source": [
    "\"\"\"create tables\n",
    "\n",
    "Revision ID: 506aac89f70\n",
    "Revises: \n",
    "Create Date: 2017-07-29 22:19:30.546010\n",
    "\n",
    "\"\"\"\n",
    "from alembic import op\n",
    "import sqlalchemy as sa\n",
    "\n",
    "\n",
    "# revision identifiers, used by Alembic.\n",
    "revision = '506aac89f70'\n",
    "down_revision = None\n",
    "branch_labels = None\n",
    "depends_on = None\n",
    "\n",
    "\n",
    "def upgrade():\n",
    "    pass\n",
    "\n",
    "\n",
    "def downgrade():\n",
    "    pass\n"
   ]
  },
  {
   "cell_type": "markdown",
   "metadata": {
    "slideshow": {
     "slide_type": "slide"
    }
   },
   "source": [
    "#### Editing the migration script"
   ]
  },
  {
   "cell_type": "code",
   "execution_count": 80,
   "metadata": {
    "collapsed": true
   },
   "outputs": [],
   "source": [
    "\"\"\"create tables\n",
    "\n",
    "Revision ID: 506aac89f70c\n",
    "Revises:\n",
    "Create Date: 2017-08-09 22:14:41.836325\n",
    "\n",
    "\"\"\"\n",
    "from alembic import op\n",
    "import sqlalchemy as sa\n",
    "\n",
    "\n",
    "# revision identifiers, used by Alembic.\n",
    "revision = '506aac89f70c'\n",
    "down_revision = None\n",
    "branch_labels = None\n",
    "depends_on = None\n",
    "\n",
    "\n",
    "def upgrade():\n",
    "    op.create_table(\n",
    "        \"users\",\n",
    "        sa.Column(\"user_id\", sa.Integer, primary_key=True, autoincrement=True),    \n",
    "        sa.Column(\"user_name\", sa.String(32), unique=True),\n",
    "        sa.Column(\"user_email\", sa.String(32), unique=True),\n",
    "    )\n",
    "\n",
    "    op.create_table(\n",
    "        \"programs\",\n",
    "        sa.Column(\"program_id\", sa.Integer, primary_key=True, autoincrement=True),\n",
    "        sa.Column(\"program_name\", sa.String(128), unique=True),\n",
    "    )\n",
    "\n",
    "    op.create_table(\n",
    "        \"program_enrollments\",\n",
    "        sa.Column(\"program_enrollment_id\", sa.Integer, primary_key=True, autoincrement=True),\n",
    "        sa.Column(\"program_id\", sa.Integer, sa.ForeignKey(\"programs.program_id\")),\n",
    "        sa.Column(\"user_id\", sa.Integer, sa.ForeignKey(\"users.user_id\")),\n",
    "    )\n",
    "\n",
    "def downgrade():\n",
    "    op.drop_table(\"users\")\n",
    "    op.drop_table(\"programs\")\n",
    "    op.drop_table(\"program_enrollments\")\n",
    "    "
   ]
  },
  {
   "cell_type": "markdown",
   "metadata": {
    "slideshow": {
     "slide_type": "slide"
    }
   },
   "source": [
    " <pre>\n",
    " $ alembic.exe upgrade head\n",
    " \n",
    "INFO  [alembic.runtime.migration] Context impl SQLiteImpl.\n",
    "INFO  [alembic.runtime.migration] Will assume non-transactional DDL.\n",
    "INFO  [alembic.runtime.migration] Running upgrade  -> 506aac89f70c, create tables\n",
    "</pre>"
   ]
  },
  {
   "cell_type": "code",
   "execution_count": 95,
   "metadata": {
    "collapsed": true
   },
   "outputs": [],
   "source": [
    "engine = create_engine(\"sqlite:///alembic.sqlite\", echo=True, convert_unicode=True)\n"
   ]
  },
  {
   "cell_type": "code",
   "execution_count": 96,
   "metadata": {},
   "outputs": [
    {
     "name": "stdout",
     "output_type": "stream",
     "text": [
      "2017-08-10 00:35:02,717 INFO sqlalchemy.engine.base.Engine SELECT CAST('test plain returns' AS VARCHAR(60)) AS anon_1\n",
      "2017-08-10 00:35:02,721 INFO sqlalchemy.engine.base.Engine ()\n",
      "2017-08-10 00:35:02,724 INFO sqlalchemy.engine.base.Engine SELECT CAST('test unicode returns' AS VARCHAR(60)) AS anon_1\n",
      "2017-08-10 00:35:02,727 INFO sqlalchemy.engine.base.Engine ()\n",
      "2017-08-10 00:35:02,731 INFO sqlalchemy.engine.base.Engine BEGIN (implicit)\n",
      "2017-08-10 00:35:02,737 INFO sqlalchemy.engine.base.Engine INSERT INTO programs (program_name) VALUES (?)\n",
      "2017-08-10 00:35:02,740 INFO sqlalchemy.engine.base.Engine ('SQLAlchemy and Alembic',)\n",
      "2017-08-10 00:35:02,748 INFO sqlalchemy.engine.base.Engine INSERT INTO programs (program_name) VALUES (?)\n",
      "2017-08-10 00:35:02,751 INFO sqlalchemy.engine.base.Engine ('얼렁뚱땅 파이썬 대소동',)\n",
      "2017-08-10 00:35:02,754 INFO sqlalchemy.engine.base.Engine INSERT INTO programs (program_name) VALUES (?)\n",
      "2017-08-10 00:35:02,756 INFO sqlalchemy.engine.base.Engine ('Meet aiotools: asyncio Idiom Library',)\n",
      "2017-08-10 00:35:02,759 INFO sqlalchemy.engine.base.Engine COMMIT\n"
     ]
    }
   ],
   "source": [
    "Session = sessionmaker(bind=engine)\n",
    "session = Session()\n",
    "session.add_all([        \n",
    "    Program(\"SQLAlchemy and Alembic\"),\n",
    "    Program(\"얼렁뚱땅 파이썬 대소동\"),\n",
    "    Program(\"Meet aiotools: asyncio Idiom Library\")]\n",
    ")\n",
    "session.commit()"
   ]
  },
  {
   "cell_type": "markdown",
   "metadata": {
    "slideshow": {
     "slide_type": "slide"
    }
   },
   "source": [
    "<pre>\n",
    "$ alembic revision -m \"Add a column\"\n",
    "</pre>\n",
    "<br>\n",
    "```\n",
    "project\n",
    "│         alembic.ini\n",
    "└──── alembic\n",
    "      │    env.py\n",
    "      │    README\n",
    "      │    script.py.mako      \n",
    "      └─ versions\n",
    "          │   506aac89f70c_create_tables.py\n",
    "          │   aadc5fd970b1_add_a_column.py\n",
    "```"
   ]
  },
  {
   "cell_type": "code",
   "execution_count": null,
   "metadata": {
    "collapsed": true,
    "slideshow": {
     "slide_type": "slide"
    }
   },
   "outputs": [],
   "source": [
    "\"\"\"Add a column\n",
    "\n",
    "Revision ID: aadc5fd970b1\n",
    "Revises: 506aac89f70c\n",
    "Create Date: 2017-08-09 23:35:11.905893\n",
    "\n",
    "\"\"\"\n",
    "from alembic import op\n",
    "import sqlalchemy as sa\n",
    "\n",
    "\n",
    "# revision identifiers, used by Alembic.\n",
    "revision = 'aadc5fd970b1'\n",
    "down_revision = '506aac89f70c'\n",
    "branch_labels = None\n",
    "depends_on = None\n",
    "\n",
    "\n",
    "def upgrade():\n",
    "    op.add_column(\n",
    "        \"programs\",        \n",
    "        sa.Column(\"user_id\", sa.Integer, primary_key=True, nullable=True),\n",
    "    )\n",
    "\n",
    "\n",
    "def downgrade():\n",
    "    pass\n"
   ]
  },
  {
   "cell_type": "markdown",
   "metadata": {
    "slideshow": {
     "slide_type": "slide"
    }
   },
   "source": [
    "<pre>\n",
    "$ alembic current\n",
    "INFO  [alembic.runtime.migration] Context impl SQLiteImpl.\n",
    "INFO  [alembic.runtime.migration] Will assume non-transactional DDL.\n",
    "506aac89f70c\n",
    "\n",
    "$ alembic upgrade head\n",
    "INFO  [alembic.runtime.migration] Context impl SQLiteImpl.\n",
    "INFO  [alembic.runtime.migration] Will assume non-transactional DDL.\n",
    "INFO  [alembic.runtime.migration] Running upgrade 506aac89f70c -> aadc5fd970b1, Add a column\n",
    "\n",
    "$ alembic history\n",
    "506aac89f70c -> aadc5fd970b1 (head), Add a column\n",
    "<base> -> 506aac89f70c, create tables\n",
    "\n",
    "</pre>"
   ]
  },
  {
   "cell_type": "code",
   "execution_count": 97,
   "metadata": {
    "slideshow": {
     "slide_type": "slide"
    }
   },
   "outputs": [],
   "source": [
    "from sqlalchemy.ext.declarative import declarative_base\n",
    "from sqlalchemy import Column, Integer, String\n",
    "\n",
    "Base = declarative_base()\n",
    "\n",
    "class Program(Base):\n",
    "    __tablename__ = \"programs\"\n",
    "    program_id = Column(Integer, primary_key=True, autoincrement=True)\n",
    "    program_name = Column(String(128), unique=True)\n",
    "    user_id = Column(Integer, primary_key=True)\n",
    "    \n",
    "    def __init__(self, program_name, user_id):\n",
    "        self.program_name = program_name\n",
    "        self.user_id = user_id\n",
    "        \n",
    "    def __repr__(self):\n",
    "        return \"<Program('%d', '%s', '%d')\" % (self.program_id, self.program_name, self.user_id)"
   ]
  },
  {
   "cell_type": "code",
   "execution_count": 98,
   "metadata": {},
   "outputs": [
    {
     "name": "stdout",
     "output_type": "stream",
     "text": [
      "2017-08-10 00:35:14,595 INFO sqlalchemy.engine.base.Engine BEGIN (implicit)\n",
      "2017-08-10 00:35:14,600 INFO sqlalchemy.engine.base.Engine INSERT INTO programs (program_name, user_id) VALUES (?, ?)\n",
      "2017-08-10 00:35:14,603 INFO sqlalchemy.engine.base.Engine ('PHP에서 Django로 갈아타기', 4)\n",
      "2017-08-10 00:35:14,612 INFO sqlalchemy.engine.base.Engine INSERT INTO programs (program_name, user_id) VALUES (?, ?)\n",
      "2017-08-10 00:35:14,614 INFO sqlalchemy.engine.base.Engine ('파이썬을 통한 주식투자 보조시스템 만들기', 5)\n",
      "2017-08-10 00:35:14,616 INFO sqlalchemy.engine.base.Engine INSERT INTO programs (program_name, user_id) VALUES (?, ?)\n",
      "2017-08-10 00:35:14,618 INFO sqlalchemy.engine.base.Engine ('니름: 쉬운 SOA 단위 테스트', 6)\n",
      "2017-08-10 00:35:14,621 INFO sqlalchemy.engine.base.Engine COMMIT\n"
     ]
    }
   ],
   "source": [
    "Session = sessionmaker(bind=engine)\n",
    "session = Session()\n",
    "session.add_all([        \n",
    "    Program(\"PHP에서 Django로 갈아타기\", 4),\n",
    "    Program(\"파이썬을 통한 주식투자 보조시스템 만들기\", 5),\n",
    "    Program(\"니름: 쉬운 SOA 단위 테스트\", 6)]\n",
    ")\n",
    "session.commit()\n"
   ]
  },
  {
   "cell_type": "code",
   "execution_count": 101,
   "metadata": {
    "slideshow": {
     "slide_type": "slide"
    }
   },
   "outputs": [
    {
     "name": "stdout",
     "output_type": "stream",
     "text": [
      "2017-08-10 00:37:34,174 INFO sqlalchemy.engine.base.Engine SELECT programs.program_id AS programs_program_id, programs.program_name AS programs_program_name, programs.user_id AS programs_user_id \n",
      "FROM programs \n",
      "WHERE programs.user_id < ?\n",
      "2017-08-10 00:37:34,177 INFO sqlalchemy.engine.base.Engine (3,)\n"
     ]
    },
    {
     "data": {
      "text/plain": [
       "[]"
      ]
     },
     "execution_count": 101,
     "metadata": {},
     "output_type": "execute_result"
    }
   ],
   "source": [
    "session.query(Program).filter(Program.user_id < 3).all()"
   ]
  },
  {
   "cell_type": "code",
   "execution_count": 100,
   "metadata": {},
   "outputs": [
    {
     "name": "stdout",
     "output_type": "stream",
     "text": [
      "2017-08-10 00:37:14,937 INFO sqlalchemy.engine.base.Engine SELECT programs.program_id AS programs_program_id, programs.program_name AS programs_program_name, programs.user_id AS programs_user_id \n",
      "FROM programs \n",
      "WHERE programs.user_id > ?\n",
      "2017-08-10 00:37:14,943 INFO sqlalchemy.engine.base.Engine (3,)\n"
     ]
    },
    {
     "data": {
      "text/plain": [
       "[<Program('4', 'PHP에서 Django로 갈아타기', '4'),\n",
       " <Program('5', '파이썬을 통한 주식투자 보조시스템 만들기', '5'),\n",
       " <Program('6', '니름: 쉬운 SOA 단위 테스트', '6')]"
      ]
     },
     "execution_count": 100,
     "metadata": {},
     "output_type": "execute_result"
    }
   ],
   "source": [
    "session.query(Program).filter(Program.user_id > 3).all()"
   ]
  },
  {
   "cell_type": "code",
   "execution_count": 63,
   "metadata": {
    "slideshow": {
     "slide_type": "skip"
    }
   },
   "outputs": [],
   "source": [
    "import os\n",
    "\n",
    "os.remove('dbapi.sqlite')\n",
    "os.remove('sqlalchemy.sqlite')\n",
    "#os.remove('alembic.sqlite')"
   ]
  },
  {
   "cell_type": "markdown",
   "metadata": {
    "collapsed": true,
    "slideshow": {
     "slide_type": "slide"
    }
   },
   "source": [
    "<br>\n",
    "<br>\n",
    "<br>\n",
    "<div style=\"text-align: center; font-weight: bold; font-size: 250%;\">\n",
    "Q&A \n",
    "</div>\n",
    "<br>\n",
    "<br>\n",
    "<br>\n"
   ]
  },
  {
   "cell_type": "markdown",
   "metadata": {
    "slideshow": {
     "slide_type": "slide"
    }
   },
   "source": [
    "<br>\n",
    "<br>\n",
    "<br>\n",
    "<div style=\"text-align: center; font-weight: bold; font-size: 250%;\">\n",
    "Happy Pythoning!\n",
    "</div>\n",
    "<br>\n",
    "<br>\n",
    "<br>"
   ]
  }
 ],
 "metadata": {
  "celltoolbar": "Slideshow",
  "kernelspec": {
   "display_name": "Python 3",
   "language": "python",
   "name": "python3"
  },
  "language_info": {
   "codemirror_mode": {
    "name": "ipython",
    "version": 3
   },
   "file_extension": ".py",
   "mimetype": "text/x-python",
   "name": "python",
   "nbconvert_exporter": "python",
   "pygments_lexer": "ipython3",
   "version": "3.5.2"
  }
 },
 "nbformat": 4,
 "nbformat_minor": 2
}
