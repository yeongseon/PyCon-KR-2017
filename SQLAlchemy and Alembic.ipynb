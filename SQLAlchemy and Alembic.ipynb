{
 "cells": [
  {
   "attachments": {},
   "cell_type": "markdown",
   "metadata": {
    "slideshow": {
     "slide_type": "slide"
    }
   },
   "source": [
    "<img align=\"left\" style=\"width: 20%\" src=\"https://drive.google.com/uc?export=view&id=0B2icrrA3UYBlOUtoc0NGS3hFQnM\">\n",
    "\n",
    "\n",
    "<br>\n",
    "<br>\n",
    "<br>\n",
    "\n",
    "<div style=\"text-align: center; font-weight: bold; font-size: 250%;\">\n",
    "SQLAlchemy and Alembic\n",
    "</div>\n",
    "\n",
    "<br>\n",
    "<br>\n",
    "<br>\n",
    "\n",
    "<div style=\"text-align: center\"> SAP Labs Korea </div>\n",
    "<div style=\"text-align: center\"> 최영선 </div>\n",
    "\n",
    "<br>\n",
    "<br>"
   ]
  },
  {
   "cell_type": "code",
   "execution_count": 36,
   "metadata": {
    "slideshow": {
     "slide_type": "skip"
    }
   },
   "outputs": [
    {
     "ename": "AttributeError",
     "evalue": "module 'yeongseon' has no attribute 'name'",
     "output_type": "error",
     "traceback": [
      "\u001b[0;31m---------------------------------------------------------------------------\u001b[0m",
      "\u001b[0;31mAttributeError\u001b[0m                            Traceback (most recent call last)",
      "\u001b[0;32m<ipython-input-36-790cd1cc5ad6>\u001b[0m in \u001b[0;36m<module>\u001b[0;34m()\u001b[0m\n\u001b[1;32m      1\u001b[0m \u001b[0;32mimport\u001b[0m \u001b[0myeongseon\u001b[0m\u001b[0;34m\u001b[0m\u001b[0m\n\u001b[1;32m      2\u001b[0m \u001b[0;34m\u001b[0m\u001b[0m\n\u001b[0;32m----> 3\u001b[0;31m \u001b[0mprint\u001b[0m\u001b[0;34m(\u001b[0m\u001b[0myeongseon\u001b[0m\u001b[0;34m.\u001b[0m\u001b[0mname\u001b[0m\u001b[0;34m)\u001b[0m\u001b[0;34m\u001b[0m\u001b[0m\n\u001b[0m",
      "\u001b[0;31mAttributeError\u001b[0m: module 'yeongseon' has no attribute 'name'"
     ]
    }
   ],
   "source": [
    "import yeongseon\n",
    "\n",
    "print(yeongseon.name)"
   ]
  },
  {
   "cell_type": "markdown",
   "metadata": {
    "slideshow": {
     "slide_type": "slide"
    }
   },
   "source": [
    "\n",
    "<img align=\"middle\" src=\"https://2.bp.blogspot.com/-u5RzeZjX5Ew/T7CzT9vFgyI/AAAAAAAABJ8/fDbn24qYajg/s1600/Isaac-Newton.jpg\" >\n",
    "\n",
    "<div style=\"text-align: center\">\"If I have seen future. it is by importing from the code of giants\" </div>\n",
    "<div style=\"text-align: right\"> Definitely Not isaac Newton </div>"
   ]
  },
  {
   "cell_type": "markdown",
   "metadata": {
    "slideshow": {
     "slide_type": "slide"
    }
   },
   "source": [
    "## Python Database Programming "
   ]
  },
  {
   "cell_type": "markdown",
   "metadata": {
    "slideshow": {
     "slide_type": "slide"
    }
   },
   "source": [
    "#### Define Tables\n",
    "\n",
    "| Users                        ||\n",
    "| :------------ | :-----------: |\n",
    "| user_id       | int           |\n",
    "| user_name     | varchar(32)   |\n",
    "| user_email    | varchar(32)   |\n",
    "\n",
    "| Programs                     ||\n",
    "| :------------ | :-----------: |\n",
    "| program_id    | int           |\n",
    "| program_name  | varchar(32)   |\n",
    "| user_id       | varchar(32)   |\n",
    "\n",
    "| Program_enrollment      ||\n",
    "| :------------ | :-----------: |\n",
    "| program_id    | int           |\n",
    "| user_id       | int           |"
   ]
  },
  {
   "cell_type": "markdown",
   "metadata": {
    "slideshow": {
     "slide_type": "slide"
    }
   },
   "source": [
    "## DBAPI\n",
    "\n",
    "- PEP 0249 -- Python Database API Specification v2.0\n",
    "- Python modules are used to access database\n",
    "- There are many DBAPI implementations availabls"
   ]
  },
  {
   "cell_type": "code",
   "execution_count": 1,
   "metadata": {},
   "outputs": [],
   "source": [
    "import sqlite3\n",
    "conn = sqlite3.connect('dbapi.sqlite')\n",
    "\n",
    "curs = conn.cursor()\n",
    "sql_stmt = \"\"\"\n",
    "CREATE TABLE users (\n",
    "user_id integer primary key autoincrement,\n",
    "user_name text not null,\n",
    "user_email text not null);\n",
    "\"\"\"\n",
    "curs.execute(sql_stmt)\n",
    "conn.commit()\n",
    "\n",
    "curs = conn.cursor()\n",
    "sql_stmt = \"\"\"\n",
    "INSERT INTO users (user_name, user_email)\n",
    "VALUES ('최영선', 'yeongseon.choe@pycon.kr')\n",
    "\"\"\"\n",
    "curs.execute(sql_stmt)\n",
    "conn.commit()\n",
    "conn.close()"
   ]
  },
  {
   "cell_type": "markdown",
   "metadata": {
    "slideshow": {
     "slide_type": "slide"
    }
   },
   "source": [
    "$ pip install pymysql"
   ]
  },
  {
   "cell_type": "code",
   "execution_count": 40,
   "metadata": {
    "slideshow": {
     "slide_type": "notes"
    }
   },
   "outputs": [
    {
     "ename": "ProgrammingError",
     "evalue": "Cannot operate on a closed database.",
     "output_type": "error",
     "traceback": [
      "\u001b[0;31m---------------------------------------------------------------------------\u001b[0m",
      "\u001b[0;31mProgrammingError\u001b[0m                          Traceback (most recent call last)",
      "\u001b[0;32m<ipython-input-40-db618a9d9a98>\u001b[0m in \u001b[0;36m<module>\u001b[0;34m()\u001b[0m\n\u001b[1;32m      3\u001b[0m \u001b[0;31m#conn = pymysql.connect(host='localhost', user='test', password='test',db = 'mysql.db')\u001b[0m\u001b[0;34m\u001b[0m\u001b[0;34m\u001b[0m\u001b[0m\n\u001b[1;32m      4\u001b[0m \u001b[0;34m\u001b[0m\u001b[0m\n\u001b[0;32m----> 5\u001b[0;31m \u001b[0mcurs\u001b[0m \u001b[0;34m=\u001b[0m \u001b[0mconn\u001b[0m\u001b[0;34m.\u001b[0m\u001b[0mcursor\u001b[0m\u001b[0;34m(\u001b[0m\u001b[0;34m)\u001b[0m\u001b[0;34m\u001b[0m\u001b[0m\n\u001b[0m\u001b[1;32m      6\u001b[0m sql_stmt = \"\"\"\n\u001b[1;32m      7\u001b[0m CREATE TABLE users (\n",
      "\u001b[0;31mProgrammingError\u001b[0m: Cannot operate on a closed database."
     ]
    }
   ],
   "source": [
    "import pymysql\n",
    "\n",
    "#conn = pymysql.connect(host='localhost', user='test', password='test',db = 'mysql.db')\n",
    "\n",
    "curs = conn.cursor()\n",
    "sql_stmt = \"\"\"\n",
    "CREATE TABLE users (\n",
    "user_id integer primary key autoincrement,\n",
    "user_name text not null,\n",
    "user_email text not null);\n",
    "\"\"\"\n",
    "curs.execute(sql_stmt)\n",
    "conn.commit()\n",
    "\n",
    "curs = conn.cursor()\n",
    "sql_stmt = \"\"\"\n",
    "INSERT INTO users (user_name, user_email)\n",
    "VALUES ('최영선', 'yeongseon.choe@pycon.kr')\n",
    "\"\"\"\n",
    "curs.execute(sql_stmt)\n",
    "conn.commit()\n",
    "conn.close()"
   ]
  },
  {
   "cell_type": "markdown",
   "metadata": {
    "slideshow": {
     "slide_type": "slide"
    }
   },
   "source": [
    "## What is the SQLAlchemy ?\n",
    "\n",
    "\n",
    "- The Database Toolkit for Python\n",
    "- Object Relational Mapper (ORM)implementation.\n",
    "- Introducted 2005\n",
    "- end-to-end system for working with Python DBAPI, relational database, and the SQL language\n",
    "- SQLAlchemy 1.2.0b2 released (Jul 2017)\n"
   ]
  },
  {
   "cell_type": "markdown",
   "metadata": {
    "slideshow": {
     "slide_type": "skip"
    }
   },
   "source": [
    "\n",
    "## Why use SQLAlchemy\n",
    "- SQLAlchemy provoices a generallized interface for creating and executing database-agnostic code without needing to write SQL statements."
   ]
  },
  {
   "cell_type": "markdown",
   "metadata": {
    "slideshow": {
     "slide_type": "slide"
    }
   },
   "source": [
    "## SQLAlchemyOverview\n",
    "\n",
    "<img align=\"middle\" src=\"http://docs.sqlalchemy.org/en/latest/_images/sqla_arch_small.png\" >\n"
   ]
  },
  {
   "cell_type": "markdown",
   "metadata": {
    "slideshow": {
     "slide_type": "slide"
    }
   },
   "source": [
    "### Installing SQLAlchemy\n",
    "\n",
    "$ pip install sqlalchemy"
   ]
  },
  {
   "cell_type": "markdown",
   "metadata": {
    "collapsed": true,
    "slideshow": {
     "slide_type": "-"
    }
   },
   "source": [
    "### Version Check"
   ]
  },
  {
   "cell_type": "code",
   "execution_count": 2,
   "metadata": {
    "slideshow": {
     "slide_type": "-"
    }
   },
   "outputs": [
    {
     "name": "stdout",
     "output_type": "stream",
     "text": [
      "1.1.11\n"
     ]
    }
   ],
   "source": [
    "import sqlalchemy\n",
    "\n",
    "print( sqlalchemy.__version__)"
   ]
  },
  {
   "cell_type": "markdown",
   "metadata": {
    "collapsed": true,
    "slideshow": {
     "slide_type": "slide"
    }
   },
   "source": [
    "### Connectiong"
   ]
  },
  {
   "cell_type": "code",
   "execution_count": 3,
   "metadata": {},
   "outputs": [
    {
     "name": "stdout",
     "output_type": "stream",
     "text": [
      "Engine(sqlite:///sqlalchemy.sqlite)\n"
     ]
    }
   ],
   "source": [
    "from sqlalchemy import create_engine\n",
    "\n",
    "engine = create_engine(\"sqlite:///sqlalchemy.sqlite\", echo=True, convert_unicode=True)\n",
    "\n",
    "print(engine)"
   ]
  },
  {
   "cell_type": "markdown",
   "metadata": {
    "slideshow": {
     "slide_type": "slide"
    }
   },
   "source": [
    "### Declaring a Mapping\n",
    "\n",
    "- A Table that represents a table in a database\n",
    "- A mapper that maps a Python class to a table in database\n",
    "- A class object that defines how a database record maps to a normal Python object"
   ]
  },
  {
   "cell_type": "markdown",
   "metadata": {},
   "source": [
    "#### Define Models\n",
    "\n",
    "| Users                        ||\n",
    "| :------------ | :-----------: |\n",
    "| user_id       | int           |\n",
    "| user_name     | varchar(32)   |\n",
    "| user_email    | varchar(32)   |"
   ]
  },
  {
   "cell_type": "code",
   "execution_count": 4,
   "metadata": {
    "collapsed": true,
    "slideshow": {
     "slide_type": "skip"
    }
   },
   "outputs": [],
   "source": [
    "from sqlalchemy.ext.declarative import declarative_base\n",
    "from sqlalchemy import Column, Integer, String\n",
    "\n",
    "Base = declarative_base()\n",
    "\n",
    "\n",
    "class User(Base):\n",
    "    __tablename__ = \"users\"\n",
    "    user_id = Column(Integer, primary_key=True,  autoincrement=True)\n",
    "    user_name = Column(String(32), unique=True)\n",
    "    user_email = Column(String(32), unique=True)\n",
    "    \n",
    "    def __init__(self, user_name, user_email):\n",
    "        self.user_name = user_name\n",
    "        self.user_email = user_email\n",
    "    \n",
    "    def __repr__(self):\n",
    "        return \"<User('%d', '%s, %s')>\" % (self.user_id, self.user_name, self.user_email)\n",
    "    \n",
    "class Program(Base):\n",
    "    __tablename__ = \"programs\"\n",
    "    program_id = Column(Integer, primary_key=True, autoincrement=True)\n",
    "    program_name = Column(String(32), unique=True)\n",
    "    \n",
    "    def __init__(self, program_id, program_name):\n",
    "        self.program_id = program_id\n",
    "        self.program_name = program_name\n",
    "        \n",
    "    def __repr__(self):\n",
    "        return \"<Program('%d', '%s')\" % (self.program_id, self.program_name)\n",
    "    \n",
    "class ProgramEnrollment(Base):\n",
    "    __tablename__ = \"program_enrollment\"\n",
    "    program_id = Column(Integer, primary_key = True)\n",
    "    user_id = Column(Integer, primary_key = True)   \n",
    "    \n",
    "    def __init__(self, program_id, user_id):\n",
    "        self.program_id = program_id\n",
    "        self.user_id = user_id\n",
    "    \n",
    "    def __repr__(self):\n",
    "        return \"<ProgramEnrollment('%s', '%s')\" % (self.program_id, self.user_id)"
   ]
  },
  {
   "cell_type": "code",
   "execution_count": 5,
   "metadata": {
    "collapsed": true,
    "slideshow": {
     "slide_type": "-"
    }
   },
   "outputs": [],
   "source": [
    "from sqlalchemy.ext.declarative import declarative_base\n",
    "from sqlalchemy import Column, Integer, String\n",
    "\n",
    "Base = declarative_base()\n",
    "\n",
    "\n",
    "class User(Base):\n",
    "    __tablename__ = \"users\"\n",
    "    user_id = Column(Integer, primary_key=True,  autoincrement=True)\n",
    "    user_name = Column(String(32), unique=True)\n",
    "    user_email = Column(String(32), unique=True)\n",
    "    \n",
    "    def __init__(self, user_name, user_email):\n",
    "        self.user_name = user_name\n",
    "        self.user_email = user_email\n",
    "    \n",
    "    def __repr__(self):\n",
    "        return \"<User('%d', '%s, %s')>\" % (self.user_id, self.user_name, self.user_email)"
   ]
  },
  {
   "cell_type": "markdown",
   "metadata": {
    "slideshow": {
     "slide_type": "slide"
    }
   },
   "source": [
    "### Creating a Schema"
   ]
  },
  {
   "cell_type": "code",
   "execution_count": 6,
   "metadata": {},
   "outputs": [
    {
     "data": {
      "text/plain": [
       "Table('users', MetaData(bind=None), Column('user_id', Integer(), table=<users>, primary_key=True, nullable=False), Column('user_name', String(length=32), table=<users>), Column('user_email', String(length=32), table=<users>), schema=None)"
      ]
     },
     "execution_count": 6,
     "metadata": {},
     "output_type": "execute_result"
    }
   ],
   "source": [
    "User.__table__"
   ]
  },
  {
   "cell_type": "code",
   "execution_count": 7,
   "metadata": {
    "slideshow": {
     "slide_type": "skip"
    }
   },
   "outputs": [
    {
     "data": {
      "text/plain": [
       "Table('programs', MetaData(bind=None), Column('program_id', Integer(), table=<programs>, primary_key=True, nullable=False), Column('program_name', String(length=32), table=<programs>), schema=None)"
      ]
     },
     "execution_count": 7,
     "metadata": {},
     "output_type": "execute_result"
    }
   ],
   "source": [
    "Program.__table__"
   ]
  },
  {
   "cell_type": "code",
   "execution_count": 8,
   "metadata": {
    "slideshow": {
     "slide_type": "skip"
    }
   },
   "outputs": [
    {
     "data": {
      "text/plain": [
       "Table('program_enrollment', MetaData(bind=None), Column('program_id', Integer(), table=<program_enrollment>, primary_key=True, nullable=False), Column('user_id', Integer(), table=<program_enrollment>, primary_key=True, nullable=False), schema=None)"
      ]
     },
     "execution_count": 8,
     "metadata": {},
     "output_type": "execute_result"
    }
   ],
   "source": [
    "ProgramEnrollment.__table__"
   ]
  },
  {
   "cell_type": "code",
   "execution_count": 9,
   "metadata": {},
   "outputs": [
    {
     "name": "stdout",
     "output_type": "stream",
     "text": [
      "2017-07-31 01:05:28,809 INFO sqlalchemy.engine.base.Engine SELECT CAST('test plain returns' AS VARCHAR(60)) AS anon_1\n",
      "2017-07-31 01:05:28,812 INFO sqlalchemy.engine.base.Engine ()\n",
      "2017-07-31 01:05:28,815 INFO sqlalchemy.engine.base.Engine SELECT CAST('test unicode returns' AS VARCHAR(60)) AS anon_1\n",
      "2017-07-31 01:05:28,818 INFO sqlalchemy.engine.base.Engine ()\n",
      "2017-07-31 01:05:28,822 INFO sqlalchemy.engine.base.Engine PRAGMA table_info(\"users\")\n",
      "2017-07-31 01:05:28,825 INFO sqlalchemy.engine.base.Engine ()\n",
      "2017-07-31 01:05:28,829 INFO sqlalchemy.engine.base.Engine \n",
      "CREATE TABLE users (\n",
      "\tuser_id INTEGER NOT NULL, \n",
      "\tuser_name VARCHAR(32), \n",
      "\tuser_email VARCHAR(32), \n",
      "\tPRIMARY KEY (user_id), \n",
      "\tUNIQUE (user_name), \n",
      "\tUNIQUE (user_email)\n",
      ")\n",
      "\n",
      "\n",
      "2017-07-31 01:05:28,831 INFO sqlalchemy.engine.base.Engine ()\n",
      "2017-07-31 01:05:28,871 INFO sqlalchemy.engine.base.Engine COMMIT\n"
     ]
    }
   ],
   "source": [
    "Base.metadata.create_all(bind=engine)"
   ]
  },
  {
   "cell_type": "markdown",
   "metadata": {
    "slideshow": {
     "slide_type": "slide"
    }
   },
   "source": [
    "### Creating a Session"
   ]
  },
  {
   "cell_type": "code",
   "execution_count": 10,
   "metadata": {},
   "outputs": [
    {
     "name": "stdout",
     "output_type": "stream",
     "text": [
      "<sqlalchemy.orm.session.Session object at 0x7fc9645c6780>\n"
     ]
    }
   ],
   "source": [
    "from sqlalchemy.orm import sessionmaker\n",
    "\n",
    "Session = sessionmaker(bind=engine)\n",
    "\n",
    "session = Session()\n",
    "\n",
    "print(session)"
   ]
  },
  {
   "cell_type": "code",
   "execution_count": 11,
   "metadata": {
    "collapsed": true,
    "slideshow": {
     "slide_type": "-"
    }
   },
   "outputs": [],
   "source": [
    "session.close()"
   ]
  },
  {
   "cell_type": "markdown",
   "metadata": {
    "slideshow": {
     "slide_type": "slide"
    }
   },
   "source": [
    "### Adding and Updating Object\n",
    "\n",
    "#### Adding Objects"
   ]
  },
  {
   "cell_type": "code",
   "execution_count": 12,
   "metadata": {},
   "outputs": [
    {
     "name": "stdout",
     "output_type": "stream",
     "text": [
      "2017-07-31 01:05:28,967 INFO sqlalchemy.engine.base.Engine BEGIN (implicit)\n",
      "2017-07-31 01:05:28,973 INFO sqlalchemy.engine.base.Engine INSERT INTO users (user_name, user_email) VALUES (?, ?)\n",
      "2017-07-31 01:05:28,976 INFO sqlalchemy.engine.base.Engine ('최영선', 'yeongseon.choe@pycon.kr')\n",
      "2017-07-31 01:05:28,988 INFO sqlalchemy.engine.base.Engine COMMIT\n"
     ]
    }
   ],
   "source": [
    "Session = sessionmaker(bind=engine)\n",
    "\n",
    "session = Session()\n",
    "\n",
    "user = User(\"최영선\", \"yeongseon.choe@pycon.kr\")\n",
    "\n",
    "session.add(user)\n",
    "session.commit()"
   ]
  },
  {
   "cell_type": "code",
   "execution_count": 13,
   "metadata": {
    "slideshow": {
     "slide_type": "slide"
    }
   },
   "outputs": [
    {
     "name": "stdout",
     "output_type": "stream",
     "text": [
      "2017-07-31 01:05:29,037 INFO sqlalchemy.engine.base.Engine BEGIN (implicit)\n",
      "2017-07-31 01:05:29,044 INFO sqlalchemy.engine.base.Engine INSERT INTO users (user_name, user_email) VALUES (?, ?)\n",
      "2017-07-31 01:05:29,046 INFO sqlalchemy.engine.base.Engine ('배준현', 'junhyun.bae@pycon.kr')\n",
      "2017-07-31 01:05:29,060 INFO sqlalchemy.engine.base.Engine INSERT INTO users (user_name, user_email) VALUES (?, ?)\n",
      "2017-07-31 01:05:29,062 INFO sqlalchemy.engine.base.Engine ('김준기', 'junki.kim@pycon.kr')\n",
      "2017-07-31 01:05:29,064 INFO sqlalchemy.engine.base.Engine COMMIT\n"
     ]
    }
   ],
   "source": [
    "session.add_all([\n",
    "    User(\"배준현\", \"junhyun.bae@pycon.kr\"),\n",
    "    User(\"김준기\", \"junki.kim@pycon.kr\")]\n",
    ")\n",
    "session.commit()"
   ]
  },
  {
   "cell_type": "code",
   "execution_count": 14,
   "metadata": {},
   "outputs": [
    {
     "name": "stdout",
     "output_type": "stream",
     "text": [
      "2017-07-31 01:05:29,113 INFO sqlalchemy.engine.base.Engine BEGIN (implicit)\n",
      "2017-07-31 01:05:29,118 INFO sqlalchemy.engine.base.Engine INSERT INTO users (user_name, user_email) VALUES (?, ?)\n",
      "2017-07-31 01:05:29,120 INFO sqlalchemy.engine.base.Engine (('강대성', 'daesung.kang@pycon.kr'), ('한성준', 'sungjun.han@pycon.kr'))\n",
      "2017-07-31 01:05:29,129 INFO sqlalchemy.engine.base.Engine COMMIT\n"
     ]
    }
   ],
   "source": [
    "user1 = User(\"강대성\", \"daesung.kang@pycon.kr\")\n",
    "user2 = User(\"한성준\", \"sungjun.han@pycon.kr\")\n",
    "\n",
    "session.bulk_save_objects([user1, user2])\n",
    "session.commit()"
   ]
  },
  {
   "cell_type": "markdown",
   "metadata": {
    "slideshow": {
     "slide_type": "slide"
    }
   },
   "source": [
    "#### Updating Objects"
   ]
  },
  {
   "cell_type": "code",
   "execution_count": 15,
   "metadata": {},
   "outputs": [
    {
     "name": "stdout",
     "output_type": "stream",
     "text": [
      "2017-07-31 01:05:29,177 INFO sqlalchemy.engine.base.Engine BEGIN (implicit)\n",
      "2017-07-31 01:05:29,182 INFO sqlalchemy.engine.base.Engine SELECT users.user_id AS users_user_id, users.user_name AS users_user_name, users.user_email AS users_user_email \n",
      "FROM users\n",
      " LIMIT ? OFFSET ?\n",
      "2017-07-31 01:05:29,186 INFO sqlalchemy.engine.base.Engine (1, 0)\n",
      "<User('1', '최영선, yeongseon.choe@pycon.kr')>\n"
     ]
    }
   ],
   "source": [
    "user = session.query(User).filter_by().first() \n",
    "print(user)"
   ]
  },
  {
   "cell_type": "code",
   "execution_count": 16,
   "metadata": {},
   "outputs": [
    {
     "name": "stdout",
     "output_type": "stream",
     "text": [
      "<User('1', 'Yeongseon Choe, yeongseon.choe@pycon.kr')>\n",
      "2017-07-31 01:05:29,208 INFO sqlalchemy.engine.base.Engine UPDATE users SET user_name=? WHERE users.user_id = ?\n",
      "2017-07-31 01:05:29,210 INFO sqlalchemy.engine.base.Engine ('Yeongseon Choe', 1)\n",
      "2017-07-31 01:05:29,219 INFO sqlalchemy.engine.base.Engine COMMIT\n"
     ]
    }
   ],
   "source": [
    "user.user_name = 'Yeongseon Choe'\n",
    "print(user)\n",
    "session.commit()"
   ]
  },
  {
   "cell_type": "code",
   "execution_count": 17,
   "metadata": {},
   "outputs": [
    {
     "name": "stdout",
     "output_type": "stream",
     "text": [
      "2017-07-31 01:05:29,305 INFO sqlalchemy.engine.base.Engine BEGIN (implicit)\n",
      "2017-07-31 01:05:29,309 INFO sqlalchemy.engine.base.Engine SELECT users.user_id AS users_user_id, users.user_name AS users_user_name, users.user_email AS users_user_email \n",
      "FROM users\n",
      " LIMIT ? OFFSET ?\n",
      "2017-07-31 01:05:29,311 INFO sqlalchemy.engine.base.Engine (1, 0)\n",
      "<User('1', 'Yeongseon Choe, yeongseon.choe@pycon.kr')>\n"
     ]
    }
   ],
   "source": [
    "user = session.query(User).filter_by().first() \n",
    "print(user)"
   ]
  },
  {
   "cell_type": "markdown",
   "metadata": {
    "slideshow": {
     "slide_type": "slide"
    }
   },
   "source": [
    "#### Querying"
   ]
  },
  {
   "cell_type": "code",
   "execution_count": 18,
   "metadata": {},
   "outputs": [
    {
     "name": "stdout",
     "output_type": "stream",
     "text": [
      "2017-07-31 01:05:29,339 INFO sqlalchemy.engine.base.Engine SELECT users.user_id AS users_user_id, users.user_name AS users_user_name, users.user_email AS users_user_email \n",
      "FROM users\n",
      "2017-07-31 01:05:29,345 INFO sqlalchemy.engine.base.Engine ()\n",
      "<User('1', 'Yeongseon Choe, yeongseon.choe@pycon.kr')>\n",
      "<User('2', '배준현, junhyun.bae@pycon.kr')>\n",
      "<User('3', '김준기, junki.kim@pycon.kr')>\n",
      "<User('4', '강대성, daesung.kang@pycon.kr')>\n",
      "<User('5', '한성준, sungjun.han@pycon.kr')>\n"
     ]
    }
   ],
   "source": [
    "for user in session.query(User):\n",
    "    print(user)"
   ]
  },
  {
   "cell_type": "code",
   "execution_count": 19,
   "metadata": {
    "slideshow": {
     "slide_type": "slide"
    }
   },
   "outputs": [
    {
     "name": "stdout",
     "output_type": "stream",
     "text": [
      "2017-07-31 01:05:29,375 INFO sqlalchemy.engine.base.Engine SELECT users.user_id AS users_user_id, users.user_name AS users_user_name, users.user_email AS users_user_email \n",
      "FROM users ORDER BY users.user_email\n",
      "2017-07-31 01:05:29,380 INFO sqlalchemy.engine.base.Engine ()\n",
      "<User('4', '강대성, daesung.kang@pycon.kr')>\n",
      "<User('2', '배준현, junhyun.bae@pycon.kr')>\n",
      "<User('3', '김준기, junki.kim@pycon.kr')>\n",
      "<User('5', '한성준, sungjun.han@pycon.kr')>\n",
      "<User('1', 'Yeongseon Choe, yeongseon.choe@pycon.kr')>\n"
     ]
    }
   ],
   "source": [
    "for user in session.query(User).order_by(User.user_email):\n",
    "    print(user)"
   ]
  },
  {
   "cell_type": "markdown",
   "metadata": {},
   "source": [
    "descending order"
   ]
  },
  {
   "cell_type": "code",
   "execution_count": 20,
   "metadata": {},
   "outputs": [
    {
     "name": "stdout",
     "output_type": "stream",
     "text": [
      "2017-07-31 01:05:29,404 INFO sqlalchemy.engine.base.Engine SELECT users.user_id AS users_user_id, users.user_name AS users_user_name, users.user_email AS users_user_email \n",
      "FROM users ORDER BY users.user_email DESC\n",
      "2017-07-31 01:05:29,413 INFO sqlalchemy.engine.base.Engine ()\n",
      "<User('1', 'Yeongseon Choe, yeongseon.choe@pycon.kr')>\n",
      "<User('5', '한성준, sungjun.han@pycon.kr')>\n",
      "<User('3', '김준기, junki.kim@pycon.kr')>\n",
      "<User('2', '배준현, junhyun.bae@pycon.kr')>\n",
      "<User('4', '강대성, daesung.kang@pycon.kr')>\n"
     ]
    }
   ],
   "source": [
    "from sqlalchemy import desc\n",
    "for user in session.query(User).order_by(desc(User.user_email)):\n",
    "    print(user)"
   ]
  },
  {
   "cell_type": "markdown",
   "metadata": {
    "slideshow": {
     "slide_type": "slide"
    }
   },
   "source": [
    "- fileter method\n",
    "    - equals <br>\n",
    "    query.filetr(User.name == 'Yeongseon Choe')\n",
    "    - not equals <br>\n",
    "    query.filetr(User.name != 'Yeongseon Choe')\n",
    "    - like <br>\n",
    "    query.filetr(User.name.like('Yeongseon Choe')"
   ]
  },
  {
   "cell_type": "code",
   "execution_count": 21,
   "metadata": {},
   "outputs": [
    {
     "data": {
      "text/plain": [
       "<sqlalchemy.orm.query.Query at 0x7fc96433fc18>"
      ]
     },
     "execution_count": 21,
     "metadata": {},
     "output_type": "execute_result"
    }
   ],
   "source": [
    "session.query(User).filter(User.user_name =='Yeongseon Choe')"
   ]
  },
  {
   "cell_type": "markdown",
   "metadata": {
    "slideshow": {
     "slide_type": "slide"
    }
   },
   "source": [
    "- Returning Lists and Scalars\n",
    "    - all()\n",
    "    - first()\n",
    "    - one()"
   ]
  },
  {
   "cell_type": "code",
   "execution_count": 22,
   "metadata": {},
   "outputs": [
    {
     "name": "stdout",
     "output_type": "stream",
     "text": [
      "2017-07-31 01:05:29,476 INFO sqlalchemy.engine.base.Engine SELECT users.user_id AS users_user_id, users.user_name AS users_user_name, users.user_email AS users_user_email \n",
      "FROM users \n",
      "WHERE users.user_name = ?\n",
      "2017-07-31 01:05:29,481 INFO sqlalchemy.engine.base.Engine ('Yeongseon Choe',)\n",
      "[<User('1', 'Yeongseon Choe, yeongseon.choe@pycon.kr')>]\n"
     ]
    }
   ],
   "source": [
    "users = session.query(User).filter(User.user_name == 'Yeongseon Choe').all()\n",
    "print(users)"
   ]
  },
  {
   "cell_type": "code",
   "execution_count": 23,
   "metadata": {},
   "outputs": [
    {
     "name": "stdout",
     "output_type": "stream",
     "text": [
      "2017-07-31 01:05:29,510 INFO sqlalchemy.engine.base.Engine SELECT users.user_id AS users_user_id, users.user_name AS users_user_name, users.user_email AS users_user_email \n",
      "FROM users \n",
      "WHERE users.user_name = ?\n",
      " LIMIT ? OFFSET ?\n",
      "2017-07-31 01:05:29,519 INFO sqlalchemy.engine.base.Engine ('Yeongseon Choe', 1, 0)\n",
      "<User('1', 'Yeongseon Choe, yeongseon.choe@pycon.kr')>\n"
     ]
    }
   ],
   "source": [
    "users = session.query(User).filter(User.user_name == 'Yeongseon Choe').first()\n",
    "print(users)"
   ]
  },
  {
   "cell_type": "code",
   "execution_count": 24,
   "metadata": {
    "slideshow": {
     "slide_type": "-"
    }
   },
   "outputs": [
    {
     "name": "stdout",
     "output_type": "stream",
     "text": [
      "2017-07-31 01:05:29,545 INFO sqlalchemy.engine.base.Engine SELECT users.user_id AS users_user_id, users.user_name AS users_user_name, users.user_email AS users_user_email \n",
      "FROM users \n",
      "WHERE users.user_name = ?\n",
      "2017-07-31 01:05:29,553 INFO sqlalchemy.engine.base.Engine ('Yeongseon Choe',)\n",
      "<User('1', 'Yeongseon Choe, yeongseon.choe@pycon.kr')>\n"
     ]
    }
   ],
   "source": [
    "users = session.query(User).filter(User.user_name == 'Yeongseon Choe').one()\n",
    "print(users)"
   ]
  },
  {
   "cell_type": "markdown",
   "metadata": {
    "slideshow": {
     "slide_type": "slide"
    }
   },
   "source": [
    "#### Deleting Object"
   ]
  },
  {
   "cell_type": "code",
   "execution_count": 25,
   "metadata": {},
   "outputs": [
    {
     "name": "stdout",
     "output_type": "stream",
     "text": [
      "2017-07-31 01:05:29,585 INFO sqlalchemy.engine.base.Engine SELECT users.user_id AS users_user_id, users.user_name AS users_user_name, users.user_email AS users_user_email \n",
      "FROM users \n",
      "WHERE users.user_name = ?\n",
      " LIMIT ? OFFSET ?\n",
      "2017-07-31 01:05:29,590 INFO sqlalchemy.engine.base.Engine ('Yeongseon Choe', 1, 0)\n",
      "2017-07-31 01:05:29,593 INFO sqlalchemy.engine.base.Engine DELETE FROM users WHERE users.user_id = ?\n",
      "2017-07-31 01:05:29,595 INFO sqlalchemy.engine.base.Engine (1,)\n",
      "2017-07-31 01:05:29,607 INFO sqlalchemy.engine.base.Engine COMMIT\n"
     ]
    }
   ],
   "source": [
    "user = session.query(User).filter(User.user_name == 'Yeongseon Choe').first()\n",
    "session.delete(user)\n",
    "session.commit()"
   ]
  },
  {
   "cell_type": "markdown",
   "metadata": {
    "slideshow": {
     "slide_type": "slide"
    }
   },
   "source": [
    "#### Define Models\n",
    "\n",
    "| Users                        ||\n",
    "| :------------ | :-----------: |\n",
    "| user_id       | int           |\n",
    "| user_name     | varchar(32)   |\n",
    "| user_email    | varchar(32)   |\n",
    "\n",
    "| Programs                     ||\n",
    "| :------------ | :-----------: |\n",
    "| program_id    | int           |\n",
    "| program_name  | varchar(32)   |\n",
    "| user_id       | varchar(32)   |\n",
    "\n",
    "| Program_enrollment      ||\n",
    "| :------------ | :-----------: |\n",
    "| program_id | int           |\n",
    "| user_id       | int           |"
   ]
  },
  {
   "cell_type": "code",
   "execution_count": 26,
   "metadata": {
    "collapsed": true,
    "slideshow": {
     "slide_type": "-"
    }
   },
   "outputs": [],
   "source": [
    "from sqlalchemy.ext.declarative import declarative_base\n",
    "from sqlalchemy import Column, Integer, String\n",
    "\n",
    "Base = declarative_base()\n",
    "    \n",
    "class Program(Base):\n",
    "    __tablename__ = \"programs\"\n",
    "    program_id = Column(Integer, primary_key=True, autoincrement=True)\n",
    "    program_name = Column(String(32), unique=True)\n",
    "    \n",
    "    def __init__(self, program_id, program_name):\n",
    "        self.program_id = program_id\n",
    "        self.program_name = program_name\n",
    "        \n",
    "    def __repr__(self):\n",
    "        return \"<Program('%d', '%s')\" % (self.program_id, self.program_name)\n",
    "    \n",
    "class ProgramEnrollment(Base):\n",
    "    __tablename__ = \"program_enrollment\"\n",
    "    program_id = Column(Integer, primary_key = True)\n",
    "    user_id = Column(Integer, primary_key = True)   \n",
    "    \n",
    "    def __init__(self, program_id, user_id):\n",
    "        self.program_id = program_id\n",
    "        self.user_id = user_id\n",
    "    \n",
    "    def __repr__(self):\n",
    "        return \"<ProgramEnrollment('%s', '%s')\" % (self.program_id, self.user_id)\n",
    "    \n",
    "# Base.metadata.create_all(bind=engine)"
   ]
  },
  {
   "cell_type": "markdown",
   "metadata": {
    "slideshow": {
     "slide_type": "slide"
    }
   },
   "source": [
    "## Alembic\n",
    "\n",
    "### Database migration tool\n",
    "- creation\n",
    "- management\n",
    "- invocation of change managment"
   ]
  },
  {
   "cell_type": "markdown",
   "metadata": {
    "slideshow": {
     "slide_type": "slide"
    }
   },
   "source": [
    "### Installing Alembic\n",
    "\n",
    "$ pip install alembic"
   ]
  },
  {
   "cell_type": "markdown",
   "metadata": {},
   "source": [
    "### Usage\n",
    "\n",
    "usage: alembic [-h] [-c CONFIG] [-n NAME] [-x X] [--raiseerr]\n",
    "               {branches,current,downgrade,edit,heads,history,init,list_templates,merge,revision,show,stamp,upgrade}     \n"
   ]
  },
  {
   "cell_type": "markdown",
   "metadata": {
    "slideshow": {
     "slide_type": "slide"
    }
   },
   "source": [
    "### Creating an Environment\n",
    "\n",
    "$ alembic init 'alembic' <br>\n",
    "\n",
    "```\n",
    "\n",
    "project\n",
    "│          alembic.ini\n",
    "└─── alembic\n",
    "      │    env.py\n",
    "      │    README\n",
    "      │    script.py.mako      \n",
    "      └─ versions\n",
    "```\n"
   ]
  },
  {
   "cell_type": "markdown",
   "metadata": {
    "slideshow": {
     "slide_type": "slide"
    }
   },
   "source": [
    "  \n",
    "$ vi alembic.ini\n",
    "\n",
    "<pre>\n",
    "# A generic, single database configuration.\n",
    "\n",
    "[alembic]\n",
    "# path to migration scripts\n",
    "script_location = alembic\n",
    "\n",
    "# template used to generate migration files\n",
    "# file_template = %%(rev)s_%%(slug)s\n",
    "\n",
    "# timezone to use when rendering the date\n",
    "# within the migration file as well as the filename.\n",
    "# string value is passed to dateutil.tz.gettz()\n",
    "# leave blank for localtime\n",
    "# timezone =\n",
    "\n",
    "# max length of characters to apply to the\n",
    "# \"slug\" field\n",
    "#truncate_slug_length = 40\n",
    "\n",
    "# set to 'true' to run the environment during\n",
    "# the 'revision' command, regardless of autogenerate\n",
    "# revision_environment = false\n",
    "\n",
    "# set to 'true' to allow .pyc and .pyo files without\n",
    "# a source .py file to be detected as revisions in the\n",
    "# versions/ directory\n",
    "# sourceless = false\n",
    "\n",
    "# version location specification; this defaults\n",
    "# to alembic/versions.  When using multiple version\n",
    "# directories, initial revisions must be specified with --version-path\n",
    "# version_locations = %(here)s/bar %(here)s/bat alembic/versions\n",
    "\n",
    "# the output encoding used when revision files\n",
    "# are written from script.py.mako\n",
    "# output_encoding = utf-8\n",
    "\n",
    "sqlalchemy.url = sqlite:///alembic.sqlite\n",
    "\n",
    "\n",
    "# Logging configuration\n",
    "[loggers]\n",
    "keys = root,sqlalchemy,alembic\n",
    "\n",
    "[handlers]\n",
    "keys = console\n",
    "\n",
    "[formatters]\n",
    "keys = generic\n",
    "\n",
    "[logger_root]\n",
    "level = WARN\n",
    "handlers = console\n",
    "qualname =\n",
    "\n",
    "[logger_sqlalchemy]\n",
    "level = WARN\n",
    "handlers =\n",
    "qualname = sqlalchemy.engine\n",
    "\n",
    "[logger_alembic]\n",
    "level = INFO\n",
    "handlers =\n",
    "qualname = alembic\n",
    "\n",
    "[handler_console]\n",
    "class = StreamHandler\n",
    "args = (sys.stderr,)\n",
    "level = NOTSET\n",
    "formatter = generic\n",
    "\n",
    "[formatter_generic]\n",
    "format = %(levelname)-5.5s [%(name)s] %(message)s\n",
    "datefmt = %H:%M:%S\n",
    "\n",
    "</pre>"
   ]
  },
  {
   "cell_type": "markdown",
   "metadata": {
    "slideshow": {
     "slide_type": "slide"
    }
   },
   "source": [
    "### Creating a Migration Script\n",
    "\n",
    "$ alembic revision -m \"create tables\"\n",
    "\n",
    "<br>\n",
    "```\n",
    "project\n",
    "│          alembic.ini\n",
    "└─── alembic\n",
    "      │    env.py\n",
    "      │    README\n",
    "      │    script.py.mako      \n",
    "      └─ versions\n",
    "          │   8de6f753dcac_create_tables.pyy\n",
    "```"
   ]
  },
  {
   "cell_type": "markdown",
   "metadata": {
    "slideshow": {
     "slide_type": "slide"
    }
   },
   "source": [
    "$ vi alembic/versions/8de6f753dcac_create_tables.py"
   ]
  },
  {
   "cell_type": "code",
   "execution_count": 27,
   "metadata": {
    "collapsed": true
   },
   "outputs": [],
   "source": [
    "\"\"\"create tables\n",
    "\n",
    "Revision ID: 8de6f753dcac\n",
    "Revises: \n",
    "Create Date: 2017-07-29 22:19:30.546010\n",
    "\n",
    "\"\"\"\n",
    "from alembic import op\n",
    "import sqlalchemy as sa\n",
    "\n",
    "\n",
    "# revision identifiers, used by Alembic.\n",
    "revision = '8de6f753dcac'\n",
    "down_revision = None\n",
    "branch_labels = None\n",
    "depends_on = None\n",
    "\n",
    "\n",
    "def upgrade():\n",
    "    pass\n",
    "\n",
    "\n",
    "def downgrade():\n",
    "    pass\n"
   ]
  },
  {
   "cell_type": "code",
   "execution_count": 28,
   "metadata": {
    "collapsed": true
   },
   "outputs": [],
   "source": [
    "\"\"\"create tables\n",
    "\n",
    "Revision ID: 8de6f753dcac\n",
    "Revises: \n",
    "Create Date: 2017-07-29 22:19:30.546010\n",
    "\n",
    "\"\"\"\n",
    "from alembic import op\n",
    "import sqlalchemy as sa\n",
    "\n",
    "\n",
    "# revision identifiers, used by Alembic.\n",
    "revision = '8de6f753dcac'\n",
    "down_revision = None\n",
    "branch_labels = None\n",
    "depends_on = None\n",
    "\n",
    "\n",
    "def upgrade():\n",
    "    op.create_table(\n",
    "        'programs',\n",
    "        sa.Column('program_id', sa.Integer, primary_key=True, autoincrement=True),\n",
    "        sa.Column('program_name', sa.String(32), unique=True, nullable=False),\n",
    "    )\n",
    "    op.create_table(\n",
    "        'program_enrollment',\n",
    "        sa.Column('program_id', sa.Integer, primary_key=True),\n",
    "        sa.Column('user_id', sa.Integer, primary_key=True),\n",
    "    )\n",
    "\n",
    "def downgrade():\n",
    "    op.drop_table('programs')\n",
    "    op.drop_table('program_enrollment')\n"
   ]
  },
  {
   "cell_type": "markdown",
   "metadata": {
    "slideshow": {
     "slide_type": "slide"
    }
   },
   "source": [
    " $ alembic.exe upgrade head\n",
    " \n",
    "INFO  [alembic.runtime.migration] Context impl SQLiteImpl. <br>\n",
    "INFO  [alembic.runtime.migration] Will assume non-transactional DDL. <br>\n",
    "INFO  [alembic.runtime.migration] Running upgrade  -> 8de6f753dcac, create tables\n"
   ]
  }
 ],
 "metadata": {
  "celltoolbar": "Slideshow",
  "kernelspec": {
   "display_name": "Python 3",
   "language": "python",
   "name": "python3"
  },
  "language_info": {
   "codemirror_mode": {
    "name": "ipython",
    "version": 3
   },
   "file_extension": ".py",
   "mimetype": "text/x-python",
   "name": "python",
   "nbconvert_exporter": "python",
   "pygments_lexer": "ipython3",
   "version": "3.5.2"
  }
 },
 "nbformat": 4,
 "nbformat_minor": 2
}
