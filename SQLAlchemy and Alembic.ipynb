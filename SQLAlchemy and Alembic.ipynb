{
 "cells": [
  {
   "cell_type": "markdown",
   "metadata": {
    "slideshow": {
     "slide_type": "slide"
    }
   },
   "source": [
    "# SQLAlchemy and Alembic\n",
    "\n",
    "<br>\n",
    "<br>\n",
    "<br>\n",
    "<br>\n",
    "\n",
    "<div style=\"text-align: right\"> SAP Labs Korea </div>\n",
    "<div style=\"text-align: right\"> 최영선 </div>"
   ]
  },
  {
   "attachments": {},
   "cell_type": "markdown",
   "metadata": {
    "slideshow": {
     "slide_type": "slide"
    }
   },
   "source": [
    "\n",
    "<img align=\"middle\" src=\"https://2.bp.blogspot.com/-u5RzeZjX5Ew/T7CzT9vFgyI/AAAAAAAABJ8/fDbn24qYajg/s1600/Isaac-Newton.jpg\" >\n",
    "\n",
    "<div style=\"text-align: center\">\"If I have seen future. it is by importing from the code of giants\" </div>\n",
    "<div style=\"text-align: right\"> Definitely Not isaac Newton </div>"
   ]
  },
  {
   "cell_type": "markdown",
   "metadata": {
    "slideshow": {
     "slide_type": "slide"
    }
   },
   "source": [
    "## What is the SQLAlchemy ?\n",
    "\n",
    "\n"
   ]
  },
  {
   "cell_type": "markdown",
   "metadata": {
    "slideshow": {
     "slide_type": "slide"
    }
   },
   "source": [
    "### Installing SQLAlchemy\n",
    "\n",
    "$ pip install sqlalchemy"
   ]
  },
  {
   "cell_type": "markdown",
   "metadata": {
    "collapsed": true,
    "slideshow": {
     "slide_type": "-"
    }
   },
   "source": [
    "### Version Check"
   ]
  },
  {
   "cell_type": "code",
   "execution_count": 1,
   "metadata": {
    "slideshow": {
     "slide_type": "-"
    }
   },
   "outputs": [
    {
     "name": "stdout",
     "output_type": "stream",
     "text": [
      "1.1.11\n"
     ]
    }
   ],
   "source": [
    "import sqlalchemy\n",
    "\n",
    "print( sqlalchemy.__version__)"
   ]
  },
  {
   "cell_type": "markdown",
   "metadata": {
    "collapsed": true,
    "slideshow": {
     "slide_type": "slide"
    }
   },
   "source": [
    "### Connectiong"
   ]
  },
  {
   "cell_type": "code",
   "execution_count": 2,
   "metadata": {},
   "outputs": [
    {
     "name": "stdout",
     "output_type": "stream",
     "text": [
      "Engine(sqlite:///testdb.sqlite)\n"
     ]
    }
   ],
   "source": [
    "from sqlalchemy import create_engine\n",
    "\n",
    "engine = create_engine(\"sqlite:///testdb.sqlite\", echo=True, convert_unicode=True)\n",
    "\n",
    "print(engine)"
   ]
  },
  {
   "cell_type": "markdown",
   "metadata": {
    "slideshow": {
     "slide_type": "slide"
    }
   },
   "source": [
    "### Declaring a Mapping"
   ]
  },
  {
   "cell_type": "markdown",
   "metadata": {
    "slideshow": {
     "slide_type": "skip"
    }
   },
   "source": [
    "#### Define Models\n",
    "\n",
    "| Users                        ||\n",
    "| :------------ | :-----------: |\n",
    "| user_id       | int           |\n",
    "| user_name     | varchar(32)   |\n",
    "| user_email    | varchar(32)   |\n",
    "\n",
    "| Programs                     ||\n",
    "| :------------ | :-----------: |\n",
    "| program_id    | int           |\n",
    "| program_name  | varchar(32)   |\n",
    "| user_id       | varchar(32)   |\n",
    "\n",
    "| Program_enrollment      ||\n",
    "| :------------ | :-----------: |\n",
    "| program_id | int           |\n",
    "| user_id       | int           |"
   ]
  },
  {
   "cell_type": "markdown",
   "metadata": {},
   "source": [
    "#### Define Models\n",
    "\n",
    "| Users                        ||\n",
    "| :------------ | :-----------: |\n",
    "| user_id       | int           |\n",
    "| user_name     | varchar(32)   |\n",
    "| user_email    | varchar(32)   |"
   ]
  },
  {
   "cell_type": "code",
   "execution_count": 3,
   "metadata": {
    "collapsed": true,
    "slideshow": {
     "slide_type": "skip"
    }
   },
   "outputs": [],
   "source": [
    "from sqlalchemy.ext.declarative import declarative_base\n",
    "from sqlalchemy import Column, Integer, String\n",
    "\n",
    "Base = declarative_base()\n",
    "\n",
    "\n",
    "class User(Base):\n",
    "    __tablename__ = \"users\"\n",
    "    user_id = Column(Integer, primary_key=True,  autoincrement=True)\n",
    "    user_name = Column(String(32), unique=True)\n",
    "    user_email = Column(String(32), unique=True)\n",
    "    \n",
    "    def __init__(self, user_name, user_email):\n",
    "        self.user_name = user_name\n",
    "        self.user_email = user_email\n",
    "    \n",
    "    def __repr__(self):\n",
    "        return \"<User('%d', '%s, %s')>\" % (self.user_id, self.user_name, self.user_email)\n",
    "    \n",
    "class Program(Base):\n",
    "    __tablename__ = \"programs\"\n",
    "    program_id = Column(Integer, primary_key=True, autoincrement=True)\n",
    "    program_name = Column(String(32), unique=True)\n",
    "    \n",
    "    def __init__(self, program_id, program_name):\n",
    "        self.program_id = program_id\n",
    "        self.program_name = program_name\n",
    "        \n",
    "    def __repr__(self):\n",
    "        return \"<Program('%d', '%s')\" % (self.program_id, self.program_name)\n",
    "    \n",
    "class ProgramEnrollment(Base):\n",
    "    __tablename__ = \"program_enrollment\"\n",
    "    program_id = Column(Integer, primary_key = True)\n",
    "    user_id = Column(Integer, primary_key = True)   \n",
    "    \n",
    "    def __init__(self, program_id, user_id):\n",
    "        self.program_id = program_id\n",
    "        self.user_id = user_id\n",
    "    \n",
    "    def __repr__(self):\n",
    "        return \"<ProgramEnrollment('%s', '%s')\" % (self.program_id, self.user_id)"
   ]
  },
  {
   "cell_type": "code",
   "execution_count": 4,
   "metadata": {
    "collapsed": true,
    "slideshow": {
     "slide_type": "-"
    }
   },
   "outputs": [],
   "source": [
    "from sqlalchemy.ext.declarative import declarative_base\n",
    "from sqlalchemy import Column, Integer, String\n",
    "\n",
    "Base = declarative_base()\n",
    "\n",
    "\n",
    "class User(Base):\n",
    "    __tablename__ = \"users\"\n",
    "    user_id = Column(Integer, primary_key=True,  autoincrement=True)\n",
    "    user_name = Column(String(32), unique=True)\n",
    "    user_email = Column(String(32), unique=True)\n",
    "    \n",
    "    def __init__(self, user_name, user_email):\n",
    "        self.user_name = user_name\n",
    "        self.user_email = user_email\n",
    "    \n",
    "    def __repr__(self):\n",
    "        return \"<User('%d', '%s, %s')>\" % (self.user_id, self.user_name, self.user_email)"
   ]
  },
  {
   "cell_type": "markdown",
   "metadata": {
    "slideshow": {
     "slide_type": "slide"
    }
   },
   "source": [
    "### Creating a Schema"
   ]
  },
  {
   "cell_type": "code",
   "execution_count": 5,
   "metadata": {},
   "outputs": [
    {
     "data": {
      "text/plain": [
       "Table('users', MetaData(bind=None), Column('user_id', Integer(), table=<users>, primary_key=True, nullable=False), Column('user_name', String(length=32), table=<users>), Column('user_email', String(length=32), table=<users>), schema=None)"
      ]
     },
     "execution_count": 5,
     "metadata": {},
     "output_type": "execute_result"
    }
   ],
   "source": [
    "User.__table__"
   ]
  },
  {
   "cell_type": "code",
   "execution_count": 6,
   "metadata": {
    "slideshow": {
     "slide_type": "skip"
    }
   },
   "outputs": [
    {
     "data": {
      "text/plain": [
       "Table('programs', MetaData(bind=None), Column('program_id', Integer(), table=<programs>, primary_key=True, nullable=False), Column('program_name', String(length=32), table=<programs>), schema=None)"
      ]
     },
     "execution_count": 6,
     "metadata": {},
     "output_type": "execute_result"
    }
   ],
   "source": [
    "Program.__table__"
   ]
  },
  {
   "cell_type": "code",
   "execution_count": 7,
   "metadata": {
    "slideshow": {
     "slide_type": "skip"
    }
   },
   "outputs": [
    {
     "data": {
      "text/plain": [
       "Table('program_enrollment', MetaData(bind=None), Column('program_id', Integer(), table=<program_enrollment>, primary_key=True, nullable=False), Column('user_id', Integer(), table=<program_enrollment>, primary_key=True, nullable=False), schema=None)"
      ]
     },
     "execution_count": 7,
     "metadata": {},
     "output_type": "execute_result"
    }
   ],
   "source": [
    "ProgramEnrollment.__table__"
   ]
  },
  {
   "cell_type": "code",
   "execution_count": 8,
   "metadata": {},
   "outputs": [
    {
     "name": "stdout",
     "output_type": "stream",
     "text": [
      "2017-07-29 22:12:20,263 INFO sqlalchemy.engine.base.Engine SELECT CAST('test plain returns' AS VARCHAR(60)) AS anon_1\n",
      "2017-07-29 22:12:20,265 INFO sqlalchemy.engine.base.Engine ()\n",
      "2017-07-29 22:12:20,268 INFO sqlalchemy.engine.base.Engine SELECT CAST('test unicode returns' AS VARCHAR(60)) AS anon_1\n",
      "2017-07-29 22:12:20,272 INFO sqlalchemy.engine.base.Engine ()\n",
      "2017-07-29 22:12:20,276 INFO sqlalchemy.engine.base.Engine PRAGMA table_info(\"users\")\n",
      "2017-07-29 22:12:20,278 INFO sqlalchemy.engine.base.Engine ()\n",
      "2017-07-29 22:12:20,282 INFO sqlalchemy.engine.base.Engine \n",
      "CREATE TABLE users (\n",
      "\tuser_id INTEGER NOT NULL, \n",
      "\tuser_name VARCHAR(32), \n",
      "\tuser_email VARCHAR(32), \n",
      "\tPRIMARY KEY (user_id), \n",
      "\tUNIQUE (user_name), \n",
      "\tUNIQUE (user_email)\n",
      ")\n",
      "\n",
      "\n",
      "2017-07-29 22:12:20,283 INFO sqlalchemy.engine.base.Engine ()\n",
      "2017-07-29 22:12:20,297 INFO sqlalchemy.engine.base.Engine COMMIT\n"
     ]
    }
   ],
   "source": [
    "Base.metadata.create_all(bind=engine)"
   ]
  },
  {
   "cell_type": "markdown",
   "metadata": {
    "slideshow": {
     "slide_type": "slide"
    }
   },
   "source": [
    "### Creating a Session"
   ]
  },
  {
   "cell_type": "code",
   "execution_count": 9,
   "metadata": {},
   "outputs": [
    {
     "name": "stdout",
     "output_type": "stream",
     "text": [
      "<sqlalchemy.orm.session.Session object at 0x000002535865DA58>\n"
     ]
    }
   ],
   "source": [
    "from sqlalchemy.orm import sessionmaker\n",
    "\n",
    "Session = sessionmaker(bind=engine)\n",
    "\n",
    "session = Session()\n",
    "\n",
    "print(session)"
   ]
  },
  {
   "cell_type": "code",
   "execution_count": 10,
   "metadata": {
    "slideshow": {
     "slide_type": "-"
    }
   },
   "outputs": [],
   "source": [
    "session.close()"
   ]
  },
  {
   "cell_type": "markdown",
   "metadata": {
    "slideshow": {
     "slide_type": "slide"
    }
   },
   "source": [
    "### Adding and Updating Object\n",
    "\n",
    "#### Adding Objects"
   ]
  },
  {
   "cell_type": "code",
   "execution_count": 11,
   "metadata": {},
   "outputs": [
    {
     "name": "stdout",
     "output_type": "stream",
     "text": [
      "2017-07-29 22:12:20,357 INFO sqlalchemy.engine.base.Engine BEGIN (implicit)\n",
      "2017-07-29 22:12:20,361 INFO sqlalchemy.engine.base.Engine INSERT INTO users (user_name, user_email) VALUES (?, ?)\n",
      "2017-07-29 22:12:20,363 INFO sqlalchemy.engine.base.Engine ('최영선', 'yeongseon.choe@pycon.kr')\n",
      "2017-07-29 22:12:20,369 INFO sqlalchemy.engine.base.Engine COMMIT\n"
     ]
    }
   ],
   "source": [
    "Session = sessionmaker(bind=engine)\n",
    "\n",
    "session = Session()\n",
    "\n",
    "user = User(\"최영선\", \"yeongseon.choe@pycon.kr\")\n",
    "\n",
    "session.add(user)\n",
    "session.commit()"
   ]
  },
  {
   "cell_type": "code",
   "execution_count": 12,
   "metadata": {
    "slideshow": {
     "slide_type": "slide"
    }
   },
   "outputs": [
    {
     "name": "stdout",
     "output_type": "stream",
     "text": [
      "2017-07-29 22:12:20,400 INFO sqlalchemy.engine.base.Engine BEGIN (implicit)\n",
      "2017-07-29 22:12:20,402 INFO sqlalchemy.engine.base.Engine INSERT INTO users (user_name, user_email) VALUES (?, ?)\n",
      "2017-07-29 22:12:20,410 INFO sqlalchemy.engine.base.Engine ('배준현', 'junhyun.bae@pycon.kr')\n",
      "2017-07-29 22:12:20,420 INFO sqlalchemy.engine.base.Engine INSERT INTO users (user_name, user_email) VALUES (?, ?)\n",
      "2017-07-29 22:12:20,422 INFO sqlalchemy.engine.base.Engine ('김준기', 'junki.kim@pycon.kr')\n",
      "2017-07-29 22:12:20,424 INFO sqlalchemy.engine.base.Engine COMMIT\n"
     ]
    }
   ],
   "source": [
    "session.add_all([\n",
    "    User(\"배준현\", \"junhyun.bae@pycon.kr\"),\n",
    "    User(\"김준기\", \"junki.kim@pycon.kr\")]\n",
    ")\n",
    "session.commit()"
   ]
  },
  {
   "cell_type": "code",
   "execution_count": 13,
   "metadata": {},
   "outputs": [
    {
     "name": "stdout",
     "output_type": "stream",
     "text": [
      "2017-07-29 22:12:20,459 INFO sqlalchemy.engine.base.Engine BEGIN (implicit)\n",
      "2017-07-29 22:12:20,461 INFO sqlalchemy.engine.base.Engine INSERT INTO users (user_name, user_email) VALUES (?, ?)\n",
      "2017-07-29 22:12:20,466 INFO sqlalchemy.engine.base.Engine (('강대성', 'daesung.kang@pycon.kr'), ('한성준', 'sungjun.han@pycon.kr'))\n",
      "2017-07-29 22:12:20,473 INFO sqlalchemy.engine.base.Engine COMMIT\n"
     ]
    }
   ],
   "source": [
    "user1 = User(\"강대성\", \"daesung.kang@pycon.kr\")\n",
    "user2 = User(\"한성준\", \"sungjun.han@pycon.kr\")\n",
    "\n",
    "session.bulk_save_objects([user1, user2])\n",
    "session.commit()"
   ]
  },
  {
   "cell_type": "markdown",
   "metadata": {
    "slideshow": {
     "slide_type": "slide"
    }
   },
   "source": [
    "#### Updating Objects"
   ]
  },
  {
   "cell_type": "code",
   "execution_count": 14,
   "metadata": {},
   "outputs": [
    {
     "name": "stdout",
     "output_type": "stream",
     "text": [
      "2017-07-29 22:12:20,501 INFO sqlalchemy.engine.base.Engine BEGIN (implicit)\n",
      "2017-07-29 22:12:20,507 INFO sqlalchemy.engine.base.Engine SELECT users.user_id AS users_user_id, users.user_name AS users_user_name, users.user_email AS users_user_email \n",
      "FROM users\n",
      " LIMIT ? OFFSET ?\n",
      "2017-07-29 22:12:20,508 INFO sqlalchemy.engine.base.Engine (1, 0)\n",
      "<User('1', '최영선, yeongseon.choe@pycon.kr')>\n"
     ]
    }
   ],
   "source": [
    "user = session.query(User).filter_by().first() \n",
    "print(user)"
   ]
  },
  {
   "cell_type": "code",
   "execution_count": 15,
   "metadata": {},
   "outputs": [
    {
     "name": "stdout",
     "output_type": "stream",
     "text": [
      "<User('1', 'Yeongseon Choe, yeongseon.choe@pycon.kr')>\n",
      "2017-07-29 22:12:20,527 INFO sqlalchemy.engine.base.Engine UPDATE users SET user_name=? WHERE users.user_id = ?\n",
      "2017-07-29 22:12:20,531 INFO sqlalchemy.engine.base.Engine ('Yeongseon Choe', 1)\n",
      "2017-07-29 22:12:20,539 INFO sqlalchemy.engine.base.Engine COMMIT\n"
     ]
    }
   ],
   "source": [
    "user.user_name = 'Yeongseon Choe'\n",
    "print(user)\n",
    "session.commit()"
   ]
  },
  {
   "cell_type": "code",
   "execution_count": 16,
   "metadata": {},
   "outputs": [
    {
     "name": "stdout",
     "output_type": "stream",
     "text": [
      "2017-07-29 22:12:20,569 INFO sqlalchemy.engine.base.Engine BEGIN (implicit)\n",
      "2017-07-29 22:12:20,573 INFO sqlalchemy.engine.base.Engine SELECT users.user_id AS users_user_id, users.user_name AS users_user_name, users.user_email AS users_user_email \n",
      "FROM users\n",
      " LIMIT ? OFFSET ?\n",
      "2017-07-29 22:12:20,575 INFO sqlalchemy.engine.base.Engine (1, 0)\n",
      "<User('1', 'Yeongseon Choe, yeongseon.choe@pycon.kr')>\n"
     ]
    }
   ],
   "source": [
    "user = session.query(User).filter_by().first() \n",
    "print(user)"
   ]
  },
  {
   "cell_type": "markdown",
   "metadata": {
    "slideshow": {
     "slide_type": "slide"
    }
   },
   "source": [
    "#### Querying"
   ]
  },
  {
   "cell_type": "code",
   "execution_count": 17,
   "metadata": {},
   "outputs": [
    {
     "name": "stdout",
     "output_type": "stream",
     "text": [
      "2017-07-29 22:12:20,590 INFO sqlalchemy.engine.base.Engine SELECT users.user_id AS users_user_id, users.user_name AS users_user_name, users.user_email AS users_user_email \n",
      "FROM users\n",
      "2017-07-29 22:12:20,594 INFO sqlalchemy.engine.base.Engine ()\n",
      "<User('1', 'Yeongseon Choe, yeongseon.choe@pycon.kr')>\n",
      "<User('2', '배준현, junhyun.bae@pycon.kr')>\n",
      "<User('3', '김준기, junki.kim@pycon.kr')>\n",
      "<User('4', '강대성, daesung.kang@pycon.kr')>\n",
      "<User('5', '한성준, sungjun.han@pycon.kr')>\n"
     ]
    }
   ],
   "source": [
    "for user in session.query(User):\n",
    "    print(user)"
   ]
  },
  {
   "cell_type": "code",
   "execution_count": 18,
   "metadata": {
    "slideshow": {
     "slide_type": "slide"
    }
   },
   "outputs": [
    {
     "name": "stdout",
     "output_type": "stream",
     "text": [
      "2017-07-29 22:12:20,609 INFO sqlalchemy.engine.base.Engine SELECT users.user_id AS users_user_id, users.user_name AS users_user_name, users.user_email AS users_user_email \n",
      "FROM users ORDER BY users.user_email\n",
      "2017-07-29 22:12:20,612 INFO sqlalchemy.engine.base.Engine ()\n",
      "<User('4', '강대성, daesung.kang@pycon.kr')>\n",
      "<User('2', '배준현, junhyun.bae@pycon.kr')>\n",
      "<User('3', '김준기, junki.kim@pycon.kr')>\n",
      "<User('5', '한성준, sungjun.han@pycon.kr')>\n",
      "<User('1', 'Yeongseon Choe, yeongseon.choe@pycon.kr')>\n"
     ]
    }
   ],
   "source": [
    "for user in session.query(User).order_by(User.user_email):\n",
    "    print(user)"
   ]
  },
  {
   "cell_type": "markdown",
   "metadata": {},
   "source": [
    "descending order"
   ]
  },
  {
   "cell_type": "code",
   "execution_count": 19,
   "metadata": {},
   "outputs": [
    {
     "name": "stdout",
     "output_type": "stream",
     "text": [
      "2017-07-29 22:12:20,627 INFO sqlalchemy.engine.base.Engine SELECT users.user_id AS users_user_id, users.user_name AS users_user_name, users.user_email AS users_user_email \n",
      "FROM users ORDER BY users.user_email DESC\n",
      "2017-07-29 22:12:20,630 INFO sqlalchemy.engine.base.Engine ()\n",
      "<User('1', 'Yeongseon Choe, yeongseon.choe@pycon.kr')>\n",
      "<User('5', '한성준, sungjun.han@pycon.kr')>\n",
      "<User('3', '김준기, junki.kim@pycon.kr')>\n",
      "<User('2', '배준현, junhyun.bae@pycon.kr')>\n",
      "<User('4', '강대성, daesung.kang@pycon.kr')>\n"
     ]
    }
   ],
   "source": [
    "from sqlalchemy import desc\n",
    "for user in session.query(User).order_by(desc(User.user_email)):\n",
    "    print(user)"
   ]
  },
  {
   "cell_type": "markdown",
   "metadata": {
    "slideshow": {
     "slide_type": "slide"
    }
   },
   "source": [
    "- fileter method\n",
    "    - equals <br>\n",
    "    query.filetr(User.name == 'Yeongseon Choe')\n",
    "    - not equals <br>\n",
    "    query.filetr(User.name != 'Yeongseon Choe')\n",
    "    - like <br>\n",
    "    query.filetr(User.name.like('Yeongseon Choe')"
   ]
  },
  {
   "cell_type": "code",
   "execution_count": 20,
   "metadata": {},
   "outputs": [
    {
     "data": {
      "text/plain": [
       "<sqlalchemy.orm.query.Query at 0x253588e7240>"
      ]
     },
     "execution_count": 20,
     "metadata": {},
     "output_type": "execute_result"
    }
   ],
   "source": [
    "session.query(User).filter(User.user_name =='Yeongseon Choe')"
   ]
  },
  {
   "cell_type": "markdown",
   "metadata": {
    "slideshow": {
     "slide_type": "slide"
    }
   },
   "source": [
    "- Returning Lists and Scalars\n",
    "    - all()\n",
    "    - first()\n",
    "    - one()"
   ]
  },
  {
   "cell_type": "code",
   "execution_count": 21,
   "metadata": {},
   "outputs": [
    {
     "name": "stdout",
     "output_type": "stream",
     "text": [
      "2017-07-29 22:12:20,658 INFO sqlalchemy.engine.base.Engine SELECT users.user_id AS users_user_id, users.user_name AS users_user_name, users.user_email AS users_user_email \n",
      "FROM users \n",
      "WHERE users.user_name = ?\n",
      "2017-07-29 22:12:20,660 INFO sqlalchemy.engine.base.Engine ('Yeongseon Choe',)\n",
      "[<User('1', 'Yeongseon Choe, yeongseon.choe@pycon.kr')>]\n"
     ]
    }
   ],
   "source": [
    "users = session.query(User).filter(User.user_name == 'Yeongseon Choe').all()\n",
    "print(users)"
   ]
  },
  {
   "cell_type": "code",
   "execution_count": 22,
   "metadata": {},
   "outputs": [
    {
     "name": "stdout",
     "output_type": "stream",
     "text": [
      "2017-07-29 22:12:20,674 INFO sqlalchemy.engine.base.Engine SELECT users.user_id AS users_user_id, users.user_name AS users_user_name, users.user_email AS users_user_email \n",
      "FROM users \n",
      "WHERE users.user_name = ?\n",
      " LIMIT ? OFFSET ?\n",
      "2017-07-29 22:12:20,677 INFO sqlalchemy.engine.base.Engine ('Yeongseon Choe', 1, 0)\n",
      "<User('1', 'Yeongseon Choe, yeongseon.choe@pycon.kr')>\n"
     ]
    }
   ],
   "source": [
    "users = session.query(User).filter(User.user_name == 'Yeongseon Choe').first()\n",
    "print(users)"
   ]
  },
  {
   "cell_type": "code",
   "execution_count": 23,
   "metadata": {
    "slideshow": {
     "slide_type": "-"
    }
   },
   "outputs": [
    {
     "name": "stdout",
     "output_type": "stream",
     "text": [
      "2017-07-29 22:12:20,690 INFO sqlalchemy.engine.base.Engine SELECT users.user_id AS users_user_id, users.user_name AS users_user_name, users.user_email AS users_user_email \n",
      "FROM users \n",
      "WHERE users.user_name = ?\n",
      "2017-07-29 22:12:20,692 INFO sqlalchemy.engine.base.Engine ('Yeongseon Choe',)\n",
      "<User('1', 'Yeongseon Choe, yeongseon.choe@pycon.kr')>\n"
     ]
    }
   ],
   "source": [
    "users = session.query(User).filter(User.user_name == 'Yeongseon Choe').one()\n",
    "print(users)"
   ]
  },
  {
   "cell_type": "markdown",
   "metadata": {
    "slideshow": {
     "slide_type": "slide"
    }
   },
   "source": [
    "#### Deleting Object"
   ]
  },
  {
   "cell_type": "code",
   "execution_count": 27,
   "metadata": {},
   "outputs": [
    {
     "name": "stdout",
     "output_type": "stream",
     "text": [
      "2017-07-29 22:13:13,937 INFO sqlalchemy.engine.base.Engine SELECT users.user_id AS users_user_id, users.user_name AS users_user_name, users.user_email AS users_user_email \n",
      "FROM users \n",
      "WHERE users.user_name = ?\n",
      " LIMIT ? OFFSET ?\n",
      "2017-07-29 22:13:13,939 INFO sqlalchemy.engine.base.Engine ('Yeongseon Choe', 1, 0)\n",
      "2017-07-29 22:13:13,942 INFO sqlalchemy.engine.base.Engine DELETE FROM users WHERE users.user_id = ?\n",
      "2017-07-29 22:13:13,943 INFO sqlalchemy.engine.base.Engine (1,)\n",
      "2017-07-29 22:13:13,948 INFO sqlalchemy.engine.base.Engine COMMIT\n"
     ]
    }
   ],
   "source": [
    "user = session.query(User).filter(User.user_name == 'Yeongseon Choe').first()\n",
    "session.delete(user)\n",
    "session.commit()"
   ]
  },
  {
   "cell_type": "markdown",
   "metadata": {
    "slideshow": {
     "slide_type": "slide"
    }
   },
   "source": [
    "#### Define Models\n",
    "\n",
    "| Users                        ||\n",
    "| :------------ | :-----------: |\n",
    "| user_id       | int           |\n",
    "| user_name     | varchar(32)   |\n",
    "| user_email    | varchar(32)   |\n",
    "\n",
    "| Programs                     ||\n",
    "| :------------ | :-----------: |\n",
    "| program_id    | int           |\n",
    "| program_name  | varchar(32)   |\n",
    "| user_id       | varchar(32)   |\n",
    "\n",
    "| Program_enrollment      ||\n",
    "| :------------ | :-----------: |\n",
    "| program_id | int           |\n",
    "| user_id       | int           |"
   ]
  },
  {
   "cell_type": "code",
   "execution_count": 25,
   "metadata": {
    "collapsed": true,
    "slideshow": {
     "slide_type": "-"
    }
   },
   "outputs": [],
   "source": [
    "from sqlalchemy.ext.declarative import declarative_base\n",
    "from sqlalchemy import Column, Integer, String\n",
    "\n",
    "Base = declarative_base()\n",
    "    \n",
    "class Program(Base):\n",
    "    __tablename__ = \"programs\"\n",
    "    program_id = Column(Integer, primary_key=True, autoincrement=True)\n",
    "    program_name = Column(String(32), unique=True)\n",
    "    \n",
    "    def __init__(self, program_id, program_name):\n",
    "        self.program_id = program_id\n",
    "        self.program_name = program_name\n",
    "        \n",
    "    def __repr__(self):\n",
    "        return \"<Program('%d', '%s')\" % (self.program_id, self.program_name)\n",
    "    \n",
    "class ProgramEnrollment(Base):\n",
    "    __tablename__ = \"program_enrollment\"\n",
    "    program_id = Column(Integer, primary_key = True)\n",
    "    user_id = Column(Integer, primary_key = True)   \n",
    "    \n",
    "    def __init__(self, program_id, user_id):\n",
    "        self.program_id = program_id\n",
    "        self.user_id = user_id\n",
    "    \n",
    "    def __repr__(self):\n",
    "        return \"<ProgramEnrollment('%s', '%s')\" % (self.program_id, self.user_id)\n",
    "    \n",
    "# Base.metadata.create_all(bind=engine)"
   ]
  },
  {
   "cell_type": "markdown",
   "metadata": {
    "slideshow": {
     "slide_type": "slide"
    }
   },
   "source": [
    "## Alembic\n",
    "\n",
    "### Database migration tool\n",
    "- creation\n",
    "- management\n",
    "- invocation of change managment"
   ]
  },
  {
   "cell_type": "markdown",
   "metadata": {
    "slideshow": {
     "slide_type": "slide"
    }
   },
   "source": [
    "### Installing Alembic\n",
    "\n",
    "$ pip install alembic"
   ]
  },
  {
   "cell_type": "markdown",
   "metadata": {},
   "source": [
    "### Usage\n",
    "\n",
    "usage: alembic [-h] [-c CONFIG] [-n NAME] [-x X] [--raiseerr]\n",
    "               {branches,current,downgrade,edit,heads,history,init,list_templates,merge,revision,show,stamp,upgrade}     \n"
   ]
  },
  {
   "cell_type": "markdown",
   "metadata": {
    "slideshow": {
     "slide_type": "slide"
    }
   },
   "source": [
    "### Creating an Environment\n",
    "\n",
    "$ alembic init 'alembic' <br>\n",
    "\n",
    "```\n",
    "\n",
    "project\n",
    "│          alembic.ini\n",
    "└─── alembic\n",
    "      │    env.py\n",
    "      │    README\n",
    "      │    script.py.mako      \n",
    "      └─ versions\n",
    "```\n"
   ]
  },
  {
   "cell_type": "markdown",
   "metadata": {
    "slideshow": {
     "slide_type": "slide"
    }
   },
   "source": [
    "  \n",
    "$ vi alembic.ini\n",
    "\n",
    "<pre>\n",
    "# A generic, single database configuration.\n",
    "\n",
    "[alembic]\n",
    "# path to migration scripts\n",
    "script_location = alembic\n",
    "\n",
    "# template used to generate migration files\n",
    "# file_template = %%(rev)s_%%(slug)s\n",
    "\n",
    "# timezone to use when rendering the date\n",
    "# within the migration file as well as the filename.\n",
    "# string value is passed to dateutil.tz.gettz()\n",
    "# leave blank for localtime\n",
    "# timezone =\n",
    "\n",
    "# max length of characters to apply to the\n",
    "# \"slug\" field\n",
    "#truncate_slug_length = 40\n",
    "\n",
    "# set to 'true' to run the environment during\n",
    "# the 'revision' command, regardless of autogenerate\n",
    "# revision_environment = false\n",
    "\n",
    "# set to 'true' to allow .pyc and .pyo files without\n",
    "# a source .py file to be detected as revisions in the\n",
    "# versions/ directory\n",
    "# sourceless = false\n",
    "\n",
    "# version location specification; this defaults\n",
    "# to alembic/versions.  When using multiple version\n",
    "# directories, initial revisions must be specified with --version-path\n",
    "# version_locations = %(here)s/bar %(here)s/bat alembic/versions\n",
    "\n",
    "# the output encoding used when revision files\n",
    "# are written from script.py.mako\n",
    "# output_encoding = utf-8\n",
    "\n",
    "sqlalchemy.url = sqlite:///testdb.sqlite\n",
    "\n",
    "\n",
    "# Logging configuration\n",
    "[loggers]\n",
    "keys = root,sqlalchemy,alembic\n",
    "\n",
    "[handlers]\n",
    "keys = console\n",
    "\n",
    "[formatters]\n",
    "keys = generic\n",
    "\n",
    "[logger_root]\n",
    "level = WARN\n",
    "handlers = console\n",
    "qualname =\n",
    "\n",
    "[logger_sqlalchemy]\n",
    "level = WARN\n",
    "handlers =\n",
    "qualname = sqlalchemy.engine\n",
    "\n",
    "[logger_alembic]\n",
    "level = INFO\n",
    "handlers =\n",
    "qualname = alembic\n",
    "\n",
    "[handler_console]\n",
    "class = StreamHandler\n",
    "args = (sys.stderr,)\n",
    "level = NOTSET\n",
    "formatter = generic\n",
    "\n",
    "[formatter_generic]\n",
    "format = %(levelname)-5.5s [%(name)s] %(message)s\n",
    "datefmt = %H:%M:%S\n",
    "\n",
    "</pre>"
   ]
  },
  {
   "cell_type": "markdown",
   "metadata": {
    "slideshow": {
     "slide_type": "slide"
    }
   },
   "source": [
    "### Creating a Migration Script\n",
    "\n",
    "$ alembic revision -m \"create tables\"\n",
    "\n",
    "<br>\n",
    "```\n",
    "project\n",
    "│          alembic.ini\n",
    "└─── alembic\n",
    "      │    env.py\n",
    "      │    README\n",
    "      │    script.py.mako      \n",
    "      └─ versions\n",
    "          │   8de6f753dcac_create_tables.pyy\n",
    "```"
   ]
  },
  {
   "cell_type": "markdown",
   "metadata": {
    "slideshow": {
     "slide_type": "slide"
    }
   },
   "source": [
    "$ vi alembic/versions/8de6f753dcac_create_tables.py"
   ]
  },
  {
   "cell_type": "code",
   "execution_count": 28,
   "metadata": {
    "collapsed": true
   },
   "outputs": [],
   "source": [
    "\"\"\"create tables\n",
    "\n",
    "Revision ID: 8de6f753dcac\n",
    "Revises: \n",
    "Create Date: 2017-07-29 22:19:30.546010\n",
    "\n",
    "\"\"\"\n",
    "from alembic import op\n",
    "import sqlalchemy as sa\n",
    "\n",
    "\n",
    "# revision identifiers, used by Alembic.\n",
    "revision = '8de6f753dcac'\n",
    "down_revision = None\n",
    "branch_labels = None\n",
    "depends_on = None\n",
    "\n",
    "\n",
    "def upgrade():\n",
    "    pass\n",
    "\n",
    "\n",
    "def downgrade():\n",
    "    pass\n"
   ]
  },
  {
   "cell_type": "code",
   "execution_count": null,
   "metadata": {
    "collapsed": true
   },
   "outputs": [],
   "source": [
    "\"\"\"create tables\n",
    "\n",
    "Revision ID: 8de6f753dcac\n",
    "Revises: \n",
    "Create Date: 2017-07-29 22:19:30.546010\n",
    "\n",
    "\"\"\"\n",
    "from alembic import op\n",
    "import sqlalchemy as sa\n",
    "\n",
    "\n",
    "# revision identifiers, used by Alembic.\n",
    "revision = '8de6f753dcac'\n",
    "down_revision = None\n",
    "branch_labels = None\n",
    "depends_on = None\n",
    "\n",
    "\n",
    "def upgrade():\n",
    "    op.create_table(\n",
    "        'programs',\n",
    "        sa.Column('program_id', sa.Integer, primary_key=True, autoincrement=True),\n",
    "        sa.Column('program_name', sa.String(32), unique=True, nullable=False),\n",
    "    )\n",
    "    op.create_table(\n",
    "        'program_enrollment',\n",
    "        sa.Column('program_id', sa.Integer, primary_key=True),\n",
    "        sa.Column('user_id', sa.Integer, primary_key=True),\n",
    "    )\n",
    "\n",
    "def downgrade():\n",
    "    op.drop_table('programs')\n",
    "    op.drop_table('program_enrollment')\n"
   ]
  },
  {
   "cell_type": "markdown",
   "metadata": {
    "slideshow": {
     "slide_type": "slide"
    }
   },
   "source": [
    " $ alembic.exe upgrade head\n",
    " \n",
    "INFO  [alembic.runtime.migration] Context impl SQLiteImpl. <br>\n",
    "INFO  [alembic.runtime.migration] Will assume non-transactional DDL. <br>\n",
    "INFO  [alembic.runtime.migration] Running upgrade  -> 8de6f753dcac, create tables\n"
   ]
  }
 ],
 "metadata": {
  "celltoolbar": "Slideshow",
  "kernelspec": {
   "display_name": "Python 3",
   "language": "python",
   "name": "python3"
  },
  "language_info": {
   "codemirror_mode": {
    "name": "ipython",
    "version": 3
   },
   "file_extension": ".py",
   "mimetype": "text/x-python",
   "name": "python",
   "nbconvert_exporter": "python",
   "pygments_lexer": "ipython3",
   "version": "3.5.0"
  }
 },
 "nbformat": 4,
 "nbformat_minor": 2
}
