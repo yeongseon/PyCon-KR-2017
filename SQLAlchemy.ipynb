{
 "cells": [
  {
   "cell_type": "markdown",
   "metadata": {},
   "source": [
    "Installation"
   ]
  },
  {
   "cell_type": "markdown",
   "metadata": {},
   "source": [
    "pip install sqlalchemy"
   ]
  },
  {
   "cell_type": "markdown",
   "metadata": {},
   "source": [
    "Connection"
   ]
  },
  {
   "cell_type": "code",
   "execution_count": 1,
   "metadata": {
    "collapsed": true
   },
   "outputs": [],
   "source": [
    "from sqlalchemy import create_engine"
   ]
  },
  {
   "cell_type": "code",
   "execution_count": 2,
   "metadata": {
    "collapsed": true
   },
   "outputs": [],
   "source": [
    "engine = create_engine(\"sqlite:///sample.sqlite\", echo=True, convert_unicode=True)"
   ]
  },
  {
   "cell_type": "markdown",
   "metadata": {},
   "source": [
    "Mapping"
   ]
  },
  {
   "cell_type": "code",
   "execution_count": 3,
   "metadata": {
    "collapsed": true
   },
   "outputs": [],
   "source": [
    "from sqlalchemy.ext.declarative import declarative_base"
   ]
  },
  {
   "cell_type": "code",
   "execution_count": 4,
   "metadata": {
    "collapsed": true
   },
   "outputs": [],
   "source": [
    "Base = declarative_base()"
   ]
  },
  {
   "cell_type": "markdown",
   "metadata": {
    "collapsed": true
   },
   "source": [
    "Defining models"
   ]
  },
  {
   "cell_type": "markdown",
   "metadata": {},
   "source": [
    "| User                         ||\n",
    "| :------------ | :-----------: |\n",
    "| user_id       | int           |\n",
    "| user_name     | varchar(32)   |\n",
    "| user_email    | varchar(32)   |\n",
    "\n",
    "| Program                      ||\n",
    "| :------------ | :-----------: |\n",
    "| program_id    | int           |\n",
    "| program_name  | varchar(32)   |\n",
    "| user_id       | varchar(32)   |\n",
    "\n",
    "| ProgramEnrollment            ||\n",
    "| :------------ | :-----------: |\n",
    "| program_id    | int           |\n",
    "| user_id       | int           |\n"
   ]
  },
  {
   "cell_type": "code",
   "execution_count": 5,
   "metadata": {
    "collapsed": true
   },
   "outputs": [],
   "source": [
    "from sqlalchemy import Column, Integer, String"
   ]
  },
  {
   "cell_type": "code",
   "execution_count": 6,
   "metadata": {},
   "outputs": [],
   "source": [
    "class User(Base):\n",
    "    __tablename__ = \"user\"\n",
    "    user_id = Column(Integer, primary_key=True)\n",
    "    user_name = Column(String(32), unique=True)\n",
    "    user_email = Column(String(32), unique=True)\n",
    "    \n",
    "    def __init__(self, user_name, user_email):\n",
    "        self.user_name = user_name\n",
    "        self.user_email = user_email\n",
    "    \n",
    "    def __repr__(self):\n",
    "        return \"<User('%s', '%s')>\" % (self.user_name, self.user_email)"
   ]
  },
  {
   "cell_type": "code",
   "execution_count": 7,
   "metadata": {},
   "outputs": [],
   "source": [
    "class Program(Base):\n",
    "    __tablename__ = \"speaker\"\n",
    "    program_id = Column(Integer, primary_key=True)\n",
    "    user_id = Column(Integer, unique=True)\n",
    "    \n",
    "    def __init__(self, program_id, user_id):\n",
    "        self.program_id = program_id\n",
    "        self.user_id = user_id\n",
    "        \n",
    "    def __repr__(self):\n",
    "        return \"<Program('%d', '%d')\" % (self.program_id, self.user_id)"
   ]
  },
  {
   "cell_type": "code",
   "execution_count": 8,
   "metadata": {},
   "outputs": [],
   "source": [
    "class ProgramEnrollment(Base):\n",
    "    __tablename__ = \"program_entrollment\"\n",
    "    program_id = Column(Integer, primary_key = True)\n",
    "    user_id = Column(Integer, primary_key = True)   \n",
    "    \n",
    "    def __init__(self, program_id, user_id):\n",
    "        self.program_id = program_id\n",
    "        self.user_id = user_id\n",
    "    \n",
    "    def __repr__(self):\n",
    "        return \"<ProgramEnrollment('%s', '%s')\" % (self.program_id, self.user_id)\n",
    "    "
   ]
  },
  {
   "cell_type": "markdown",
   "metadata": {},
   "source": [
    "Metadata"
   ]
  },
  {
   "cell_type": "code",
   "execution_count": 9,
   "metadata": {},
   "outputs": [
    {
     "data": {
      "text/plain": [
       "Table('user', MetaData(bind=None), Column('user_id', Integer(), table=<user>, primary_key=True, nullable=False), Column('user_name', String(length=32), table=<user>), Column('user_email', String(length=32), table=<user>), schema=None)"
      ]
     },
     "execution_count": 9,
     "metadata": {},
     "output_type": "execute_result"
    }
   ],
   "source": [
    "User.__table__"
   ]
  },
  {
   "cell_type": "code",
   "execution_count": 10,
   "metadata": {},
   "outputs": [
    {
     "data": {
      "text/plain": [
       "Table('speaker', MetaData(bind=None), Column('program_id', Integer(), table=<speaker>, primary_key=True, nullable=False), Column('user_id', Integer(), table=<speaker>), schema=None)"
      ]
     },
     "execution_count": 10,
     "metadata": {},
     "output_type": "execute_result"
    }
   ],
   "source": [
    "Program.__table__"
   ]
  },
  {
   "cell_type": "code",
   "execution_count": 11,
   "metadata": {},
   "outputs": [
    {
     "data": {
      "text/plain": [
       "Table('program_entrollment', MetaData(bind=None), Column('program_id', Integer(), table=<program_entrollment>, primary_key=True, nullable=False), Column('user_id', Integer(), table=<program_entrollment>, primary_key=True, nullable=False), schema=None)"
      ]
     },
     "execution_count": 11,
     "metadata": {},
     "output_type": "execute_result"
    }
   ],
   "source": [
    "ProgramEnrollment.__table__"
   ]
  },
  {
   "cell_type": "markdown",
   "metadata": {},
   "source": [
    "Mapper Class"
   ]
  },
  {
   "cell_type": "code",
   "execution_count": 12,
   "metadata": {},
   "outputs": [
    {
     "data": {
      "text/plain": [
       "<Mapper at 0x26a7d503240; User>"
      ]
     },
     "execution_count": 12,
     "metadata": {},
     "output_type": "execute_result"
    }
   ],
   "source": [
    "User.__mapper__"
   ]
  },
  {
   "cell_type": "code",
   "execution_count": 13,
   "metadata": {},
   "outputs": [
    {
     "data": {
      "text/plain": [
       "<Mapper at 0x26a7d503390; Program>"
      ]
     },
     "execution_count": 13,
     "metadata": {},
     "output_type": "execute_result"
    }
   ],
   "source": [
    "Program.__mapper__"
   ]
  },
  {
   "cell_type": "code",
   "execution_count": 14,
   "metadata": {},
   "outputs": [
    {
     "data": {
      "text/plain": [
       "<Mapper at 0x26a7d53a7b8; ProgramEnrollment>"
      ]
     },
     "execution_count": 14,
     "metadata": {},
     "output_type": "execute_result"
    }
   ],
   "source": [
    "ProgramEnrollment.__mapper__"
   ]
  },
  {
   "cell_type": "markdown",
   "metadata": {},
   "source": [
    "Create databae"
   ]
  },
  {
   "cell_type": "code",
   "execution_count": 15,
   "metadata": {},
   "outputs": [
    {
     "name": "stdout",
     "output_type": "stream",
     "text": [
      "2017-07-25 00:09:01,155 INFO sqlalchemy.engine.base.Engine SELECT CAST('test plain returns' AS VARCHAR(60)) AS anon_1\n",
      "2017-07-25 00:09:01,169 INFO sqlalchemy.engine.base.Engine ()\n",
      "2017-07-25 00:09:01,173 INFO sqlalchemy.engine.base.Engine SELECT CAST('test unicode returns' AS VARCHAR(60)) AS anon_1\n",
      "2017-07-25 00:09:01,175 INFO sqlalchemy.engine.base.Engine ()\n",
      "2017-07-25 00:09:01,180 INFO sqlalchemy.engine.base.Engine PRAGMA table_info(\"user\")\n",
      "2017-07-25 00:09:01,182 INFO sqlalchemy.engine.base.Engine ()\n",
      "2017-07-25 00:09:01,186 INFO sqlalchemy.engine.base.Engine PRAGMA table_info(\"speaker\")\n",
      "2017-07-25 00:09:01,188 INFO sqlalchemy.engine.base.Engine ()\n",
      "2017-07-25 00:09:01,190 INFO sqlalchemy.engine.base.Engine PRAGMA table_info(\"program_entrollment\")\n",
      "2017-07-25 00:09:01,192 INFO sqlalchemy.engine.base.Engine ()\n",
      "2017-07-25 00:09:01,195 INFO sqlalchemy.engine.base.Engine \n",
      "CREATE TABLE user (\n",
      "\tuser_id INTEGER NOT NULL, \n",
      "\tuser_name VARCHAR(32), \n",
      "\tuser_email VARCHAR(32), \n",
      "\tPRIMARY KEY (user_id), \n",
      "\tUNIQUE (user_name), \n",
      "\tUNIQUE (user_email)\n",
      ")\n",
      "\n",
      "\n",
      "2017-07-25 00:09:01,197 INFO sqlalchemy.engine.base.Engine ()\n",
      "2017-07-25 00:09:01,234 INFO sqlalchemy.engine.base.Engine COMMIT\n",
      "2017-07-25 00:09:01,237 INFO sqlalchemy.engine.base.Engine \n",
      "CREATE TABLE speaker (\n",
      "\tprogram_id INTEGER NOT NULL, \n",
      "\tuser_id INTEGER, \n",
      "\tPRIMARY KEY (program_id), \n",
      "\tUNIQUE (user_id)\n",
      ")\n",
      "\n",
      "\n",
      "2017-07-25 00:09:01,239 INFO sqlalchemy.engine.base.Engine ()\n",
      "2017-07-25 00:09:01,272 INFO sqlalchemy.engine.base.Engine COMMIT\n",
      "2017-07-25 00:09:01,274 INFO sqlalchemy.engine.base.Engine \n",
      "CREATE TABLE program_entrollment (\n",
      "\tprogram_id INTEGER NOT NULL, \n",
      "\tuser_id INTEGER NOT NULL, \n",
      "\tPRIMARY KEY (program_id, user_id)\n",
      ")\n",
      "\n",
      "\n",
      "2017-07-25 00:09:01,277 INFO sqlalchemy.engine.base.Engine ()\n",
      "2017-07-25 00:09:01,315 INFO sqlalchemy.engine.base.Engine COMMIT\n"
     ]
    }
   ],
   "source": [
    "Base.metadata.create_all(bind=engine)"
   ]
  },
  {
   "cell_type": "code",
   "execution_count": null,
   "metadata": {
    "collapsed": true
   },
   "outputs": [],
   "source": []
  },
  {
   "cell_type": "markdown",
   "metadata": {},
   "source": [
    "Session"
   ]
  },
  {
   "cell_type": "code",
   "execution_count": 16,
   "metadata": {
    "collapsed": true
   },
   "outputs": [],
   "source": [
    "from sqlalchemy.orm import sessionmaker"
   ]
  },
  {
   "cell_type": "markdown",
   "metadata": {},
   "source": [
    "1. create Session class"
   ]
  },
  {
   "cell_type": "code",
   "execution_count": 17,
   "metadata": {
    "collapsed": true
   },
   "outputs": [],
   "source": [
    "Session1 = sessionmaker(bind=engine)"
   ]
  },
  {
   "cell_type": "code",
   "execution_count": 18,
   "metadata": {},
   "outputs": [
    {
     "data": {
      "text/plain": [
       "sessionmaker(class_='Session',bind=Engine(sqlite:///sample.sqlite), autoflush=True, autocommit=False, expire_on_commit=True)"
      ]
     },
     "execution_count": 18,
     "metadata": {},
     "output_type": "execute_result"
    }
   ],
   "source": [
    "Session1"
   ]
  },
  {
   "cell_type": "markdown",
   "metadata": {},
   "source": [
    "2. "
   ]
  },
  {
   "cell_type": "code",
   "execution_count": 19,
   "metadata": {},
   "outputs": [],
   "source": [
    "Session2 = sessionmaker()"
   ]
  },
  {
   "cell_type": "code",
   "execution_count": 20,
   "metadata": {},
   "outputs": [
    {
     "data": {
      "text/plain": [
       "sessionmaker(class_='Session',bind=None, autoflush=True, autocommit=False, expire_on_commit=True)"
      ]
     },
     "execution_count": 20,
     "metadata": {},
     "output_type": "execute_result"
    }
   ],
   "source": [
    "Session2"
   ]
  },
  {
   "cell_type": "code",
   "execution_count": 21,
   "metadata": {},
   "outputs": [],
   "source": [
    "Session2.configure(bind=engine)"
   ]
  },
  {
   "cell_type": "code",
   "execution_count": 22,
   "metadata": {},
   "outputs": [
    {
     "data": {
      "text/plain": [
       "sessionmaker(class_='Session',bind=Engine(sqlite:///sample.sqlite), autoflush=True, autocommit=False, expire_on_commit=True)"
      ]
     },
     "execution_count": 22,
     "metadata": {},
     "output_type": "execute_result"
    }
   ],
   "source": [
    "Session2"
   ]
  },
  {
   "cell_type": "code",
   "execution_count": 23,
   "metadata": {
    "collapsed": true
   },
   "outputs": [],
   "source": [
    "session = Session1()"
   ]
  },
  {
   "cell_type": "code",
   "execution_count": 24,
   "metadata": {},
   "outputs": [
    {
     "data": {
      "text/plain": [
       "<sqlalchemy.orm.session.Session at 0x26a7d4f7be0>"
      ]
     },
     "execution_count": 24,
     "metadata": {},
     "output_type": "execute_result"
    }
   ],
   "source": [
    "session"
   ]
  },
  {
   "cell_type": "markdown",
   "metadata": {
    "collapsed": true
   },
   "source": [
    "Insert"
   ]
  },
  {
   "cell_type": "code",
   "execution_count": 25,
   "metadata": {},
   "outputs": [],
   "source": [
    "user = User(\"Steven\", \"Steven@test.com\")"
   ]
  },
  {
   "cell_type": "code",
   "execution_count": 26,
   "metadata": {},
   "outputs": [
    {
     "data": {
      "text/plain": [
       "<User('Steven', 'Steven@test.com')>"
      ]
     },
     "execution_count": 26,
     "metadata": {},
     "output_type": "execute_result"
    }
   ],
   "source": [
    "user"
   ]
  },
  {
   "cell_type": "code",
   "execution_count": 27,
   "metadata": {},
   "outputs": [
    {
     "name": "stdout",
     "output_type": "stream",
     "text": [
      "2017-07-25 00:09:01,682 INFO sqlalchemy.engine.base.Engine BEGIN (implicit)\n",
      "2017-07-25 00:09:01,685 INFO sqlalchemy.engine.base.Engine INSERT INTO user (user_name, user_email) VALUES (?, ?)\n",
      "2017-07-25 00:09:01,689 INFO sqlalchemy.engine.base.Engine ('Steven', 'Steven@test.com')\n",
      "2017-07-25 00:09:01,695 INFO sqlalchemy.engine.base.Engine COMMIT\n"
     ]
    }
   ],
   "source": [
    "session.add(user)\n",
    "session.commit()"
   ]
  },
  {
   "cell_type": "code",
   "execution_count": 28,
   "metadata": {},
   "outputs": [
    {
     "name": "stdout",
     "output_type": "stream",
     "text": [
      "2017-07-25 00:09:01,759 INFO sqlalchemy.engine.base.Engine BEGIN (implicit)\n",
      "2017-07-25 00:09:01,763 INFO sqlalchemy.engine.base.Engine INSERT INTO user (user_name, user_email) VALUES (?, ?)\n",
      "2017-07-25 00:09:01,767 INFO sqlalchemy.engine.base.Engine ('Noah', 'Noah@test.com')\n",
      "2017-07-25 00:09:01,776 INFO sqlalchemy.engine.base.Engine INSERT INTO user (user_name, user_email) VALUES (?, ?)\n",
      "2017-07-25 00:09:01,781 INFO sqlalchemy.engine.base.Engine ('Liam', 'Liam@test.com')\n",
      "2017-07-25 00:09:01,786 INFO sqlalchemy.engine.base.Engine INSERT INTO user (user_name, user_email) VALUES (?, ?)\n",
      "2017-07-25 00:09:01,790 INFO sqlalchemy.engine.base.Engine ('Ethan', 'Ethan@test.com')\n",
      "2017-07-25 00:09:01,796 INFO sqlalchemy.engine.base.Engine COMMIT\n"
     ]
    }
   ],
   "source": [
    "session.add_all([\n",
    "    User(\"Noah\", \"Noah@test.com\"),\n",
    "    User(\"Liam\", \"Liam@test.com\"),\n",
    "    User(\"Ethan\", \"Ethan@test.com\")]\n",
    ")\n",
    "session.commit()"
   ]
  },
  {
   "cell_type": "markdown",
   "metadata": {},
   "source": [
    "Bulk Inserts"
   ]
  },
  {
   "cell_type": "code",
   "execution_count": 29,
   "metadata": {},
   "outputs": [
    {
     "name": "stdout",
     "output_type": "stream",
     "text": [
      "2017-07-25 00:09:01,847 INFO sqlalchemy.engine.base.Engine BEGIN (implicit)\n",
      "2017-07-25 00:09:01,855 INFO sqlalchemy.engine.base.Engine INSERT INTO user (user_name, user_email) VALUES (?, ?)\n",
      "2017-07-25 00:09:01,861 INFO sqlalchemy.engine.base.Engine (('Lucas', 'Lucas@test.com'), ('Oliver', 'Oliver@test.com'), ('James', 'James@test.com'))\n",
      "2017-07-25 00:09:01,878 INFO sqlalchemy.engine.base.Engine COMMIT\n"
     ]
    }
   ],
   "source": [
    "user1 = User(\"Lucas\", \"Lucas@test.com\")\n",
    "user2 = User(\"Oliver\", \"Oliver@test.com\")\n",
    "user3 = User(\"James\", \"James@test.com\")\n",
    "\n",
    "session.bulk_save_objects([user1, user2, user3])\n",
    "session.commit()"
   ]
  },
  {
   "cell_type": "markdown",
   "metadata": {},
   "source": [
    "query\n",
    "\n",
    "attributes\n",
    "- all\n",
    "- filter\n",
    "- filter_by"
   ]
  },
  {
   "cell_type": "code",
   "execution_count": 30,
   "metadata": {},
   "outputs": [
    {
     "name": "stdout",
     "output_type": "stream",
     "text": [
      "2017-07-25 00:09:01,939 INFO sqlalchemy.engine.base.Engine BEGIN (implicit)\n",
      "2017-07-25 00:09:01,944 INFO sqlalchemy.engine.base.Engine SELECT user.user_id AS user_user_id, user.user_name AS user_user_name, user.user_email AS user_user_email \n",
      "FROM user\n",
      "2017-07-25 00:09:01,945 INFO sqlalchemy.engine.base.Engine ()\n"
     ]
    }
   ],
   "source": [
    "users = session.query(User).all()"
   ]
  },
  {
   "cell_type": "code",
   "execution_count": 31,
   "metadata": {},
   "outputs": [
    {
     "name": "stdout",
     "output_type": "stream",
     "text": [
      "[<User('Steven', 'Steven@test.com')>, <User('Noah', 'Noah@test.com')>, <User('Liam', 'Liam@test.com')>, <User('Ethan', 'Ethan@test.com')>, <User('Lucas', 'Lucas@test.com')>, <User('Oliver', 'Oliver@test.com')>, <User('James', 'James@test.com')>]\n"
     ]
    }
   ],
   "source": [
    "print(users)"
   ]
  },
  {
   "cell_type": "markdown",
   "metadata": {},
   "source": [
    "Iterator"
   ]
  },
  {
   "cell_type": "code",
   "execution_count": 32,
   "metadata": {},
   "outputs": [
    {
     "name": "stdout",
     "output_type": "stream",
     "text": [
      "2017-07-25 00:09:02,005 INFO sqlalchemy.engine.base.Engine SELECT user.user_id AS user_user_id, user.user_name AS user_user_name, user.user_email AS user_user_email \n",
      "FROM user\n",
      "2017-07-25 00:09:02,009 INFO sqlalchemy.engine.base.Engine ()\n",
      "<User('Steven', 'Steven@test.com')>\n",
      "<User('Noah', 'Noah@test.com')>\n",
      "<User('Liam', 'Liam@test.com')>\n",
      "<User('Ethan', 'Ethan@test.com')>\n",
      "<User('Lucas', 'Lucas@test.com')>\n",
      "<User('Oliver', 'Oliver@test.com')>\n",
      "<User('James', 'James@test.com')>\n"
     ]
    }
   ],
   "source": [
    "for user in session.query(User):\n",
    "    print(user)"
   ]
  },
  {
   "cell_type": "code",
   "execution_count": 33,
   "metadata": {},
   "outputs": [
    {
     "name": "stdout",
     "output_type": "stream",
     "text": [
      "2017-07-25 00:09:02,045 INFO sqlalchemy.engine.base.Engine SELECT user.user_id AS user_user_id, user.user_name AS user_user_name, user.user_email AS user_user_email \n",
      "FROM user ORDER BY user.user_email\n",
      "2017-07-25 00:09:02,047 INFO sqlalchemy.engine.base.Engine ()\n",
      "<User('Ethan', 'Ethan@test.com')>\n",
      "<User('James', 'James@test.com')>\n",
      "<User('Liam', 'Liam@test.com')>\n",
      "<User('Lucas', 'Lucas@test.com')>\n",
      "<User('Noah', 'Noah@test.com')>\n",
      "<User('Oliver', 'Oliver@test.com')>\n",
      "<User('Steven', 'Steven@test.com')>\n"
     ]
    }
   ],
   "source": [
    "for user in session.query(User).order_by(User.user_email):\n",
    "    print(user)"
   ]
  },
  {
   "cell_type": "markdown",
   "metadata": {},
   "source": [
    "Decending"
   ]
  },
  {
   "cell_type": "code",
   "execution_count": 34,
   "metadata": {},
   "outputs": [
    {
     "name": "stdout",
     "output_type": "stream",
     "text": [
      "2017-07-25 00:09:02,082 INFO sqlalchemy.engine.base.Engine SELECT user.user_id AS user_user_id, user.user_name AS user_user_name, user.user_email AS user_user_email \n",
      "FROM user ORDER BY user.user_email DESC\n",
      "2017-07-25 00:09:02,086 INFO sqlalchemy.engine.base.Engine ()\n",
      "<User('Steven', 'Steven@test.com')>\n",
      "<User('Oliver', 'Oliver@test.com')>\n",
      "<User('Noah', 'Noah@test.com')>\n",
      "<User('Lucas', 'Lucas@test.com')>\n",
      "<User('Liam', 'Liam@test.com')>\n",
      "<User('James', 'James@test.com')>\n",
      "<User('Ethan', 'Ethan@test.com')>\n"
     ]
    }
   ],
   "source": [
    "from sqlalchemy import desc\n",
    "for user in session.query(User).order_by(desc(User.user_email)):\n",
    "    print(user)"
   ]
  },
  {
   "cell_type": "markdown",
   "metadata": {},
   "source": [
    "Limiting"
   ]
  },
  {
   "cell_type": "code",
   "execution_count": 35,
   "metadata": {},
   "outputs": [
    {
     "name": "stdout",
     "output_type": "stream",
     "text": [
      "2017-07-25 00:09:02,120 INFO sqlalchemy.engine.base.Engine SELECT user.user_id AS user_user_id, user.user_name AS user_user_name, user.user_email AS user_user_email \n",
      "FROM user ORDER BY user.user_email\n",
      " LIMIT ? OFFSET ?\n",
      "2017-07-25 00:09:02,126 INFO sqlalchemy.engine.base.Engine (2, 0)\n",
      "<User('Ethan', 'Ethan@test.com')>\n",
      "<User('James', 'James@test.com')>\n"
     ]
    }
   ],
   "source": [
    "for user in session.query(User).order_by(User.user_email).limit(2):\n",
    "    print(user)"
   ]
  },
  {
   "cell_type": "markdown",
   "metadata": {},
   "source": [
    "filter_by"
   ]
  },
  {
   "cell_type": "code",
   "execution_count": 37,
   "metadata": {},
   "outputs": [
    {
     "ename": "SyntaxError",
     "evalue": "keyword can't be an expression (<ipython-input-37-dd871be41b3c>, line 1)",
     "output_type": "error",
     "traceback": [
      "\u001b[1;36m  File \u001b[1;32m\"<ipython-input-37-dd871be41b3c>\"\u001b[1;36m, line \u001b[1;32m1\u001b[0m\n\u001b[1;33m    session.query(User).filter_by(User.user_name='steven').first()\u001b[0m\n\u001b[1;37m                                 ^\u001b[0m\n\u001b[1;31mSyntaxError\u001b[0m\u001b[1;31m:\u001b[0m keyword can't be an expression\n"
     ]
    }
   ],
   "source": [
    "session.query(User).filter_by(User.user_name='steven').first()"
   ]
  },
  {
   "cell_type": "markdown",
   "metadata": {},
   "source": [
    "query filter\n",
    "\n",
    "Usage: .filter(<질의 클래스.질의 칼럼> <비교연산자> <비교값>)"
   ]
  },
  {
   "cell_type": "code",
   "execution_count": 38,
   "metadata": {},
   "outputs": [
    {
     "name": "stdout",
     "output_type": "stream",
     "text": [
      "2017-07-25 00:11:02,684 INFO sqlalchemy.engine.base.Engine SELECT user.user_id AS user_user_id, user.user_name AS user_user_name, user.user_email AS user_user_email \n",
      "FROM user \n",
      "WHERE user.user_name = ?\n",
      "2017-07-25 00:11:02,686 INFO sqlalchemy.engine.base.Engine ('Noah',)\n"
     ]
    },
    {
     "data": {
      "text/plain": [
       "[<User('Noah', 'Noah@test.com')>]"
      ]
     },
     "execution_count": 38,
     "metadata": {},
     "output_type": "execute_result"
    }
   ],
   "source": [
    "session.query(User).filter(User.user_name == 'Noah').all()"
   ]
  },
  {
   "cell_type": "code",
   "execution_count": 39,
   "metadata": {},
   "outputs": [
    {
     "name": "stdout",
     "output_type": "stream",
     "text": [
      "2017-07-25 00:11:03,685 INFO sqlalchemy.engine.base.Engine SELECT user.user_id AS user_user_id, user.user_name AS user_user_name, user.user_email AS user_user_email \n",
      "FROM user \n",
      "WHERE user.user_name = ?\n",
      " LIMIT ? OFFSET ?\n",
      "2017-07-25 00:11:03,688 INFO sqlalchemy.engine.base.Engine ('Noah', 1, 0)\n"
     ]
    },
    {
     "data": {
      "text/plain": [
       "<User('Noah', 'Noah@test.com')>"
      ]
     },
     "execution_count": 39,
     "metadata": {},
     "output_type": "execute_result"
    }
   ],
   "source": [
    "session.query(User).filter(User.user_name == 'Noah').first()"
   ]
  },
  {
   "cell_type": "code",
   "execution_count": 40,
   "metadata": {},
   "outputs": [
    {
     "name": "stdout",
     "output_type": "stream",
     "text": [
      "2017-07-25 00:11:07,022 INFO sqlalchemy.engine.base.Engine SELECT user.user_id AS user_user_id, user.user_name AS user_user_name, user.user_email AS user_user_email \n",
      "FROM user \n",
      "WHERE user.user_name >= ?\n",
      "2017-07-25 00:11:07,025 INFO sqlalchemy.engine.base.Engine ('Noah',)\n"
     ]
    },
    {
     "data": {
      "text/plain": [
       "[<User('Noah', 'Noah@test.com')>,\n",
       " <User('Oliver', 'Oliver@test.com')>,\n",
       " <User('Steven', 'Steven@test.com')>]"
      ]
     },
     "execution_count": 40,
     "metadata": {},
     "output_type": "execute_result"
    }
   ],
   "source": [
    "session.query(User).filter(User.user_name >= 'Noah').all()"
   ]
  },
  {
   "cell_type": "markdown",
   "metadata": {},
   "source": [
    "Clauseelements"
   ]
  },
  {
   "cell_type": "code",
   "execution_count": 43,
   "metadata": {},
   "outputs": [
    {
     "name": "stdout",
     "output_type": "stream",
     "text": [
      "2017-07-25 00:12:37,559 INFO sqlalchemy.engine.base.Engine SELECT user.user_id AS user_user_id, user.user_name AS user_user_name, user.user_email AS user_user_email \n",
      "FROM user \n",
      "WHERE user.user_name LIKE ?\n",
      "2017-07-25 00:12:37,561 INFO sqlalchemy.engine.base.Engine ('%oa%',)\n"
     ]
    },
    {
     "data": {
      "text/plain": [
       "[<User('Noah', 'Noah@test.com')>]"
      ]
     },
     "execution_count": 43,
     "metadata": {},
     "output_type": "execute_result"
    }
   ],
   "source": [
    "session.query(User).filter(User.user_name.like('%oa%')).all()"
   ]
  },
  {
   "cell_type": "markdown",
   "metadata": {},
   "source": [
    "Clauseelement methods\n",
    "- between(cleft, cright): Find where the column is between cleft and cright\n",
    "- distinct(): Find only unique values for column\n",
    "- in\\_([list]): Find where the column is in the list\n",
    "- in\\_(None): Find where the column is None\n",
    "- contains('string'): Find where the column has 'string' in it\n",
    "- endwith('string'): Find where the column ends with 'string'\n",
    "- startwith('string'): Find whre the column begins with 'string'\n",
    "- lke('string'): Find where the column is like 'string'"
   ]
  },
  {
   "cell_type": "markdown",
   "metadata": {},
   "source": [
    "Conjunctions"
   ]
  },
  {
   "cell_type": "markdown",
   "metadata": {},
   "source": [
    "Update"
   ]
  },
  {
   "cell_type": "code",
   "execution_count": 46,
   "metadata": {},
   "outputs": [
    {
     "name": "stdout",
     "output_type": "stream",
     "text": [
      "2017-07-25 00:19:25,927 INFO sqlalchemy.engine.base.Engine SELECT user.user_id AS user_user_id, user.user_name AS user_user_name, user.user_email AS user_user_email \n",
      "FROM user \n",
      "WHERE user.user_name = ?\n",
      " LIMIT ? OFFSET ?\n",
      "2017-07-25 00:19:25,930 INFO sqlalchemy.engine.base.Engine ('Oliver', 1, 0)\n"
     ]
    }
   ],
   "source": [
    "oliver = session.query(User).filter(User.user_name == 'Oliver').first()"
   ]
  },
  {
   "cell_type": "code",
   "execution_count": 48,
   "metadata": {},
   "outputs": [
    {
     "name": "stdout",
     "output_type": "stream",
     "text": [
      "2017-07-25 00:20:01,413 INFO sqlalchemy.engine.base.Engine COMMIT\n"
     ]
    }
   ],
   "source": [
    "oliver.user_mail = \"oliver@sample.com\"\n",
    "session.commit()"
   ]
  },
  {
   "cell_type": "code",
   "execution_count": 50,
   "metadata": {},
   "outputs": [
    {
     "name": "stdout",
     "output_type": "stream",
     "text": [
      "oliver@sample.com\n"
     ]
    }
   ],
   "source": [
    "print(oliver.user_mail)"
   ]
  },
  {
   "cell_type": "markdown",
   "metadata": {},
   "source": [
    "Delete"
   ]
  },
  {
   "cell_type": "code",
   "execution_count": 51,
   "metadata": {},
   "outputs": [
    {
     "name": "stdout",
     "output_type": "stream",
     "text": [
      "2017-07-25 00:21:52,307 INFO sqlalchemy.engine.base.Engine SELECT user.user_id AS user_user_id, user.user_name AS user_user_name, user.user_email AS user_user_email \n",
      "FROM user \n",
      "WHERE user.user_name = ?\n",
      " LIMIT ? OFFSET ?\n",
      "2017-07-25 00:21:52,310 INFO sqlalchemy.engine.base.Engine ('Oliver', 1, 0)\n"
     ]
    }
   ],
   "source": [
    "oliver = session.query(User).filter(User.user_name == 'Oliver').first()"
   ]
  },
  {
   "cell_type": "code",
   "execution_count": 53,
   "metadata": {},
   "outputs": [
    {
     "name": "stdout",
     "output_type": "stream",
     "text": [
      "2017-07-25 00:22:34,219 INFO sqlalchemy.engine.base.Engine DELETE FROM user WHERE user.user_id = ?\n",
      "2017-07-25 00:22:34,222 INFO sqlalchemy.engine.base.Engine (6,)\n",
      "2017-07-25 00:22:34,227 INFO sqlalchemy.engine.base.Engine COMMIT\n"
     ]
    }
   ],
   "source": [
    "session.delete(oliver)\n",
    "session.commit()"
   ]
  },
  {
   "cell_type": "code",
   "execution_count": 54,
   "metadata": {},
   "outputs": [
    {
     "name": "stdout",
     "output_type": "stream",
     "text": [
      "2017-07-25 00:22:45,591 INFO sqlalchemy.engine.base.Engine BEGIN (implicit)\n",
      "2017-07-25 00:22:45,594 INFO sqlalchemy.engine.base.Engine SELECT user.user_id AS user_user_id, user.user_name AS user_user_name, user.user_email AS user_user_email \n",
      "FROM user \n",
      "WHERE user.user_name = ?\n",
      " LIMIT ? OFFSET ?\n",
      "2017-07-25 00:22:45,597 INFO sqlalchemy.engine.base.Engine ('Oliver', 1, 0)\n"
     ]
    }
   ],
   "source": [
    "oliver = session.query(User).filter(User.user_name == 'Oliver').first()"
   ]
  },
  {
   "cell_type": "code",
   "execution_count": 55,
   "metadata": {},
   "outputs": [
    {
     "name": "stdout",
     "output_type": "stream",
     "text": [
      "None\n"
     ]
    }
   ],
   "source": [
    "print(oliver)"
   ]
  },
  {
   "cell_type": "code",
   "execution_count": null,
   "metadata": {
    "collapsed": true
   },
   "outputs": [],
   "source": []
  }
 ],
 "metadata": {
  "kernelspec": {
   "display_name": "Python 3",
   "language": "python",
   "name": "python3"
  },
  "language_info": {
   "codemirror_mode": {
    "name": "ipython",
    "version": 3
   },
   "file_extension": ".py",
   "mimetype": "text/x-python",
   "name": "python",
   "nbconvert_exporter": "python",
   "pygments_lexer": "ipython3",
   "version": "3.6.0"
  }
 },
 "nbformat": 4,
 "nbformat_minor": 2
}
