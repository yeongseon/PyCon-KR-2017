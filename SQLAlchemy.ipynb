{
 "cells": [
  {
   "cell_type": "markdown",
   "metadata": {},
   "source": [
    "Installation"
   ]
  },
  {
   "cell_type": "markdown",
   "metadata": {},
   "source": [
    "pip install sqlalchemy"
   ]
  },
  {
   "cell_type": "markdown",
   "metadata": {},
   "source": [
    "Connection"
   ]
  },
  {
   "cell_type": "code",
   "execution_count": 1,
   "metadata": {
    "collapsed": true
   },
   "outputs": [],
   "source": [
    "from sqlalchemy import create_engine"
   ]
  },
  {
   "cell_type": "code",
   "execution_count": 2,
   "metadata": {
    "collapsed": true
   },
   "outputs": [],
   "source": [
    "engine = create_engine(\"sqlite:///testdb.sqlite\", echo=True, convert_unicode=True)"
   ]
  },
  {
   "cell_type": "markdown",
   "metadata": {},
   "source": [
    "Mapping"
   ]
  },
  {
   "cell_type": "code",
   "execution_count": 3,
   "metadata": {
    "collapsed": true
   },
   "outputs": [],
   "source": [
    "from sqlalchemy.ext.declarative import declarative_base"
   ]
  },
  {
   "cell_type": "code",
   "execution_count": 4,
   "metadata": {
    "collapsed": true
   },
   "outputs": [],
   "source": [
    "Base = declarative_base()"
   ]
  },
  {
   "cell_type": "markdown",
   "metadata": {
    "collapsed": true
   },
   "source": [
    "Defining models"
   ]
  },
  {
   "cell_type": "markdown",
   "metadata": {},
   "source": [
    "| User                         ||\n",
    "| :------------ | :-----------: |\n",
    "| user_id       | int           |\n",
    "| user_name     | varchar(32)   |\n",
    "| user_email    | varchar(32)   |\n",
    "\n",
    "| Program                      ||\n",
    "| :------------ | :-----------: |\n",
    "| program_id    | int           |\n",
    "| program_name  | varchar(32)   |\n",
    "| user_id       | varchar(32)   |\n",
    "\n",
    "| ProgramEnrollment            ||\n",
    "| :------------ | :-----------: |\n",
    "| program_id    | int           |\n",
    "| user_id       | int           |\n"
   ]
  },
  {
   "cell_type": "code",
   "execution_count": 5,
   "metadata": {
    "collapsed": true
   },
   "outputs": [],
   "source": [
    "from sqlalchemy import Column, Integer, String"
   ]
  },
  {
   "cell_type": "code",
   "execution_count": 6,
   "metadata": {},
   "outputs": [],
   "source": [
    "class User(Base):\n",
    "    __tablename__ = \"user\"\n",
    "    user_id = Column(Integer, primary_key=True)\n",
    "    user_name = Column(String(32), unique=True)\n",
    "    user_email = Column(String(32), unique=True)\n",
    "    \n",
    "    def __init__(self, user_name, user_email):\n",
    "        self.user_name = user_name\n",
    "        self.user_email = user_email\n",
    "    \n",
    "    def __repr__(self):\n",
    "        return \"<User('%s', '%s')>\" % (self.user_name, self.user_email)"
   ]
  },
  {
   "cell_type": "code",
   "execution_count": 7,
   "metadata": {},
   "outputs": [],
   "source": [
    "class Program(Base):\n",
    "    __tablename__ = \"speaker\"\n",
    "    program_id = Column(Integer, primary_key=True)\n",
    "    user_id = Column(Integer, unique=True)\n",
    "    \n",
    "    def __init__(self, program_id, user_id):\n",
    "        self.program_id = program_id\n",
    "        self.user_id = user_id\n",
    "        \n",
    "    def __repr__(self):\n",
    "        return \"<Program('%d', '%d')\" % (self.program_id, self.user_id)"
   ]
  },
  {
   "cell_type": "code",
   "execution_count": 8,
   "metadata": {},
   "outputs": [],
   "source": [
    "class ProgramEnrollment(Base):\n",
    "    __tablename__ = \"program_entrollment\"\n",
    "    program_id = Column(Integer, primary_key = True)\n",
    "    user_id = Column(Integer, primary_key = True)   \n",
    "    \n",
    "    def __init__(self, program_id, user_id):\n",
    "        self.program_id = program_id\n",
    "        self.user_id = user_id\n",
    "    \n",
    "    def __repr__(self):\n",
    "        return \"<ProgramEnrollment('%s', '%s')\" % (self.program_id, self.user_id)\n",
    "    "
   ]
  },
  {
   "cell_type": "markdown",
   "metadata": {},
   "source": [
    "Metadata"
   ]
  },
  {
   "cell_type": "code",
   "execution_count": 9,
   "metadata": {},
   "outputs": [
    {
     "data": {
      "text/plain": [
       "Table('user', MetaData(bind=None), Column('user_id', Integer(), table=<user>, primary_key=True, nullable=False), Column('user_name', String(length=32), table=<user>), Column('user_email', String(length=32), table=<user>), schema=None)"
      ]
     },
     "execution_count": 9,
     "metadata": {},
     "output_type": "execute_result"
    }
   ],
   "source": [
    "User.__table__"
   ]
  },
  {
   "cell_type": "code",
   "execution_count": 10,
   "metadata": {},
   "outputs": [
    {
     "data": {
      "text/plain": [
       "Table('speaker', MetaData(bind=None), Column('program_id', Integer(), table=<speaker>, primary_key=True, nullable=False), Column('user_id', Integer(), table=<speaker>), schema=None)"
      ]
     },
     "execution_count": 10,
     "metadata": {},
     "output_type": "execute_result"
    }
   ],
   "source": [
    "Program.__table__"
   ]
  },
  {
   "cell_type": "code",
   "execution_count": 11,
   "metadata": {},
   "outputs": [
    {
     "data": {
      "text/plain": [
       "Table('program_entrollment', MetaData(bind=None), Column('program_id', Integer(), table=<program_entrollment>, primary_key=True, nullable=False), Column('user_id', Integer(), table=<program_entrollment>, primary_key=True, nullable=False), schema=None)"
      ]
     },
     "execution_count": 11,
     "metadata": {},
     "output_type": "execute_result"
    }
   ],
   "source": [
    "ProgramEnrollment.__table__"
   ]
  },
  {
   "cell_type": "markdown",
   "metadata": {},
   "source": [
    "Mapper Class"
   ]
  },
  {
   "cell_type": "code",
   "execution_count": 12,
   "metadata": {},
   "outputs": [
    {
     "data": {
      "text/plain": [
       "<Mapper at 0x1fff9764160; User>"
      ]
     },
     "execution_count": 12,
     "metadata": {},
     "output_type": "execute_result"
    }
   ],
   "source": [
    "User.__mapper__"
   ]
  },
  {
   "cell_type": "code",
   "execution_count": 13,
   "metadata": {},
   "outputs": [
    {
     "data": {
      "text/plain": [
       "<Mapper at 0x1fff9764048; Program>"
      ]
     },
     "execution_count": 13,
     "metadata": {},
     "output_type": "execute_result"
    }
   ],
   "source": [
    "Program.__mapper__"
   ]
  },
  {
   "cell_type": "code",
   "execution_count": 14,
   "metadata": {},
   "outputs": [
    {
     "data": {
      "text/plain": [
       "<Mapper at 0x1fff97956d8; ProgramEnrollment>"
      ]
     },
     "execution_count": 14,
     "metadata": {},
     "output_type": "execute_result"
    }
   ],
   "source": [
    "ProgramEnrollment.__mapper__"
   ]
  },
  {
   "cell_type": "markdown",
   "metadata": {},
   "source": [
    "Create databae"
   ]
  },
  {
   "cell_type": "code",
   "execution_count": 15,
   "metadata": {},
   "outputs": [
    {
     "name": "stdout",
     "output_type": "stream",
     "text": [
      "2017-07-23 22:40:13,831 INFO sqlalchemy.engine.base.Engine SELECT CAST('test plain returns' AS VARCHAR(60)) AS anon_1\n",
      "2017-07-23 22:40:13,843 INFO sqlalchemy.engine.base.Engine ()\n",
      "2017-07-23 22:40:13,848 INFO sqlalchemy.engine.base.Engine SELECT CAST('test unicode returns' AS VARCHAR(60)) AS anon_1\n",
      "2017-07-23 22:40:13,850 INFO sqlalchemy.engine.base.Engine ()\n",
      "2017-07-23 22:40:13,854 INFO sqlalchemy.engine.base.Engine PRAGMA table_info(\"user\")\n",
      "2017-07-23 22:40:13,856 INFO sqlalchemy.engine.base.Engine ()\n",
      "2017-07-23 22:40:13,861 INFO sqlalchemy.engine.base.Engine PRAGMA table_info(\"speaker\")\n",
      "2017-07-23 22:40:13,863 INFO sqlalchemy.engine.base.Engine ()\n",
      "2017-07-23 22:40:13,868 INFO sqlalchemy.engine.base.Engine PRAGMA table_info(\"program_entrollment\")\n",
      "2017-07-23 22:40:13,870 INFO sqlalchemy.engine.base.Engine ()\n",
      "2017-07-23 22:40:13,873 INFO sqlalchemy.engine.base.Engine \n",
      "CREATE TABLE user (\n",
      "\tuser_id INTEGER NOT NULL, \n",
      "\tuser_name VARCHAR(32), \n",
      "\tuser_email VARCHAR(32), \n",
      "\tPRIMARY KEY (user_id), \n",
      "\tUNIQUE (user_name), \n",
      "\tUNIQUE (user_email)\n",
      ")\n",
      "\n",
      "\n",
      "2017-07-23 22:40:13,875 INFO sqlalchemy.engine.base.Engine ()\n",
      "2017-07-23 22:40:13,910 INFO sqlalchemy.engine.base.Engine COMMIT\n",
      "2017-07-23 22:40:13,913 INFO sqlalchemy.engine.base.Engine \n",
      "CREATE TABLE speaker (\n",
      "\tprogram_id INTEGER NOT NULL, \n",
      "\tuser_id INTEGER, \n",
      "\tPRIMARY KEY (program_id), \n",
      "\tUNIQUE (user_id)\n",
      ")\n",
      "\n",
      "\n",
      "2017-07-23 22:40:13,915 INFO sqlalchemy.engine.base.Engine ()\n",
      "2017-07-23 22:40:13,949 INFO sqlalchemy.engine.base.Engine COMMIT\n",
      "2017-07-23 22:40:13,952 INFO sqlalchemy.engine.base.Engine \n",
      "CREATE TABLE program_entrollment (\n",
      "\tprogram_id INTEGER NOT NULL, \n",
      "\tuser_id INTEGER NOT NULL, \n",
      "\tPRIMARY KEY (program_id, user_id)\n",
      ")\n",
      "\n",
      "\n",
      "2017-07-23 22:40:13,954 INFO sqlalchemy.engine.base.Engine ()\n",
      "2017-07-23 22:40:13,978 INFO sqlalchemy.engine.base.Engine COMMIT\n"
     ]
    }
   ],
   "source": [
    "Base.metadata.create_all(bind=engine)"
   ]
  },
  {
   "cell_type": "code",
   "execution_count": null,
   "metadata": {
    "collapsed": true
   },
   "outputs": [],
   "source": []
  },
  {
   "cell_type": "markdown",
   "metadata": {},
   "source": [
    "Session"
   ]
  },
  {
   "cell_type": "code",
   "execution_count": 16,
   "metadata": {
    "collapsed": true
   },
   "outputs": [],
   "source": [
    "from sqlalchemy.orm import sessionmaker"
   ]
  },
  {
   "cell_type": "markdown",
   "metadata": {},
   "source": [
    "1. create Session class"
   ]
  },
  {
   "cell_type": "code",
   "execution_count": 17,
   "metadata": {
    "collapsed": true
   },
   "outputs": [],
   "source": [
    "Session1 = sessionmaker(bind=engine)"
   ]
  },
  {
   "cell_type": "code",
   "execution_count": 18,
   "metadata": {},
   "outputs": [
    {
     "data": {
      "text/plain": [
       "sessionmaker(class_='Session',bind=Engine(sqlite:///testdb.sqlite), autoflush=True, autocommit=False, expire_on_commit=True)"
      ]
     },
     "execution_count": 18,
     "metadata": {},
     "output_type": "execute_result"
    }
   ],
   "source": [
    "Session1"
   ]
  },
  {
   "cell_type": "markdown",
   "metadata": {},
   "source": [
    "2. "
   ]
  },
  {
   "cell_type": "code",
   "execution_count": 19,
   "metadata": {},
   "outputs": [],
   "source": [
    "Session2 = sessionmaker()"
   ]
  },
  {
   "cell_type": "code",
   "execution_count": 20,
   "metadata": {},
   "outputs": [
    {
     "data": {
      "text/plain": [
       "sessionmaker(class_='Session',bind=None, autoflush=True, autocommit=False, expire_on_commit=True)"
      ]
     },
     "execution_count": 20,
     "metadata": {},
     "output_type": "execute_result"
    }
   ],
   "source": [
    "Session2"
   ]
  },
  {
   "cell_type": "code",
   "execution_count": 21,
   "metadata": {},
   "outputs": [],
   "source": [
    "Session2.configure(bind=engine)"
   ]
  },
  {
   "cell_type": "code",
   "execution_count": 22,
   "metadata": {},
   "outputs": [
    {
     "data": {
      "text/plain": [
       "sessionmaker(class_='Session',bind=Engine(sqlite:///testdb.sqlite), autoflush=True, autocommit=False, expire_on_commit=True)"
      ]
     },
     "execution_count": 22,
     "metadata": {},
     "output_type": "execute_result"
    }
   ],
   "source": [
    "Session2"
   ]
  },
  {
   "cell_type": "code",
   "execution_count": 23,
   "metadata": {
    "collapsed": true
   },
   "outputs": [],
   "source": [
    "session = Session1()"
   ]
  },
  {
   "cell_type": "code",
   "execution_count": 24,
   "metadata": {},
   "outputs": [
    {
     "data": {
      "text/plain": [
       "<sqlalchemy.orm.session.Session at 0x1fff9767cc0>"
      ]
     },
     "execution_count": 24,
     "metadata": {},
     "output_type": "execute_result"
    }
   ],
   "source": [
    "session"
   ]
  },
  {
   "cell_type": "markdown",
   "metadata": {
    "collapsed": true
   },
   "source": [
    "Insert"
   ]
  },
  {
   "cell_type": "code",
   "execution_count": 25,
   "metadata": {},
   "outputs": [],
   "source": [
    "user = User(\"Yeongseon Choe\", \"yeongseon.choe@gmail.com\")"
   ]
  },
  {
   "cell_type": "code",
   "execution_count": 26,
   "metadata": {},
   "outputs": [
    {
     "data": {
      "text/plain": [
       "<User('Yeongseon Choe', 'yeongseon.choe@gmail.com')>"
      ]
     },
     "execution_count": 26,
     "metadata": {},
     "output_type": "execute_result"
    }
   ],
   "source": [
    "user"
   ]
  },
  {
   "cell_type": "code",
   "execution_count": 27,
   "metadata": {},
   "outputs": [
    {
     "name": "stdout",
     "output_type": "stream",
     "text": [
      "2017-07-23 22:40:14,365 INFO sqlalchemy.engine.base.Engine BEGIN (implicit)\n",
      "2017-07-23 22:40:14,370 INFO sqlalchemy.engine.base.Engine INSERT INTO user (user_name, user_email) VALUES (?, ?)\n",
      "2017-07-23 22:40:14,373 INFO sqlalchemy.engine.base.Engine ('Yeongseon Choe', 'yeongseon.choe@gmail.com')\n",
      "2017-07-23 22:40:14,383 INFO sqlalchemy.engine.base.Engine COMMIT\n"
     ]
    }
   ],
   "source": [
    "session.add(user)\n",
    "session.commit()"
   ]
  },
  {
   "cell_type": "code",
   "execution_count": 28,
   "metadata": {},
   "outputs": [
    {
     "name": "stdout",
     "output_type": "stream",
     "text": [
      "2017-07-23 22:40:14,428 INFO sqlalchemy.engine.base.Engine BEGIN (implicit)\n",
      "2017-07-23 22:40:14,430 INFO sqlalchemy.engine.base.Engine INSERT INTO user (user_name, user_email) VALUES (?, ?)\n",
      "2017-07-23 22:40:14,432 INFO sqlalchemy.engine.base.Engine ('Noah', 'Noah@test.com')\n",
      "2017-07-23 22:40:14,446 INFO sqlalchemy.engine.base.Engine INSERT INTO user (user_name, user_email) VALUES (?, ?)\n",
      "2017-07-23 22:40:14,447 INFO sqlalchemy.engine.base.Engine ('Liam', 'Liam@test.com')\n",
      "2017-07-23 22:40:14,449 INFO sqlalchemy.engine.base.Engine INSERT INTO user (user_name, user_email) VALUES (?, ?)\n",
      "2017-07-23 22:40:14,451 INFO sqlalchemy.engine.base.Engine ('Ethan', 'Ethan@test.com')\n",
      "2017-07-23 22:40:14,453 INFO sqlalchemy.engine.base.Engine COMMIT\n"
     ]
    }
   ],
   "source": [
    "session.add_all([\n",
    "    User(\"Noah\", \"Noah@test.com\"),\n",
    "    User(\"Liam\", \"Liam@test.com\"),\n",
    "    User(\"Ethan\", \"Ethan@test.com\")]\n",
    ")\n",
    "session.commit()"
   ]
  },
  {
   "cell_type": "markdown",
   "metadata": {},
   "source": [
    "Bulk Inserts"
   ]
  },
  {
   "cell_type": "code",
   "execution_count": 29,
   "metadata": {},
   "outputs": [
    {
     "name": "stdout",
     "output_type": "stream",
     "text": [
      "2017-07-23 22:40:14,502 INFO sqlalchemy.engine.base.Engine BEGIN (implicit)\n",
      "2017-07-23 22:40:14,505 INFO sqlalchemy.engine.base.Engine INSERT INTO user (user_name, user_email) VALUES (?, ?)\n",
      "2017-07-23 22:40:14,510 INFO sqlalchemy.engine.base.Engine (('Lucas', 'Lucas@test.com'), ('Oliver', 'Oliver@test.com'), ('James', 'James@test.com'))\n",
      "2017-07-23 22:40:14,521 INFO sqlalchemy.engine.base.Engine COMMIT\n"
     ]
    }
   ],
   "source": [
    "user1 = User(\"Lucas\", \"Lucas@test.com\")\n",
    "user2 = User(\"Oliver\", \"Oliver@test.com\")\n",
    "user3 = User(\"James\", \"James@test.com\")\n",
    "\n",
    "session.bulk_save_objects([user1, user2, user3])\n",
    "session.commit()"
   ]
  },
  {
   "cell_type": "markdown",
   "metadata": {},
   "source": [
    "query\n",
    "\n",
    "attributes\n",
    "- all\n",
    "- filter\n",
    "- filter_by"
   ]
  },
  {
   "cell_type": "code",
   "execution_count": 32,
   "metadata": {},
   "outputs": [
    {
     "name": "stdout",
     "output_type": "stream",
     "text": [
      "2017-07-23 22:41:42,231 INFO sqlalchemy.engine.base.Engine SELECT user.user_id AS user_user_id, user.user_name AS user_user_name, user.user_email AS user_user_email \n",
      "FROM user\n",
      "2017-07-23 22:41:42,234 INFO sqlalchemy.engine.base.Engine ()\n"
     ]
    }
   ],
   "source": [
    "users = session.query(User).all()"
   ]
  },
  {
   "cell_type": "code",
   "execution_count": 33,
   "metadata": {},
   "outputs": [
    {
     "name": "stdout",
     "output_type": "stream",
     "text": [
      "[<User('Yeongseon Choe', 'yeongseon.choe@gmail.com')>, <User('Noah', 'Noah@test.com')>, <User('Liam', 'Liam@test.com')>, <User('Ethan', 'Ethan@test.com')>, <User('Lucas', 'Lucas@test.com')>, <User('Oliver', 'Oliver@test.com')>, <User('James', 'James@test.com')>]\n"
     ]
    }
   ],
   "source": [
    "print(users)"
   ]
  },
  {
   "cell_type": "markdown",
   "metadata": {},
   "source": [
    "Iterator"
   ]
  },
  {
   "cell_type": "code",
   "execution_count": 34,
   "metadata": {},
   "outputs": [
    {
     "name": "stdout",
     "output_type": "stream",
     "text": [
      "2017-07-23 22:42:41,698 INFO sqlalchemy.engine.base.Engine SELECT user.user_id AS user_user_id, user.user_name AS user_user_name, user.user_email AS user_user_email \n",
      "FROM user\n",
      "2017-07-23 22:42:41,701 INFO sqlalchemy.engine.base.Engine ()\n",
      "<User('Yeongseon Choe', 'yeongseon.choe@gmail.com')>\n",
      "<User('Noah', 'Noah@test.com')>\n",
      "<User('Liam', 'Liam@test.com')>\n",
      "<User('Ethan', 'Ethan@test.com')>\n",
      "<User('Lucas', 'Lucas@test.com')>\n",
      "<User('Oliver', 'Oliver@test.com')>\n",
      "<User('James', 'James@test.com')>\n"
     ]
    }
   ],
   "source": [
    "for user in session.query(User):\n",
    "    print(user)"
   ]
  },
  {
   "cell_type": "code",
   "execution_count": 42,
   "metadata": {},
   "outputs": [
    {
     "name": "stdout",
     "output_type": "stream",
     "text": [
      "2017-07-23 22:50:18,608 INFO sqlalchemy.engine.base.Engine SELECT user.user_id AS user_user_id, user.user_name AS user_user_name, user.user_email AS user_user_email \n",
      "FROM user ORDER BY user.user_email\n",
      "2017-07-23 22:50:18,611 INFO sqlalchemy.engine.base.Engine ()\n",
      "<User('Ethan', 'Ethan@test.com')>\n",
      "<User('James', 'James@test.com')>\n",
      "<User('Liam', 'Liam@test.com')>\n",
      "<User('Lucas', 'Lucas@test.com')>\n",
      "<User('Noah', 'Noah@test.com')>\n",
      "<User('Oliver', 'Oliver@test.com')>\n",
      "<User('Yeongseon Choe', 'yeongseon.choe@gmail.com')>\n"
     ]
    }
   ],
   "source": [
    "for user in session.query(User).order_by(User.user_email):\n",
    "    print(user)"
   ]
  },
  {
   "cell_type": "markdown",
   "metadata": {},
   "source": [
    "Decending"
   ]
  },
  {
   "cell_type": "code",
   "execution_count": 44,
   "metadata": {},
   "outputs": [
    {
     "name": "stdout",
     "output_type": "stream",
     "text": [
      "2017-07-23 22:51:34,577 INFO sqlalchemy.engine.base.Engine SELECT user.user_id AS user_user_id, user.user_name AS user_user_name, user.user_email AS user_user_email \n",
      "FROM user ORDER BY user.user_email DESC\n",
      "2017-07-23 22:51:34,579 INFO sqlalchemy.engine.base.Engine ()\n",
      "<User('Yeongseon Choe', 'yeongseon.choe@gmail.com')>\n",
      "<User('Oliver', 'Oliver@test.com')>\n",
      "<User('Noah', 'Noah@test.com')>\n",
      "<User('Lucas', 'Lucas@test.com')>\n",
      "<User('Liam', 'Liam@test.com')>\n",
      "<User('James', 'James@test.com')>\n",
      "<User('Ethan', 'Ethan@test.com')>\n"
     ]
    }
   ],
   "source": [
    "from sqlalchemy import desc\n",
    "for user in session.query(User).order_by(desc(User.user_email)):\n",
    "    print(user)"
   ]
  },
  {
   "cell_type": "markdown",
   "metadata": {},
   "source": [
    "query filter\n",
    "\n",
    "Usage: .filter(<질의 클래스.질의 칼럼> <비교연산자> <비교값>)"
   ]
  },
  {
   "cell_type": "code",
   "execution_count": 39,
   "metadata": {},
   "outputs": [
    {
     "name": "stdout",
     "output_type": "stream",
     "text": [
      "2017-07-23 22:48:13,304 INFO sqlalchemy.engine.base.Engine SELECT user.user_id AS user_user_id, user.user_name AS user_user_name, user.user_email AS user_user_email \n",
      "FROM user \n",
      "WHERE user.user_name = ?\n",
      "2017-07-23 22:48:13,307 INFO sqlalchemy.engine.base.Engine ('Noah',)\n"
     ]
    },
    {
     "data": {
      "text/plain": [
       "[<User('Noah', 'Noah@test.com')>]"
      ]
     },
     "execution_count": 39,
     "metadata": {},
     "output_type": "execute_result"
    }
   ],
   "source": [
    "session.query(User).filter(User.user_name == 'Noah').all()"
   ]
  },
  {
   "cell_type": "code",
   "execution_count": 40,
   "metadata": {},
   "outputs": [
    {
     "name": "stdout",
     "output_type": "stream",
     "text": [
      "2017-07-23 22:48:22,700 INFO sqlalchemy.engine.base.Engine SELECT user.user_id AS user_user_id, user.user_name AS user_user_name, user.user_email AS user_user_email \n",
      "FROM user \n",
      "WHERE user.user_name = ?\n",
      " LIMIT ? OFFSET ?\n",
      "2017-07-23 22:48:22,703 INFO sqlalchemy.engine.base.Engine ('Noah', 1, 0)\n"
     ]
    },
    {
     "data": {
      "text/plain": [
       "<User('Noah', 'Noah@test.com')>"
      ]
     },
     "execution_count": 40,
     "metadata": {},
     "output_type": "execute_result"
    }
   ],
   "source": [
    "session.query(User).filter(User.user_name == 'Noah').first()"
   ]
  },
  {
   "cell_type": "code",
   "execution_count": 41,
   "metadata": {},
   "outputs": [
    {
     "name": "stdout",
     "output_type": "stream",
     "text": [
      "2017-07-23 22:48:40,043 INFO sqlalchemy.engine.base.Engine SELECT user.user_id AS user_user_id, user.user_name AS user_user_name, user.user_email AS user_user_email \n",
      "FROM user \n",
      "WHERE user.user_name >= ?\n",
      "2017-07-23 22:48:40,046 INFO sqlalchemy.engine.base.Engine ('Noah',)\n"
     ]
    },
    {
     "data": {
      "text/plain": [
       "[<User('Noah', 'Noah@test.com')>,\n",
       " <User('Oliver', 'Oliver@test.com')>,\n",
       " <User('Yeongseon Choe', 'yeongseon.choe@gmail.com')>]"
      ]
     },
     "execution_count": 41,
     "metadata": {},
     "output_type": "execute_result"
    }
   ],
   "source": [
    "session.query(User).filter(User.user_name >= 'Noah').all()"
   ]
  },
  {
   "cell_type": "code",
   "execution_count": null,
   "metadata": {
    "collapsed": true
   },
   "outputs": [],
   "source": []
  }
 ],
 "metadata": {
  "kernelspec": {
   "display_name": "Python 3",
   "language": "python",
   "name": "python3"
  },
  "language_info": {
   "codemirror_mode": {
    "name": "ipython",
    "version": 3
   },
   "file_extension": ".py",
   "mimetype": "text/x-python",
   "name": "python",
   "nbconvert_exporter": "python",
   "pygments_lexer": "ipython3",
   "version": "3.6.0"
  }
 },
 "nbformat": 4,
 "nbformat_minor": 2
}
